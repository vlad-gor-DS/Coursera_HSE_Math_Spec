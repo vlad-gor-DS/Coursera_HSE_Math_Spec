{
 "cells": [
  {
   "cell_type": "markdown",
   "metadata": {},
   "source": [
    "## Задачи по программированию к лекции 1"
   ]
  },
  {
   "cell_type": "markdown",
   "metadata": {},
   "source": [
    "В этой лабораторной работе мы потренируемся совершать простейшие операции с векторами. Пока что нам понабится только один модуль `numpy`. "
   ]
  },
  {
   "cell_type": "code",
   "execution_count": null,
   "metadata": {
    "ExecuteTime": {
     "end_time": "2020-11-30T23:20:29.528181Z",
     "start_time": "2020-11-30T23:20:29.385481Z"
    }
   },
   "outputs": [],
   "source": [
    "import numpy as np"
   ]
  },
  {
   "cell_type": "markdown",
   "metadata": {},
   "source": [
    "### Задача 1. Ортогональность "
   ]
  },
  {
   "cell_type": "markdown",
   "metadata": {},
   "source": [
    "#### Напишите функцию, которая проверяет ортогональность для целочисленных векторов $a$ и $b$. \n",
    "\n",
    "На входе функция получает целочисленные вектора `a` и `b`. \n",
    "На выходе выдается `True`, если вектора ортогональны, или `False`, иначе."
   ]
  },
  {
   "cell_type": "code",
   "execution_count": null,
   "metadata": {
    "ExecuteTime": {
     "end_time": "2020-12-21T21:47:02.775502Z",
     "start_time": "2020-12-21T21:47:02.772344Z"
    },
    "deletable": false,
    "nbgrader": {
     "cell_type": "code",
     "checksum": "6f9799f142e19cfb92e9b44e68570e6c",
     "grade": false,
     "grade_id": "cell-8b837919b4a17db7",
     "locked": false,
     "schema_version": 3,
     "solution": true,
     "task": false
    }
   },
   "outputs": [],
   "source": [
    "def check_orthogonality(a, b):\n",
    "    a, b = np.array(a), np.array(b)\n",
    "    assert (a.dtype == int) & (b.dtype == int) # проверяем, что вектор целочисленный  \n",
    "    # код писать сюда \n",
    "    return # или сюда\n",
    "\n",
    "# your code here\n"
   ]
  },
  {
   "cell_type": "code",
   "execution_count": null,
   "metadata": {
    "ExecuteTime": {
     "end_time": "2020-11-21T18:58:28.363889Z",
     "start_time": "2020-11-21T18:58:28.354920Z"
    },
    "deletable": false,
    "editable": false,
    "nbgrader": {
     "cell_type": "code",
     "checksum": "8849908d639608d014307cfe9b20fc70",
     "grade": true,
     "grade_id": "cell-21f0bcfedd7518d8",
     "locked": true,
     "points": 1,
     "schema_version": 3,
     "solution": false,
     "task": false
    }
   },
   "outputs": [],
   "source": [
    "a = np.array([-28,  32,   4,  24,  40,   4]) \n",
    "b = np.array([ 6,  1, -5, -8,  7, 17])\n",
    "\n",
    "check = check_orthogonality(a, b)\n"
   ]
  },
  {
   "cell_type": "code",
   "execution_count": null,
   "metadata": {
    "ExecuteTime": {
     "end_time": "2020-11-30T23:00:49.530802Z",
     "start_time": "2020-11-30T23:00:49.516129Z"
    },
    "deletable": false,
    "editable": false,
    "nbgrader": {
     "cell_type": "code",
     "checksum": "1213dc8d3ae6d49a41201a747b38af02",
     "grade": true,
     "grade_id": "cell-1b7f26b711de1422",
     "locked": true,
     "points": 1,
     "schema_version": 3,
     "solution": false,
     "task": false
    }
   },
   "outputs": [],
   "source": [
    "a = np.array([  9, -15, -10,  -5,  -7,   3, -19])\n",
    "b = np.array([ 0,  3, -5, 12, -2, -3, 1])\n",
    "\n",
    "check = check_orthogonality(a, b)\n"
   ]
  },
  {
   "cell_type": "code",
   "execution_count": null,
   "metadata": {
    "ExecuteTime": {
     "end_time": "2020-11-21T19:00:19.911582Z",
     "start_time": "2020-11-21T19:00:19.896181Z"
    },
    "deletable": false,
    "editable": false,
    "nbgrader": {
     "cell_type": "code",
     "checksum": "6d33e5b5da08972699655b1c7f927ba8",
     "grade": true,
     "grade_id": "cell-d569b3ff736db6da",
     "locked": true,
     "points": 1,
     "schema_version": 3,
     "solution": false,
     "task": false
    }
   },
   "outputs": [],
   "source": [
    "a = np.array([-1,  3,  8, -9, -5, 13, 16, -1, -9,  4]) \n",
    "b = np.array([38, 34, 29, 46, 42, 24, 21, 38, 46, 33])\n",
    "\n",
    "check = check_orthogonality(a, b)\n"
   ]
  },
  {
   "cell_type": "markdown",
   "metadata": {
    "ExecuteTime": {
     "end_time": "2020-11-30T23:01:28.990264Z",
     "start_time": "2020-11-30T23:01:28.983378Z"
    }
   },
   "source": [
    "#### Модификация:  проверка ортогональности для любых векторов с заданной точностью \n",
    "\n",
    "Модифицируйте `check_orthogonality` так, чтобы функция работала для любых векторов с заданной точностью `epsilon = 1e-6`. \n",
    "\n",
    "На входе функция получает вектора `a`,`b` и задаваемую точность `epsilon` (которая будет равняться $10^{-6}$, если не указно иного  —  `epsilon = 1e-6`). На выходе выдается `True`, если модуль скалярного произведения `a` и `b` меньше `epsilon`, или `False`, иначе. "
   ]
  },
  {
   "cell_type": "code",
   "execution_count": null,
   "metadata": {
    "deletable": false,
    "nbgrader": {
     "cell_type": "code",
     "checksum": "1604cad319cb966fd4c3efc9c3c3f5e4",
     "grade": false,
     "grade_id": "cell-e3f8da58dfeb0ba1",
     "locked": false,
     "schema_version": 3,
     "solution": true,
     "task": false
    }
   },
   "outputs": [],
   "source": [
    "def check_orthogonality(a, b, epsilon = 1e-6):\n",
    "    a, b = np.array(a), np.array(b)\n",
    "    # код писать сюда \n",
    "    return # или сюда\n",
    "\n",
    "# your code here\n"
   ]
  },
  {
   "cell_type": "code",
   "execution_count": null,
   "metadata": {
    "ExecuteTime": {
     "end_time": "2020-11-30T23:47:16.749192Z",
     "start_time": "2020-11-30T23:47:16.746071Z"
    },
    "deletable": false,
    "editable": false,
    "nbgrader": {
     "cell_type": "code",
     "checksum": "48c3cef600454c3d9925739cd7629468",
     "grade": true,
     "grade_id": "cell-e39f73148fdbd932",
     "locked": true,
     "points": 1,
     "schema_version": 3,
     "solution": false,
     "task": false
    }
   },
   "outputs": [],
   "source": [
    "a = np.array([-28,  32,   4,  24,  40,   4]) \n",
    "b = np.array([ 6,  1.001, -5, -8,  7, 17])\n",
    "\n",
    "check = check_orthogonality(a, b)\n"
   ]
  },
  {
   "cell_type": "code",
   "execution_count": null,
   "metadata": {
    "ExecuteTime": {
     "end_time": "2020-11-30T23:18:11.961124Z",
     "start_time": "2020-11-30T23:18:11.958135Z"
    },
    "deletable": false,
    "editable": false,
    "nbgrader": {
     "cell_type": "code",
     "checksum": "ad2d8b565dce420e8f13fca1a485bb13",
     "grade": true,
     "grade_id": "cell-d10ad8ceb2b0b9c9",
     "locked": true,
     "points": 1,
     "schema_version": 3,
     "solution": false,
     "task": false
    }
   },
   "outputs": [],
   "source": [
    "a = np.array([-28,  32,   4,  24,  40,   4]) \n",
    "b = np.array([ 6,  1.000000000001, -5, -8,  7, 17])\n",
    "\n",
    "check = check_orthogonality(a, b)\n"
   ]
  }
 ],
 "metadata": {
  "hide_input": false,
  "kernelspec": {
   "display_name": "Python 3",
   "language": "python",
   "name": "python3"
  },
  "language_info": {
   "codemirror_mode": {
    "name": "ipython",
    "version": 3
   },
   "file_extension": ".py",
   "mimetype": "text/x-python",
   "name": "python",
   "nbconvert_exporter": "python",
   "pygments_lexer": "ipython3",
   "version": "3.7.6"
  },
  "latex_envs": {
   "LaTeX_envs_menu_present": true,
   "autoclose": true,
   "autocomplete": true,
   "bibliofile": "biblio.bib",
   "cite_by": "apalike",
   "current_citInitial": 1,
   "eqLabelWithNumbers": true,
   "eqNumInitial": 1,
   "hotkeys": {
    "equation": "Ctrl-E",
    "itemize": "Ctrl-I"
   },
   "labels_anchors": false,
   "latex_user_defs": false,
   "report_style_numbering": false,
   "user_envs_cfg": false
  },
  "toc": {
   "base_numbering": 1,
   "nav_menu": {},
   "number_sections": true,
   "sideBar": true,
   "skip_h1_title": false,
   "title_cell": "Table of Contents",
   "title_sidebar": "Contents",
   "toc_cell": false,
   "toc_position": {},
   "toc_section_display": true,
   "toc_window_display": false
  },
  "varInspector": {
   "cols": {
    "lenName": 16,
    "lenType": 16,
    "lenVar": 40
   },
   "kernels_config": {
    "python": {
     "delete_cmd_postfix": "",
     "delete_cmd_prefix": "del ",
     "library": "var_list.py",
     "varRefreshCmd": "print(var_dic_list())"
    },
    "r": {
     "delete_cmd_postfix": ") ",
     "delete_cmd_prefix": "rm(",
     "library": "var_list.r",
     "varRefreshCmd": "cat(var_dic_list()) "
    }
   },
   "types_to_exclude": [
    "module",
    "function",
    "builtin_function_or_method",
    "instance",
    "_Feature"
   ],
   "window_display": false
  }
 },
 "nbformat": 4,
 "nbformat_minor": 2
}
