{
 "cells": [
  {
   "cell_type": "markdown",
   "metadata": {},
   "source": [
    "## Задачи по программированию к лекции 2"
   ]
  },
  {
   "cell_type": "markdown",
   "metadata": {},
   "source": [
    "Модуль `numpy`, с которым мы успели познакомиться в лабораторной работе к лекции 1, позволяет получать численные решения систем линейных уравнений. В этой лабораторной работе мы попробуем с помощью функции `np.linalg.solve(A,B)` определить, являются ли вектора линейно зависимыми. Для начала загрузим модуль `numpy`.  "
   ]
  },
  {
   "cell_type": "code",
   "execution_count": null,
   "metadata": {
    "ExecuteTime": {
     "end_time": "2020-12-21T20:46:07.676969Z",
     "start_time": "2020-12-21T20:46:07.256489Z"
    }
   },
   "outputs": [],
   "source": [
    "import numpy as np"
   ]
  },
  {
   "cell_type": "markdown",
   "metadata": {},
   "source": [
    "### Задача 1. Независимость  "
   ]
  },
  {
   "cell_type": "markdown",
   "metadata": {},
   "source": [
    "#### Начнем с квадратных матриц ($m=n$)."
   ]
  },
  {
   "cell_type": "markdown",
   "metadata": {},
   "source": [
    "Ваша задача дописать функцию `check_independence_square`. \n",
    "На входе функция получает матрицу `A`. \n",
    "Функция должна выдавать `True`, если векторы столбцы матрицы линейно независимы и `False` иначе. \n",
    "\n",
    "Напомним, что векторы линейно независимы, если единственное решение системы  $AX = 0 $ — вектор из нулей. "
   ]
  },
  {
   "cell_type": "markdown",
   "metadata": {},
   "source": [
    "Вспомним, что ненулевое решение уравнения $AX = 0 $ существует тогда и только тогда, когда $\\det A = 0 $. Проверьте, что получится если попросить `numpy` решить систему $AX=0$ для матрицы с нулевым определителем."
   ]
  },
  {
   "cell_type": "code",
   "execution_count": null,
   "metadata": {},
   "outputs": [],
   "source": [
    "A = [[1,1],[2,2]]\n",
    "np.linalg.det(A)\n",
    "# np.linalg.solve...?  "
   ]
  },
  {
   "cell_type": "markdown",
   "metadata": {},
   "source": [
    "В коде вы можете добавить проверку равенства определителя матрицы нулю (если $\\det A = 0$, выдаем `False`), а можете воспользоваться конструкцией `try... except` (пробуем решить систему, если не получается найти решение системы, значит вектора линейно зависимы и выдается    `False`). "
   ]
  },
  {
   "cell_type": "code",
   "execution_count": null,
   "metadata": {
    "ExecuteTime": {
     "end_time": "2020-12-21T20:30:33.482049Z",
     "start_time": "2020-12-21T20:30:33.471967Z"
    },
    "deletable": false,
    "nbgrader": {
     "cell_type": "code",
     "checksum": "07f5f705474f6d406f80db4ebe994c85",
     "grade": false,
     "grade_id": "cell-1b966e8b55156d76",
     "locked": false,
     "schema_version": 3,
     "solution": true,
     "task": false
    }
   },
   "outputs": [],
   "source": [
    "def check_linearity_square(A):\n",
    "    assert (A.shape[0]==A.shape[1]) # проверяем, что число векторов совпадает с их размерностью \n",
    "    B = np.repeat(0, A.shape[1])\n",
    "    try: \n",
    "    # код писать сюда  \n",
    "        return # и сюда\n",
    "    except np.linalg.LinAlgError: \n",
    "        return False   \n",
    "\n",
    "    \n",
    "# your code here\n"
   ]
  },
  {
   "cell_type": "code",
   "execution_count": null,
   "metadata": {
    "ExecuteTime": {
     "end_time": "2020-12-21T20:31:59.074649Z",
     "start_time": "2020-12-21T20:31:59.071005Z"
    },
    "deletable": false,
    "editable": false,
    "nbgrader": {
     "cell_type": "code",
     "checksum": "3a88f7766753cce615ee9dada5390106",
     "grade": true,
     "grade_id": "cell-db9351160ed7c8ba",
     "locked": true,
     "points": 1,
     "schema_version": 3,
     "solution": false,
     "task": false
    }
   },
   "outputs": [],
   "source": [
    "A = np.array([[4, 3, 2], [-2, 2, 3], [3, -5, 2]])\n",
    "check = check_linearity_square(A)\n"
   ]
  },
  {
   "cell_type": "code",
   "execution_count": null,
   "metadata": {
    "ExecuteTime": {
     "end_time": "2020-12-21T20:31:57.820758Z",
     "start_time": "2020-12-21T20:31:57.812940Z"
    },
    "deletable": false,
    "editable": false,
    "nbgrader": {
     "cell_type": "code",
     "checksum": "cb2595581179e9c11c2ccc225c25398c",
     "grade": true,
     "grade_id": "cell-4f534c1a8d98c938",
     "locked": true,
     "points": 1,
     "schema_version": 3,
     "solution": false,
     "task": false
    }
   },
   "outputs": [],
   "source": [
    "A = np.array([[1, 0, 0], [0, 2, 2], [0, 1, 1]])\n",
    "check = check_linearity_square(A)\n"
   ]
  },
  {
   "cell_type": "markdown",
   "metadata": {},
   "source": [
    "#### Допишите функцию, которая проверяет, являются ли вектора линейно независимыми.\n",
    "\n",
    "Ваша задача дописать функцию `check_linearity`. На вход также подается матрица `A`. Напомним, функция должна выдвать `True`, если векторы столбцы матрицы линейно независимы и `False` иначе.\n",
    "\n",
    "Разобьем задачу на три случая:\n",
    "\n",
    "- когда $m<n$ -- вектора будут линейно зависимыми, так как размерность векторов ниже количества векторов;\n",
    "- когда $m=n$ -- воспользуемся уже написанной функцией `check_linearity_square`;\n",
    "- когда $m>n$ -- перебираем все возможные квадратные матрицы из строк матрицы `A` (предварительно убираем в такой матрице столбцы из нулей) и делаем проверку с помощью рекуррентного вызова функции `check_linearity`."
   ]
  },
  {
   "cell_type": "code",
   "execution_count": null,
   "metadata": {},
   "outputs": [],
   "source": [
    "import itertools"
   ]
  },
  {
   "cell_type": "markdown",
   "metadata": {},
   "source": [
    "Чтобы перебрать все возможные квадратные матрицы воспользуемся функцией `combinations` из  модуля `itertools`. Посмотрите на примере как работает эта функция. "
   ]
  },
  {
   "cell_type": "code",
   "execution_count": null,
   "metadata": {},
   "outputs": [],
   "source": [
    "vector = [1,2,3,4,5]\n",
    "list(itertools.combinations(vec, 3))"
   ]
  },
  {
   "cell_type": "code",
   "execution_count": null,
   "metadata": {
    "ExecuteTime": {
     "end_time": "2020-12-21T20:45:36.115682Z",
     "start_time": "2020-12-21T20:45:36.109205Z"
    },
    "deletable": false,
    "nbgrader": {
     "cell_type": "code",
     "checksum": "f4b3889eb8693662ee0da6c64630f71a",
     "grade": false,
     "grade_id": "cell-ee9c03e25162f7f5",
     "locked": false,
     "schema_version": 3,
     "solution": true,
     "task": false
    }
   },
   "outputs": [],
   "source": [
    "def check_linearity(A):\n",
    "    m = A.shape[0]\n",
    "    n = A.shape[1]    \n",
    "    if m==n:\n",
    "        return # код писать сюда \n",
    "    if m<n:\n",
    "        return # и сюда\n",
    "    if m>n:        \n",
    "        for rows in itertools.combinations(np.arange(A.shape[0]), A.shape[1]):          \n",
    "            # сюда тоже\n",
    "        return # и сюда можно \n",
    "\n",
    "# your code here\n"
   ]
  },
  {
   "cell_type": "code",
   "execution_count": null,
   "metadata": {
    "ExecuteTime": {
     "end_time": "2020-12-21T20:56:06.689203Z",
     "start_time": "2020-12-21T20:56:06.684169Z"
    },
    "deletable": false,
    "editable": false,
    "nbgrader": {
     "cell_type": "code",
     "checksum": "f764b0cfbd34eda8c55ea53de6db8291",
     "grade": true,
     "grade_id": "cell-0364dcf85396df0e",
     "locked": true,
     "points": 1,
     "schema_version": 3,
     "solution": false,
     "task": false
    }
   },
   "outputs": [],
   "source": [
    "A = np.array([[12, 1, 3], [4, 6, 2]])\n",
    "check = check_linearity(A)\n"
   ]
  },
  {
   "cell_type": "code",
   "execution_count": null,
   "metadata": {
    "ExecuteTime": {
     "end_time": "2020-12-21T20:56:41.773406Z",
     "start_time": "2020-12-21T20:56:41.764486Z"
    },
    "deletable": false,
    "editable": false,
    "nbgrader": {
     "cell_type": "code",
     "checksum": "b05542be0c4d0f7a519186aa1f436533",
     "grade": true,
     "grade_id": "cell-4a038fb5e021eafa",
     "locked": true,
     "points": 1,
     "schema_version": 3,
     "solution": false,
     "task": false
    }
   },
   "outputs": [],
   "source": [
    "A = np.array([[12, 1, 3, 4], [1, 4, 6, 2], [2, 7, 5, 1], [1, 1, 2, 2]])\n",
    "check = check_linearity(A)\n"
   ]
  },
  {
   "cell_type": "code",
   "execution_count": null,
   "metadata": {
    "ExecuteTime": {
     "end_time": "2020-12-21T20:55:33.568901Z",
     "start_time": "2020-12-21T20:55:33.557799Z"
    },
    "deletable": false,
    "editable": false,
    "nbgrader": {
     "cell_type": "code",
     "checksum": "673adb7287c4ccadd3e31879a01b6c6f",
     "grade": true,
     "grade_id": "cell-a3e928668afce48a",
     "locked": true,
     "points": 1,
     "schema_version": 3,
     "solution": false,
     "task": false
    }
   },
   "outputs": [],
   "source": [
    "A = np.array([[1, 2, 3], [1, 4, 5], [0, 2, 1], [4, 6, 2]])\n",
    "check = check_linearity(A)\n"
   ]
  }
 ],
 "metadata": {
  "hide_input": false,
  "kernelspec": {
   "display_name": "Python 3",
   "language": "python",
   "name": "python3"
  },
  "language_info": {
   "codemirror_mode": {
    "name": "ipython",
    "version": 3
   },
   "file_extension": ".py",
   "mimetype": "text/x-python",
   "name": "python",
   "nbconvert_exporter": "python",
   "pygments_lexer": "ipython3",
   "version": "3.7.6"
  },
  "latex_envs": {
   "LaTeX_envs_menu_present": true,
   "autoclose": true,
   "autocomplete": true,
   "bibliofile": "biblio.bib",
   "cite_by": "apalike",
   "current_citInitial": 1,
   "eqLabelWithNumbers": true,
   "eqNumInitial": 1,
   "hotkeys": {
    "equation": "Ctrl-E",
    "itemize": "Ctrl-I"
   },
   "labels_anchors": false,
   "latex_user_defs": false,
   "report_style_numbering": false,
   "user_envs_cfg": false
  },
  "toc": {
   "base_numbering": 1,
   "nav_menu": {},
   "number_sections": true,
   "sideBar": true,
   "skip_h1_title": false,
   "title_cell": "Table of Contents",
   "title_sidebar": "Contents",
   "toc_cell": false,
   "toc_position": {},
   "toc_section_display": true,
   "toc_window_display": false
  },
  "varInspector": {
   "cols": {
    "lenName": 16,
    "lenType": 16,
    "lenVar": 40
   },
   "kernels_config": {
    "python": {
     "delete_cmd_postfix": "",
     "delete_cmd_prefix": "del ",
     "library": "var_list.py",
     "varRefreshCmd": "print(var_dic_list())"
    },
    "r": {
     "delete_cmd_postfix": ") ",
     "delete_cmd_prefix": "rm(",
     "library": "var_list.r",
     "varRefreshCmd": "cat(var_dic_list()) "
    }
   },
   "types_to_exclude": [
    "module",
    "function",
    "builtin_function_or_method",
    "instance",
    "_Feature"
   ],
   "window_display": false
  }
 },
 "nbformat": 4,
 "nbformat_minor": 2
}
