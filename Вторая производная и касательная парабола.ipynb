{
 "cells": [
  {
   "cell_type": "code",
   "execution_count": 3,
   "metadata": {},
   "outputs": [],
   "source": [
    "import sympy\n",
    "x,y,z = sympy.symbols('x y z')"
   ]
  },
  {
   "cell_type": "code",
   "execution_count": 12,
   "metadata": {},
   "outputs": [
    {
     "name": "stdout",
     "output_type": "stream",
     "text": [
      "3*(4*x - 1)*exp(3*x + 3) + (12*x - 3)*exp(3*x + 3) + 3*(6*x**2 - 3*x - 12)*exp(3*x + 3) + 4*exp(3*x + 3)\n"
     ]
    },
    {
     "data": {
      "text/latex": [
       "$\\displaystyle -35.0$"
      ],
      "text/plain": [
       "-35.0000000000000"
      ]
     },
     "execution_count": 12,
     "metadata": {},
     "output_type": "execute_result"
    }
   ],
   "source": [
    "f1 = (2*x**2 - x -4)*sympy.E**(3*x+3)\n",
    "f2 = f1.diff().diff()\n",
    "print(f2)\n",
    "f2.evalf(subs={x:-1})"
   ]
  },
  {
   "cell_type": "code",
   "execution_count": 13,
   "metadata": {},
   "outputs": [
    {
     "name": "stdout",
     "output_type": "stream",
     "text": [
      "8*x**2*(x**3 + 3*x)/(x**2 - 3)**3 + 6*x/(x**2 - 3) - 4*x*(3*x**2 + 3)/(x**2 - 3)**2 - 2*(x**3 + 3*x)/(x**2 - 3)**2\n"
     ]
    },
    {
     "data": {
      "text/latex": [
       "$\\displaystyle -312.0$"
      ],
      "text/plain": [
       "-312.000000000000"
      ]
     },
     "execution_count": 13,
     "metadata": {},
     "output_type": "execute_result"
    }
   ],
   "source": [
    "f1 = (x**3+3*x)/(x**2-3)\n",
    "f2 = f1.diff().diff()\n",
    "print(f2)\n",
    "f2.evalf(subs={x:-2})"
   ]
  },
  {
   "cell_type": "code",
   "execution_count": 14,
   "metadata": {},
   "outputs": [
    {
     "name": "stdout",
     "output_type": "stream",
     "text": [
      "-16*x*(867*x - 289)/(4*x**2 + 1)**2 + 3468/(4*x**2 + 1)\n"
     ]
    },
    {
     "data": {
      "text/latex": [
       "$\\displaystyle 44.0$"
      ],
      "text/plain": [
       "44.0000000000000"
      ]
     },
     "execution_count": 14,
     "metadata": {},
     "output_type": "execute_result"
    }
   ],
   "source": [
    "f1 = 289*(3*x - 1)*sympy.atan(2*x)\n",
    "f2 = f1.diff().diff()\n",
    "print(f2)\n",
    "f2.evalf(subs={x:2})"
   ]
  },
  {
   "cell_type": "code",
   "execution_count": 16,
   "metadata": {},
   "outputs": [
    {
     "data": {
      "text/latex": [
       "$\\displaystyle 1.0 x^{2}$"
      ],
      "text/plain": [
       "1.0*x**2"
      ]
     },
     "execution_count": 16,
     "metadata": {},
     "output_type": "execute_result"
    }
   ],
   "source": [
    "# Уравнения касательной параболы\n",
    "f_main=x**2\n",
    "o_point = 0\n",
    "a = f_main.evalf(subs={x:o_point})\n",
    "b = f_main.diff().evalf(subs={x:o_point})*(x - o_point)\n",
    "c = 0.5*f_main.diff().diff().evalf(subs={x:o_point})*(x - o_point)**2\n",
    "a+b+c"
   ]
  },
  {
   "cell_type": "code",
   "execution_count": 20,
   "metadata": {},
   "outputs": [
    {
     "data": {
      "text/latex": [
       "$\\displaystyle \\operatorname{Poly}{\\left( 21.0 x^{2} + 65.0 x + 56.0, x, domain=\\mathbb{R} \\right)}$"
      ],
      "text/plain": [
       "Poly(21.0*x**2 + 65.0*x + 56.0, x, domain='RR')"
      ]
     },
     "execution_count": 20,
     "metadata": {},
     "output_type": "execute_result"
    }
   ],
   "source": [
    "f_main=(2*x**2-x)/(x+3)\n",
    "o_point = -2\n",
    "a = f_main.evalf(subs={x:o_point})\n",
    "b = f_main.diff().evalf(subs={x:o_point})*(x - o_point)\n",
    "c = 0.5*f_main.diff().diff().evalf(subs={x:o_point})*(x - o_point)**2\n",
    "(a+b+c).as_poly()"
   ]
  },
  {
   "cell_type": "code",
   "execution_count": 21,
   "metadata": {},
   "outputs": [
    {
     "data": {
      "text/plain": [
       "142"
      ]
     },
     "execution_count": 21,
     "metadata": {},
     "output_type": "execute_result"
    }
   ],
   "source": [
    "21+65+56"
   ]
  },
  {
   "cell_type": "code",
   "execution_count": 22,
   "metadata": {},
   "outputs": [
    {
     "data": {
      "text/latex": [
       "$\\displaystyle \\operatorname{Poly}{\\left( 0.25 x^{2} - 4.5 x - 3.75, x, domain=\\mathbb{R} \\right)}$"
      ],
      "text/plain": [
       "Poly(0.25*x**2 - 4.5*x - 3.75, x, domain='RR')"
      ]
     },
     "execution_count": 22,
     "metadata": {},
     "output_type": "execute_result"
    }
   ],
   "source": [
    "f_main=3*(x**2-1)**(2/3)\n",
    "o_point = -3\n",
    "a = f_main.evalf(subs={x:o_point})\n",
    "b = f_main.diff().evalf(subs={x:o_point})*(x - o_point)\n",
    "c = 0.5*f_main.diff().diff().evalf(subs={x:o_point})*(x - o_point)**2\n",
    "(a+b+c).as_poly()"
   ]
  },
  {
   "cell_type": "code",
   "execution_count": 23,
   "metadata": {},
   "outputs": [
    {
     "data": {
      "text/plain": [
       "-8.0"
      ]
     },
     "execution_count": 23,
     "metadata": {},
     "output_type": "execute_result"
    }
   ],
   "source": [
    "0.25-4.5-3.75"
   ]
  },
  {
   "cell_type": "code",
   "execution_count": 26,
   "metadata": {},
   "outputs": [
    {
     "data": {
      "text/latex": [
       "$\\displaystyle \\operatorname{Poly}{\\left( 12.75 x^{2} - 48.5 x + 62.75, x, domain=\\mathbb{R} \\right)}$"
      ],
      "text/plain": [
       "Poly(12.75*x**2 - 48.5*x + 62.75, x, domain='RR')"
      ]
     },
     "execution_count": 26,
     "metadata": {},
     "output_type": "execute_result"
    }
   ],
   "source": [
    "f_main=(64*sympy.E**(x-3))/((x+1)**(1/2))\n",
    "o_point = 3\n",
    "a = f_main.evalf(subs={x:o_point})\n",
    "b = f_main.diff().evalf(subs={x:o_point})*(x - o_point)\n",
    "c = 0.5*f_main.diff().diff().evalf(subs={x:o_point})*(x - o_point)**2\n",
    "(a+b+c).as_poly()"
   ]
  },
  {
   "cell_type": "code",
   "execution_count": 27,
   "metadata": {},
   "outputs": [
    {
     "data": {
      "text/plain": [
       "27.0"
      ]
     },
     "execution_count": 27,
     "metadata": {},
     "output_type": "execute_result"
    }
   ],
   "source": [
    "12.75-48.5+62.75"
   ]
  },
  {
   "cell_type": "code",
   "execution_count": null,
   "metadata": {},
   "outputs": [],
   "source": []
  }
 ],
 "metadata": {
  "interpreter": {
   "hash": "a33517d9d7dd072cede418c1d1656427de6858e0f2f8270c12eb9a099f89b41c"
  },
  "kernelspec": {
   "display_name": "Python 3.9.7 64-bit",
   "language": "python",
   "name": "python3"
  },
  "language_info": {
   "codemirror_mode": {
    "name": "ipython",
    "version": 3
   },
   "file_extension": ".py",
   "mimetype": "text/x-python",
   "name": "python",
   "nbconvert_exporter": "python",
   "pygments_lexer": "ipython3",
   "version": "3.9.7"
  },
  "orig_nbformat": 4
 },
 "nbformat": 4,
 "nbformat_minor": 2
}
