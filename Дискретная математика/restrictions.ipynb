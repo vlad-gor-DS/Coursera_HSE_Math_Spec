{
 "cells": [
  {
   "cell_type": "markdown",
   "metadata": {
    "deletable": false,
    "editable": false,
    "nbgrader": {
     "cell_type": "markdown",
     "checksum": "ff6968b1dffef7a98172e27bf4accf59",
     "grade": false,
     "grade_id": "cell-d2762c6b62aad42a",
     "locked": true,
     "schema_version": 3,
     "solution": false,
     "task": false
    }
   },
   "source": [
    "# Подсчеты на Python\n",
    "\n",
    "В этом ноутбуке нужно решить несколько задач на подсчеты с помощью программ на Python. \n",
    "Во всех задачах мы считаем, что трехзначные, двухзначные и однозначные числа также являются четырехзначными.\n",
    "\n",
    "В первой задаче мы хотим посчитать количество четырехзначных чисел с суммой цифр, равной 20."
   ]
  },
  {
   "cell_type": "code",
   "execution_count": 5,
   "metadata": {
    "deletable": false,
    "nbgrader": {
     "cell_type": "code",
     "checksum": "384cee9216c54553511c873ae431645f",
     "grade": false,
     "grade_id": "cell-3eaf2df501b134d0",
     "locked": false,
     "schema_version": 3,
     "solution": true,
     "task": false
    }
   },
   "outputs": [
    {
     "name": "stdout",
     "output_type": "stream",
     "text": [
      "633\n"
     ]
    }
   ],
   "source": [
    "import itertools as it\n",
    "\n",
    "\n",
    "def sum20():    \n",
    "    count = 0\n",
    "    for d in it.product(range(10), repeat=4):\n",
    "        # your code here\n",
    "        if sum(d) == 20:\n",
    "              count+=1\n",
    "    return count\n",
    "\n",
    "print(sum20())"
   ]
  },
  {
   "cell_type": "code",
   "execution_count": null,
   "metadata": {
    "deletable": false,
    "editable": false,
    "nbgrader": {
     "cell_type": "code",
     "checksum": "55fd6833838aa25d60cffafff575d17e",
     "grade": true,
     "grade_id": "cell-aeb751da447b1d83",
     "locked": true,
     "points": 1,
     "schema_version": 3,
     "solution": false,
     "task": false
    }
   },
   "outputs": [],
   "source": [
    "\n"
   ]
  },
  {
   "cell_type": "markdown",
   "metadata": {
    "deletable": false,
    "editable": false,
    "nbgrader": {
     "cell_type": "markdown",
     "checksum": "252a1e77082cf12c5d1afff07bbcf6a3",
     "grade": false,
     "grade_id": "cell-0ea705b800e85c3b",
     "locked": true,
     "schema_version": 3,
     "solution": false,
     "task": false
    }
   },
   "source": [
    "В следующей задаче мы хотим посчитать количество четырехзначных чисел с суммой цифрой, делящейся на 7."
   ]
  },
  {
   "cell_type": "code",
   "execution_count": 6,
   "metadata": {
    "deletable": false,
    "nbgrader": {
     "cell_type": "code",
     "checksum": "327c61ff63d4e711023a5de3a8397a4d",
     "grade": false,
     "grade_id": "cell-639c518c0dea4803",
     "locked": false,
     "schema_version": 3,
     "solution": true,
     "task": false
    }
   },
   "outputs": [
    {
     "name": "stdout",
     "output_type": "stream",
     "text": [
      "1422\n"
     ]
    }
   ],
   "source": [
    "#Может пригодиться: остаток от деления n на k можно вычислить командой n % k\n",
    "\n",
    "\n",
    "def sum_div_7():    \n",
    "    count = 0\n",
    "    for d in it.product(range(10), repeat=4):\n",
    "        # your code here\n",
    "        if sum(d)%7==0:\n",
    "              count+=1\n",
    "    return count\n",
    "\n",
    "print(sum_div_7())"
   ]
  },
  {
   "cell_type": "code",
   "execution_count": null,
   "metadata": {
    "deletable": false,
    "editable": false,
    "nbgrader": {
     "cell_type": "code",
     "checksum": "1692e0c78df7b2d449dedbfc2d13266d",
     "grade": true,
     "grade_id": "cell-e837603bd170973f",
     "locked": true,
     "points": 1,
     "schema_version": 3,
     "solution": false,
     "task": false
    }
   },
   "outputs": [],
   "source": []
  },
  {
   "cell_type": "markdown",
   "metadata": {
    "deletable": false,
    "editable": false,
    "nbgrader": {
     "cell_type": "markdown",
     "checksum": "744d498fe1a4f1c8a10029ff41bd1f67",
     "grade": false,
     "grade_id": "cell-c4dbb875755683b5",
     "locked": true,
     "schema_version": 3,
     "solution": false,
     "task": false
    }
   },
   "source": [
    "В следующей задаче мы хотим посчитать количество четырехзначных чисел, в которых есть ровно две цифры 5."
   ]
  },
  {
   "cell_type": "code",
   "execution_count": 8,
   "metadata": {
    "deletable": false,
    "nbgrader": {
     "cell_type": "code",
     "checksum": "2af78f5e7c9ac33cfa04e020999e5366",
     "grade": false,
     "grade_id": "cell-9b51e07999d915d1",
     "locked": false,
     "schema_version": 3,
     "solution": true,
     "task": false
    }
   },
   "outputs": [
    {
     "name": "stdout",
     "output_type": "stream",
     "text": [
      "486\n"
     ]
    }
   ],
   "source": [
    "def numbers_with_two_5():    \n",
    "    count = 0\n",
    "    for d in it.product(range(10), repeat=4):\n",
    "        # your code here\n",
    "        if d.count(5)==2:\n",
    "              count+=1\n",
    "    return count\n",
    "\n",
    "print(numbers_with_two_5())"
   ]
  },
  {
   "cell_type": "code",
   "execution_count": null,
   "metadata": {
    "deletable": false,
    "editable": false,
    "nbgrader": {
     "cell_type": "code",
     "checksum": "aee15fe72890017ed254597641c07edf",
     "grade": true,
     "grade_id": "cell-57e39000681b0430",
     "locked": true,
     "points": 1,
     "schema_version": 3,
     "solution": false,
     "task": false
    }
   },
   "outputs": [],
   "source": []
  }
 ],
 "metadata": {
  "kernelspec": {
   "display_name": "Python 3",
   "language": "python",
   "name": "python3"
  },
  "language_info": {
   "codemirror_mode": {
    "name": "ipython",
    "version": 3
   },
   "file_extension": ".py",
   "mimetype": "text/x-python",
   "name": "python",
   "nbconvert_exporter": "python",
   "pygments_lexer": "ipython3",
   "version": "3.7.6"
  }
 },
 "nbformat": 4,
 "nbformat_minor": 4
}
