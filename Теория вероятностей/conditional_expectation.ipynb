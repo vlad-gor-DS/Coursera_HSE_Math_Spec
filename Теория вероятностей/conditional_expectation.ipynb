{
 "cells": [
  {
   "cell_type": "markdown",
   "metadata": {
    "deletable": false,
    "editable": false,
    "nbgrader": {
     "cell_type": "markdown",
     "checksum": "f003f040f9661e87e3b827b3ed832769",
     "grade": false,
     "grade_id": "cell-f01b9e9de6271226",
     "locked": true,
     "schema_version": 3,
     "solution": false,
     "task": false
    }
   },
   "source": [
    "# Условное математическое ожидание в Python\n",
    "<font color='lightgrey'> _Версия 2.1_ </font>"
   ]
  },
  {
   "cell_type": "markdown",
   "metadata": {
    "deletable": false,
    "editable": false,
    "nbgrader": {
     "cell_type": "markdown",
     "checksum": "c32540ad756cae64a78730e9af3c3d28",
     "grade": false,
     "grade_id": "cell-f16c28dae79e9f6f",
     "locked": true,
     "schema_version": 3,
     "solution": false,
     "task": false
    }
   },
   "source": [
    "Давайте научимся вычислять условное математическое ожидание автоматизированно."
   ]
  },
  {
   "cell_type": "markdown",
   "metadata": {
    "deletable": false,
    "editable": false,
    "nbgrader": {
     "cell_type": "markdown",
     "checksum": "2ccad28af64a8b1bdc9db490f79cf4dd",
     "grade": false,
     "grade_id": "cell-e66b394ba31b372f",
     "locked": true,
     "schema_version": 3,
     "solution": false,
     "task": false
    }
   },
   "source": [
    "***Условие задачи:***\n",
    "Таблица совместного распределния случайных величин реализована словарем (dict). Ключ — пара значений случайных величин $X$ и $Y$, значение ключа — вероятность. Найдите условное математическое ожидание $\\operatorname{E}[X|Y]$. Значение выведите в виде словаря, ключами которого будут значения случайной величины, а соответствовать им будут значения $\\operatorname{E}[X|Y]$."
   ]
  },
  {
   "cell_type": "markdown",
   "metadata": {
    "deletable": false,
    "editable": false,
    "nbgrader": {
     "cell_type": "markdown",
     "checksum": "78d30310493d9b301fcf65e2d17a8f59",
     "grade": false,
     "grade_id": "cell-165e607946c1abf0",
     "locked": true,
     "schema_version": 3,
     "solution": false,
     "task": false
    }
   },
   "source": [
    "***Пример:*** совместное распределние задано таблицей\n",
    "    <img src='joint_distr.png' width=\"400\" height=\"400\">"
   ]
  },
  {
   "cell_type": "markdown",
   "metadata": {
    "deletable": false,
    "editable": false,
    "nbgrader": {
     "cell_type": "markdown",
     "checksum": "d87df1e860185a13b305f5989d560ce3",
     "grade": false,
     "grade_id": "cell-c4034fbd1457935b",
     "locked": true,
     "schema_version": 3,
     "solution": false,
     "task": false
    }
   },
   "source": [
    "Программа на вход получает совместное распределние, заданное словарем: {(2, 2) : 0.2, (2, 3) : 0.1, (4, 0) : 0.2, (4, 2) : 0.1, (4, 3) : 0.1, (8, 0) : 0.2, (8, 2) : 0.1} — нулевые значения вероятности можно не добавлять."
   ]
  },
  {
   "cell_type": "markdown",
   "metadata": {
    "deletable": false,
    "editable": false,
    "nbgrader": {
     "cell_type": "markdown",
     "checksum": "e580492d7a2bf74910f9ecc9eef7042b",
     "grade": false,
     "grade_id": "cell-694d2b603fe7a953",
     "locked": true,
     "schema_version": 3,
     "solution": false,
     "task": false
    }
   },
   "source": [
    "На лекции мы нашли, что условное математическое ожидание будет иметь вид:\n",
    "<img src='cond_exp.png' width=\"400\" height=\"400\">"
   ]
  },
  {
   "cell_type": "markdown",
   "metadata": {
    "deletable": false,
    "editable": false,
    "nbgrader": {
     "cell_type": "markdown",
     "checksum": "2d5369f73a9c287ed02f0e12b934b330",
     "grade": false,
     "grade_id": "cell-4602b490c97c90aa",
     "locked": true,
     "schema_version": 3,
     "solution": false,
     "task": false
    }
   },
   "source": [
    "Выводом программы должен быть словарь  { 0 : 6, 2 : 4, 3 : 3}\n",
    "\n",
    "Значения полученной случайной величины должны быть округлены до четырех (или менее) знаков после запятой."
   ]
  },
  {
   "cell_type": "code",
   "execution_count": 4,
   "metadata": {
    "deletable": false,
    "editable": false,
    "nbgrader": {
     "cell_type": "code",
     "checksum": "6d6399045580d20525ff343194f97e9b",
     "grade": false,
     "grade_id": "cell-8493e1fa10613780",
     "locked": true,
     "schema_version": 3,
     "solution": false,
     "task": false
    }
   },
   "outputs": [],
   "source": [
    "import numpy as np"
   ]
  },
  {
   "cell_type": "code",
   "execution_count": 5,
   "metadata": {
    "deletable": false,
    "nbgrader": {
     "cell_type": "code",
     "checksum": "35868c1feb795aead9d03bbb2ad2410a",
     "grade": false,
     "grade_id": "cell-000a4730b9d0d7c5",
     "locked": false,
     "schema_version": 3,
     "solution": true,
     "task": false
    }
   },
   "outputs": [],
   "source": [
    "def conditional_expectation(joint_distribution):\n",
    "    # здесь должна быть функция, \n",
    "    # которая возвращает случайную величину в формате dict,\n",
    "    # где ключами являются значения случайной величины, а значениями – значения УМО\n",
    "    tab_xy=joint_distribution\n",
    "    y_list = []\n",
    "    for k in tab_xy:\n",
    "        if k[1] not in y_list:\n",
    "            y_list.append(k[1])\n",
    "\n",
    "    p_list = {}\n",
    "    for y in y_list:\n",
    "        p_y = 0\n",
    "        for k in tab_xy:\n",
    "            if k[1] == y:\n",
    "                p_y+=tab_xy[k]\n",
    "        p_list[y] = p_y\n",
    "    \n",
    "    ex_dict = {}\n",
    "    for p in p_list:\n",
    "        ex = 0\n",
    "        for k in tab_xy:\n",
    "            if k[1] == p:\n",
    "                ex+=k[0]*(tab_xy[k]/p_list[p])\n",
    "        ex_dict[p]=round(ex,4)\n",
    "    return ex_dict\n",
    "        \n",
    "    \n",
    "# your code here\n"
   ]
  },
  {
   "cell_type": "code",
   "execution_count": 6,
   "metadata": {
    "deletable": false,
    "editable": false,
    "nbgrader": {
     "cell_type": "code",
     "checksum": "b3609f4aeadb6f0fa7927e3be8f08da8",
     "grade": true,
     "grade_id": "cell-084008a2474fb7db",
     "locked": true,
     "points": 1,
     "schema_version": 3,
     "solution": false,
     "task": false
    }
   },
   "outputs": [],
   "source": [
    "jd1 = {(2, 2) : 0.2, (2, 3) : 0.1, (4, 0) : 0.2, (4, 2) : 0.1, (4, 3) : 0.1, (8, 0) : 0.2, (8, 2) : 0.1}\n",
    "ce1 = { 0 : 6, 2 : 4, 3 : 3}\n",
    "\n",
    "assert conditional_expectation(jd1) == ce1\n"
   ]
  },
  {
   "cell_type": "code",
   "execution_count": null,
   "metadata": {},
   "outputs": [],
   "source": []
  }
 ],
 "metadata": {
  "kernelspec": {
   "display_name": "Python 3",
   "language": "python",
   "name": "python3"
  },
  "language_info": {
   "codemirror_mode": {
    "name": "ipython",
    "version": 3
   },
   "file_extension": ".py",
   "mimetype": "text/x-python",
   "name": "python",
   "nbconvert_exporter": "python",
   "pygments_lexer": "ipython3",
   "version": "3.7.6"
  }
 },
 "nbformat": 4,
 "nbformat_minor": 4
}
