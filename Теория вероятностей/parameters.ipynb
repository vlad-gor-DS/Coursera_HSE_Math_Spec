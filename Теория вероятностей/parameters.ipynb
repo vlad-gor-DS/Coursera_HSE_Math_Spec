{
 "cells": [
  {
   "cell_type": "markdown",
   "metadata": {
    "deletable": false,
    "editable": false,
    "nbgrader": {
     "cell_type": "markdown",
     "checksum": "fb11085c9812768fda8d9f2f0cec82af",
     "grade": false,
     "grade_id": "cell-3b11b0c666cf4356",
     "locked": true,
     "schema_version": 3,
     "solution": false,
     "task": false
    }
   },
   "source": [
    "# Параметры совместного распределения\n",
    "<span style='color:lightgrey'> Версия 2.4  </span>"
   ]
  },
  {
   "cell_type": "code",
   "execution_count": 4,
   "metadata": {
    "deletable": false,
    "editable": false,
    "nbgrader": {
     "cell_type": "code",
     "checksum": "3ad2b49a7d359eb6977bb5e6681fb741",
     "grade": false,
     "grade_id": "cell-2405e8165ae3add1",
     "locked": true,
     "schema_version": 3,
     "solution": false,
     "task": false
    }
   },
   "outputs": [],
   "source": [
    "import numpy as np"
   ]
  },
  {
   "cell_type": "markdown",
   "metadata": {
    "deletable": false,
    "editable": false,
    "nbgrader": {
     "cell_type": "markdown",
     "checksum": "ded22046b1c0fce5952d19a05a0c0121",
     "grade": false,
     "grade_id": "cell-f99f2bdff4ecea7e",
     "locked": true,
     "schema_version": 3,
     "solution": false,
     "task": false
    }
   },
   "source": [
    "В нашем курсе мы часто искали различные числовые характеристики случайных величин по таблице совместного распределния. Это делалось отдельно для каждого случая. Но иногда объем данных может быть большим, а проанализировать числовые характеристики необходимо. Например, довольно часто такой анализ применяют для [анализа доходности акций](https://www.researchgate.net/publication/263982572_THE_JOINT_DISTRIBUTION_OF_STOCK_RETURNS_IS_NOT_ELLIPTICAL) или [построения модели, прогнозирующей доходность](https://www.mdpi.com/2076-3417/9/24/5334).\n",
    "Давайте автоматизируем процесс подсчета числовых характеристик."
   ]
  },
  {
   "cell_type": "markdown",
   "metadata": {
    "deletable": false,
    "editable": false,
    "nbgrader": {
     "cell_type": "markdown",
     "checksum": "95aff14cf5b491b265fad10a1063a705",
     "grade": false,
     "grade_id": "cell-0da021cfca361161",
     "locked": true,
     "schema_version": 3,
     "solution": false,
     "task": false
    }
   },
   "source": [
    "***Условие задачи:***\n",
    "Таблица совместного распределния случайных величин реализована словарем (dict). Ключ — пара значений случайных величин $X$ и $Y$, значение ключа — вероятность. Напишите программу, которая находит  $(\\operatorname{E}X, \\operatorname{E}Y, \\operatorname{Var}(X), \\operatorname{Var}(Y), \\sigma_X, \\sigma_Y, EXY, \\operatorname{Cov}(X, Y), \\rho_{X, Y})$."
   ]
  },
  {
   "cell_type": "markdown",
   "metadata": {
    "deletable": false,
    "editable": false,
    "nbgrader": {
     "cell_type": "markdown",
     "checksum": "d1d5e03b4db6e87333af7d8332aa587d",
     "grade": false,
     "grade_id": "cell-010928caf4c3387c",
     "locked": true,
     "schema_version": 3,
     "solution": false,
     "task": false
    }
   },
   "source": [
    "***Пример:*** программа на вход получает совместное распределние, заданное словарем.\n",
    "<img src='joint_distr2.png' width=\"250\" height=\"250\">"
   ]
  },
  {
   "cell_type": "code",
   "execution_count": 2,
   "metadata": {
    "deletable": false,
    "editable": false,
    "nbgrader": {
     "cell_type": "code",
     "checksum": "b98189a1f73e6baeb1ed8783f6ec3aa7",
     "grade": false,
     "grade_id": "cell-c61c64eb52ae30b9",
     "locked": true,
     "schema_version": 3,
     "solution": false,
     "task": false
    }
   },
   "outputs": [
    {
     "data": {
      "text/plain": [
       "{(-1, 1): 0.1, (-1, -1): 0.3, (1, -1): 0.2, (1, 1): 0.4}"
      ]
     },
     "execution_count": 2,
     "metadata": {},
     "output_type": "execute_result"
    }
   ],
   "source": [
    "{(-1, 1) : 0.1, (-1, -1) : 0.3, (1, -1) : 0.2, (1, 1) : 0.4}"
   ]
  },
  {
   "cell_type": "markdown",
   "metadata": {
    "deletable": false,
    "editable": false,
    "nbgrader": {
     "cell_type": "markdown",
     "checksum": "bd53967ee2c930706fe821cc32540f57",
     "grade": false,
     "grade_id": "cell-b1bfff4f5ae73559",
     "locked": true,
     "schema_version": 3,
     "solution": false,
     "task": false
    }
   },
   "source": [
    "Выводом программы должен быть кортеж (tuple) из 9 элементов $(\\operatorname{E}X, \\operatorname{E}Y, \\operatorname{Var}(X), \\operatorname{Var}(Y), \\sigma_X, \\sigma_Y, EXY, \\operatorname{Cov}(X, Y), \\rho_{X, Y})$.\n",
    "\n",
    "На лекции мы вычислили, что $\\operatorname{E}X=0.2,\\ \\operatorname{E}Y=0,\\ \\operatorname{Var}(X)=0.96,\\ \\operatorname{Var}(Y)=1, \\sigma_X=\\sqrt{0.96},\\ \\sigma_Y=1,\\ EXY=0.4,\\ \\operatorname{Cov}(X, Y)=0.4,\\ \\rho_{X, Y}=0.408248$.\n",
    "\n",
    "Поэтому выводом будет:"
   ]
  },
  {
   "cell_type": "code",
   "execution_count": 3,
   "metadata": {
    "deletable": false,
    "editable": false,
    "nbgrader": {
     "cell_type": "code",
     "checksum": "d6243a75f85adc023647317bb8e4264c",
     "grade": false,
     "grade_id": "cell-394b2da11959d3b1",
     "locked": true,
     "schema_version": 3,
     "solution": false,
     "task": false
    }
   },
   "outputs": [
    {
     "data": {
      "text/plain": [
       "(0.2, 0.0, 0.96, 1.0, 0.979796, 1.0, 0.4, 0.4, 0.408248)"
      ]
     },
     "execution_count": 3,
     "metadata": {},
     "output_type": "execute_result"
    }
   ],
   "source": [
    "(0.2, 0.0, 0.96, 1.0, 0.979796, 1.0, 0.4, 0.4, 0.408248)"
   ]
  },
  {
   "cell_type": "markdown",
   "metadata": {
    "deletable": false,
    "editable": false,
    "nbgrader": {
     "cell_type": "markdown",
     "checksum": "3209f178e5818db1d5181d90631c0bf7",
     "grade": false,
     "grade_id": "cell-ea37d8f220e1750a",
     "locked": true,
     "schema_version": 3,
     "solution": false,
     "task": false
    }
   },
   "source": [
    "Значения должны быть округлены до шести (или менее) знаков после запятой."
   ]
  },
  {
   "cell_type": "markdown",
   "metadata": {
    "deletable": false,
    "editable": false,
    "nbgrader": {
     "cell_type": "markdown",
     "checksum": "ca8075a716414a5c6012822430054dbb",
     "grade": false,
     "grade_id": "cell-eb2fa9df56daf1c6",
     "locked": true,
     "schema_version": 3,
     "solution": false,
     "task": false
    }
   },
   "source": [
    "***Замечание:*** обратите внимание, что иногда некоторые значения пары случайных величин не реализуются, т.е. имеют вероятность $0$. Например, если случайная величина $X$ принимает значения $0$ или $1$ с вероятностью $0.5$, а $Y$ всегда равна $X$, то их совместное распределение выглядит следующим образом:\n",
    "<img src='joint_distr3.png' width=\"250\" height=\"250\">"
   ]
  },
  {
   "cell_type": "markdown",
   "metadata": {
    "deletable": false,
    "editable": false,
    "nbgrader": {
     "cell_type": "markdown",
     "checksum": "fc797d80da44ef28efcfcb48f27c579d",
     "grade": false,
     "grade_id": "cell-9f07e25c10081334",
     "locked": true,
     "schema_version": 3,
     "solution": false,
     "task": false
    }
   },
   "source": [
    "При этом, поскольку сумма ненулевых значений в таблице равна единице, при задании совместного распределения нет смысла учитывать нулевые значения. Тогда в кортеже, задающем совместное распределение, нули можно опустить, и совместное распределение $X$ и $Y$ достаточно задать так:"
   ]
  },
  {
   "cell_type": "code",
   "execution_count": 4,
   "metadata": {
    "deletable": false,
    "editable": false,
    "nbgrader": {
     "cell_type": "code",
     "checksum": "284a44c22a0e3ca4c811e07977b7c418",
     "grade": false,
     "grade_id": "cell-99fd6e82afe51567",
     "locked": true,
     "schema_version": 3,
     "solution": false,
     "task": false
    }
   },
   "outputs": [
    {
     "data": {
      "text/plain": [
       "{(0, 0): 0.5, (1, 1): 0.5}"
      ]
     },
     "execution_count": 4,
     "metadata": {},
     "output_type": "execute_result"
    }
   ],
   "source": [
    "{(0, 0) : 0.5, (1, 1) : 0.5}"
   ]
  },
  {
   "cell_type": "markdown",
   "metadata": {
    "deletable": false,
    "editable": false,
    "nbgrader": {
     "cell_type": "markdown",
     "checksum": "a342408b9b406aa21cd8dd64a42499f1",
     "grade": false,
     "grade_id": "cell-acbcbf148f8572ea",
     "locked": true,
     "schema_version": 3,
     "solution": false,
     "task": false
    }
   },
   "source": [
    "Если случайные величины принимают довольно много значений, то такой способ существенно сократит запись. При написании программы Вам предлагается учесть такой способ задания совместного распределения."
   ]
  },
  {
   "cell_type": "code",
   "execution_count": 5,
   "metadata": {
    "deletable": false,
    "nbgrader": {
     "cell_type": "code",
     "checksum": "e2d16e19c397af16cec588256d3e3de2",
     "grade": false,
     "grade_id": "cell-81171514f22014dc",
     "locked": false,
     "schema_version": 3,
     "solution": true,
     "task": false
    }
   },
   "outputs": [
    {
     "data": {
      "text/plain": [
       "(0.2, 0.0, 0.96, 1.0, 0.979796, 1.0, 0.4, 0.4, 0.408248)"
      ]
     },
     "execution_count": 5,
     "metadata": {},
     "output_type": "execute_result"
    }
   ],
   "source": [
    "def get_x_dist(jd):\n",
    "    x_set = set([j[0] for j in jd])\n",
    "    x_dist = {}\n",
    "    for x in x_set:\n",
    "        x_prob = 0\n",
    "        for j in jd:\n",
    "            if j[0]==x:\n",
    "                x_prob+=jd[j]\n",
    "        x_dist[x] = x_prob\n",
    "    return x_dist\n",
    "\n",
    "def get_y_dist(jd):\n",
    "    y_set = set([j[1] for j in jd])\n",
    "    y_dist = {}\n",
    "    for y in y_set:\n",
    "        y_prob = 0\n",
    "        for j in jd:\n",
    "            if j[1]==y:\n",
    "                y_prob+=jd[j]\n",
    "        y_dist[y] = y_prob\n",
    "    return y_dist\n",
    "\n",
    "def calc_E(dist):\n",
    "    result = 0\n",
    "    for d in dist:\n",
    "        result+= d*dist[d]\n",
    "    return result\n",
    "\n",
    "def calc_Var(dist):\n",
    "    e = calc_E(dist)\n",
    "    result = 0\n",
    "    for d in dist:\n",
    "        result+= dist[d]*(d-e)**2\n",
    "    return result\n",
    "\n",
    "def calc_EXY(jd):\n",
    "    result = 0\n",
    "    for j in jd:\n",
    "        result += j[0]*j[1]*jd[j] \n",
    "    return result\n",
    "\n",
    "def parameters(joint_distribution):\n",
    "    xd = get_x_dist(joint_distribution)\n",
    "    yd = get_y_dist(joint_distribution)\n",
    "\n",
    "    EX = calc_E(xd)\n",
    "    EY = calc_E(yd)\n",
    "\n",
    "    VarX = calc_Var(xd)\n",
    "    VarY = calc_Var(yd)\n",
    "\n",
    "    qX = VarX**(1/2)\n",
    "    qY = VarY**(1/2)\n",
    "\n",
    "    EXY = calc_EXY(joint_distribution)\n",
    "    CovXY = EXY-EX*EY\n",
    "    pxy = CovXY/(qX*qY)\n",
    "\n",
    "    return tuple([round(x,6) for x in [EX, EY, VarX, VarY, qX, qY, EXY, CovXY, pxy]])\n",
    "\n",
    "# your code here\n",
    "parameters({(-1, 1) : 0.1, (-1, -1) : 0.3, (1, -1) : 0.2, (1, 1) : 0.4})"
   ]
  },
  {
   "cell_type": "code",
   "execution_count": 6,
   "metadata": {
    "deletable": false,
    "editable": false,
    "nbgrader": {
     "cell_type": "code",
     "checksum": "589ae7b64c6a8ba3fb4c2f73fc28b8a0",
     "grade": true,
     "grade_id": "cell-16857451d1c960da",
     "locked": true,
     "points": 3,
     "schema_version": 3,
     "solution": false,
     "task": false
    }
   },
   "outputs": [],
   "source": [
    "parameters_names=('Математическое ожидание X','Математическое ожидание Y','Дисперсия X','Дисперсия Y',\n",
    "                  'Среднеквадратическое отклонение X','Среднеквадратическое отклонение Y',\n",
    "                  'Математическое ожидание XY','Ковариация X и Y','Коэффициент корреляции X и Y')\n",
    "\n",
    "example_distribution = {(-1, 1) : 0.1, (-1, -1) : 0.3, (1, -1) : 0.2, (1, 1) : 0.4}\n",
    "\n",
    "answer_for_example_distribution = (0.2, 0.0, 0.96, 1.0, 0.9797958971132712, 1.0, 0.4, 0.4, 0.40824829046386296)\n",
    "\n",
    "def check(joint_distribution):\n",
    "    for i in range(9):\n",
    "        assert np.abs(answer_for_example_distribution[i] - parameters(joint_distribution)[i]) <= 1e-6, parameters_names[i]\n",
    "\n",
    "check(example_distribution)\n"
   ]
  },
  {
   "cell_type": "code",
   "execution_count": null,
   "metadata": {},
   "outputs": [],
   "source": []
  }
 ],
 "metadata": {
  "kernelspec": {
   "display_name": "Python 3",
   "language": "python",
   "name": "python3"
  },
  "language_info": {
   "codemirror_mode": {
    "name": "ipython",
    "version": 3
   },
   "file_extension": ".py",
   "mimetype": "text/x-python",
   "name": "python",
   "nbconvert_exporter": "python",
   "pygments_lexer": "ipython3",
   "version": "3.7.6"
  }
 },
 "nbformat": 4,
 "nbformat_minor": 4
}
