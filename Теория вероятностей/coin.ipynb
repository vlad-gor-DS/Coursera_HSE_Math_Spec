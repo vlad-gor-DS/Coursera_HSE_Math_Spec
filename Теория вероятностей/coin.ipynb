{
 "cells": [
  {
   "cell_type": "markdown",
   "metadata": {
    "deletable": false,
    "editable": false,
    "nbgrader": {
     "cell_type": "markdown",
     "checksum": "2c9bfca73abdd1f2f76ba8d01808f73f",
     "grade": false,
     "grade_id": "cell-5d52ea56c62f6194",
     "locked": true,
     "schema_version": 3,
     "solution": false,
     "task": false
    }
   },
   "source": [
    "# Задача про монетку"
   ]
  },
  {
   "cell_type": "markdown",
   "metadata": {
    "deletable": false,
    "editable": false,
    "nbgrader": {
     "cell_type": "markdown",
     "checksum": "33caac28dfbfb0becbad500c1c3065d1",
     "grade": false,
     "grade_id": "cell-4c2a13b0cc986805",
     "locked": true,
     "schema_version": 3,
     "solution": false,
     "task": false
    }
   },
   "source": [
    "***Условие задачи:***"
   ]
  },
  {
   "cell_type": "markdown",
   "metadata": {
    "deletable": false,
    "editable": false,
    "nbgrader": {
     "cell_type": "markdown",
     "checksum": "3092a10e0042116d40dce29760003bf7",
     "grade": false,
     "grade_id": "cell-593128baeb233fea",
     "locked": true,
     "schema_version": 3,
     "solution": false,
     "task": false
    }
   },
   "source": [
    "Монетку подкинули $n \\geqslant 6$ раз. ($n \\leqslant 20$)\n",
    "\n",
    "a) Найдите вероятность того, что среди результатов бросков будет не менее трех решек и не более трех орлов одновременно.\n",
    "\n",
    "б) А с какой вероятностью выпадет три решки подряд?"
   ]
  },
  {
   "cell_type": "markdown",
   "metadata": {
    "deletable": false,
    "editable": false,
    "nbgrader": {
     "cell_type": "markdown",
     "checksum": "b4d2fe4f8768448328d2549c5eaca807",
     "grade": false,
     "grade_id": "cell-09a5936d52bb8462",
     "locked": true,
     "schema_version": 3,
     "solution": false,
     "task": false
    }
   },
   "source": [
    "Программа на вход получает $n$. Ответом в программе должно быть число, равное вероятности события, заданного в пункте."
   ]
  },
  {
   "cell_type": "code",
   "execution_count": 1,
   "metadata": {
    "deletable": false,
    "editable": false,
    "nbgrader": {
     "cell_type": "code",
     "checksum": "7cb5cd4be7c1292e7722095083bb99e0",
     "grade": false,
     "grade_id": "cell-b1b8a9752d97f2f0",
     "locked": true,
     "schema_version": 3,
     "solution": false,
     "task": false
    }
   },
   "outputs": [],
   "source": [
    "import numpy as np\n",
    "from itertools import product"
   ]
  },
  {
   "cell_type": "code",
   "execution_count": 6,
   "metadata": {
    "deletable": false,
    "nbgrader": {
     "cell_type": "code",
     "checksum": "309ddc043828ad565e83fd99a6d5b6d3",
     "grade": false,
     "grade_id": "cell-b57a852ef594c10e",
     "locked": false,
     "schema_version": 3,
     "solution": true,
     "task": false
    }
   },
   "outputs": [
    {
     "data": {
      "text/plain": [
       "0.65625"
      ]
     },
     "execution_count": 6,
     "metadata": {},
     "output_type": "execute_result"
    }
   ],
   "source": [
    "# названия функций не менять!\n",
    "\n",
    "def find_probability(n):\n",
    "    # задаем пространство элементарных исходов\n",
    "    points = ['О', 'Р']\n",
    "    trails = product(points, repeat=n)\n",
    "    counter=0\n",
    "    t_list=[] \n",
    "    for t in trails:\n",
    "        counter+=1\n",
    "#         print(t)\n",
    "        if t.count('Р')>=3 and t.count('О')<=3:\n",
    "            t_list.append(t)\n",
    "    return len(t_list)/counter\n",
    "    ... # здесь должна быть функция, \n",
    "        # которая возвращает вероятность одновременного выпадения не менее трех решек и не более трех орлов,\n",
    "        # т.е. решение пункта а)\n",
    "    \n",
    "# your code here\n",
    "find_probability(6)"
   ]
  },
  {
   "cell_type": "code",
   "execution_count": 7,
   "metadata": {
    "deletable": false,
    "editable": false,
    "nbgrader": {
     "cell_type": "code",
     "checksum": "91c79c1c70f43b76312640aed1c5e503",
     "grade": true,
     "grade_id": "cell-93918842942ff62b",
     "locked": true,
     "points": 1,
     "schema_version": 3,
     "solution": false,
     "task": false
    }
   },
   "outputs": [],
   "source": [
    "assert np.abs(find_probability(6) - 0.65625) < 1e-5\n",
    "assert np.abs(find_probability(7) - 0.5) < 1e-5\n",
    "assert np.abs(find_probability(8) - 0.36328125) < 1e-5\n",
    "assert np.abs(find_probability(9) - 0.25390625) < 1e-5\n",
    "assert np.abs(find_probability(10) - 0.171875) < 1e-5\n"
   ]
  },
  {
   "cell_type": "code",
   "execution_count": 8,
   "metadata": {
    "deletable": false,
    "nbgrader": {
     "cell_type": "code",
     "checksum": "0993281ff90fb3e2b12212c48f65500e",
     "grade": false,
     "grade_id": "cell-ff35274b582ce789",
     "locked": false,
     "schema_version": 3,
     "solution": true,
     "task": false
    }
   },
   "outputs": [
    {
     "data": {
      "text/plain": [
       "0.3125"
      ]
     },
     "execution_count": 8,
     "metadata": {},
     "output_type": "execute_result"
    }
   ],
   "source": [
    "# названия функций не менять!\n",
    "\n",
    "def find_prob(n):\n",
    "    points = ['О', 'Р']\n",
    "    trails = product(points, repeat=n)\n",
    "    counter=0\n",
    "    t_list=[] \n",
    "    for t in trails:\n",
    "        counter+=1\n",
    "#         print(t)\n",
    "        if 'РРР' in ''.join(t):\n",
    "            t_list.append(t)\n",
    "    return len(t_list)/counter\n",
    "    ... # здесь должна быть функция, \n",
    "        # которая возвращает вероятность выпадения трех решек подряд\n",
    "        # т.е. решение пункта б)\n",
    "    \n",
    "# your code here\n",
    "find_prob(6)"
   ]
  },
  {
   "cell_type": "code",
   "execution_count": 9,
   "metadata": {
    "deletable": false,
    "editable": false,
    "nbgrader": {
     "cell_type": "code",
     "checksum": "97958744137065eeb97170f7898676fd",
     "grade": true,
     "grade_id": "cell-5f0c2b95602568bd",
     "locked": true,
     "points": 1,
     "schema_version": 3,
     "solution": false,
     "task": false
    }
   },
   "outputs": [],
   "source": [
    "assert np.abs(find_prob(6) - 0.3125) < 1e-5\n",
    "assert np.abs(find_prob(7) - 0.3671875) < 1e-5\n",
    "assert np.abs(find_prob(8) - 0.41796875) < 1e-5\n",
    "assert np.abs(find_prob(9) - 0.46484375) < 1e-5\n",
    "assert np.abs(find_prob(10) - 0.5078125) < 1e-5\n"
   ]
  },
  {
   "cell_type": "code",
   "execution_count": null,
   "metadata": {},
   "outputs": [],
   "source": []
  }
 ],
 "metadata": {
  "kernelspec": {
   "display_name": "Python 3",
   "language": "python",
   "name": "python3"
  },
  "language_info": {
   "codemirror_mode": {
    "name": "ipython",
    "version": 3
   },
   "file_extension": ".py",
   "mimetype": "text/x-python",
   "name": "python",
   "nbconvert_exporter": "python",
   "pygments_lexer": "ipython3",
   "version": "3.7.6"
  }
 },
 "nbformat": 4,
 "nbformat_minor": 4
}
