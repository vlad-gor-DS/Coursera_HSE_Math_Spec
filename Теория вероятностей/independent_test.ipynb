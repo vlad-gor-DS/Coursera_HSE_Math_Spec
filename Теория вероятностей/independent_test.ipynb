{
 "cells": [
  {
   "cell_type": "markdown",
   "metadata": {
    "deletable": false,
    "editable": false,
    "nbgrader": {
     "cell_type": "markdown",
     "checksum": "df9b2b44a9b47cff8c6d31bb754c1b0f",
     "grade": false,
     "grade_id": "cell-ccb9ce0c7feb7640",
     "locked": true,
     "schema_version": 3,
     "solution": false,
     "task": false
    }
   },
   "source": [
    "# Парадокс Байеса: независимые медицинские тесты"
   ]
  },
  {
   "cell_type": "markdown",
   "metadata": {
    "deletable": false,
    "editable": false,
    "nbgrader": {
     "cell_type": "markdown",
     "checksum": "5fc50bdf331073ab33f0210c2aea4f10",
     "grade": false,
     "grade_id": "cell-30ec48176d97d541",
     "locked": true,
     "schema_version": 3,
     "solution": false,
     "task": false
    }
   },
   "source": [
    "***Условие задачи:***"
   ]
  },
  {
   "cell_type": "markdown",
   "metadata": {
    "deletable": false,
    "editable": false,
    "nbgrader": {
     "cell_type": "markdown",
     "checksum": "c25562a991da166f6cf21128706d26b0",
     "grade": false,
     "grade_id": "cell-617712aedab82eec",
     "locked": true,
     "schema_version": 3,
     "solution": false,
     "task": false
    }
   },
   "source": [
    "Доля больных некоторым заболеванием составляет часть $\\mathbf{w}$ от населения ($\\mathbf{0<w<1}$).\n",
    "Вероятность ложноположительного теста равна величине параметра **false_positive**,\n",
    "а вероятность ложноотрицательного **false_negative**.\n",
    "Напишите программу, которая выводит вероятность заболевания при условии, что человек получил $\\mathbf{n}$ отрицательных тестов и $\\mathbf{p}$ положительных.\n",
    "\n",
    "*Отметим, что порядок, в котором получены результаты теста, не влияет на вероятность искомого события. Поэтому важно лишь их количество.*"
   ]
  },
  {
   "cell_type": "code",
   "execution_count": null,
   "metadata": {
    "deletable": false,
    "editable": false,
    "nbgrader": {
     "cell_type": "code",
     "checksum": "a1ee5651e38677aeefe4d00e53eb105f",
     "grade": false,
     "grade_id": "cell-bbac9b0bdb1ec614",
     "locked": true,
     "schema_version": 3,
     "solution": false,
     "task": false
    }
   },
   "outputs": [],
   "source": [
    "import numpy as np"
   ]
  },
  {
   "cell_type": "code",
   "execution_count": 23,
   "metadata": {
    "deletable": false,
    "nbgrader": {
     "cell_type": "code",
     "checksum": "26e1f1f4d4e019353d606ac7fff5366a",
     "grade": false,
     "grade_id": "cell-f9114cc6068a9e88",
     "locked": false,
     "schema_version": 3,
     "solution": true,
     "task": false
    }
   },
   "outputs": [
    {
     "data": {
      "text/plain": [
       "0.00044096875322975176"
      ]
     },
     "execution_count": 23,
     "metadata": {},
     "output_type": "execute_result"
    }
   ],
   "source": [
    "# не меняйте название функции!\n",
    "\n",
    "def illness_prob(w, false_positive, false_negative, p, n):\n",
    "    return ((1-false_negative)**p*false_negative**n*w)/((1-false_negative)**p*false_negative**n*w + false_positive**p*(1-false_positive)**n*(1-w))\n",
    "    ... # здесь должна быть функция, которая возвращает вероятность заболевания при условии,\n",
    "        # что человек получил 𝐧 отрицательных тестов и 𝐩 положительных.\n",
    "    \n",
    "# your code here\n",
    "illness_prob(0.005, 0.1, 0.2, 1, 3)"
   ]
  },
  {
   "cell_type": "code",
   "execution_count": 24,
   "metadata": {
    "deletable": false,
    "editable": false,
    "nbgrader": {
     "cell_type": "code",
     "checksum": "91649d0621434be7819e28217a86a9a3",
     "grade": true,
     "grade_id": "cell-fd4ea4e49fe69293",
     "locked": true,
     "points": 1,
     "schema_version": 3,
     "solution": false,
     "task": false
    }
   },
   "outputs": [],
   "source": [
    "assert np.abs(illness_prob(0.01, 0.1, 0.1, 4, 2) - 0.45000000000000007) < 1e-5\n",
    "assert np.abs(illness_prob(0.005, 0.1, 0.2, 1, 3) - 0.00044096875322975176) < 1e-5\n",
    "assert np.abs(illness_prob(0.01, 0.1, 0.1, 1, 2) - 0.0011210762331838567) < 1e-5\n",
    "assert np.abs(illness_prob(0.005, 0.7, 0.3, 1, 3) - 0.004999999999999997) < 1e-5\n",
    "assert np.abs(illness_prob(0.02, 0.03, 0.4, 1, 3) - 0.027825495967183488) < 1e-5\n",
    "assert np.abs(illness_prob(0, 0.2, 0.8, 4, 8) - 0.0) < 1e-5\n",
    "assert np.abs(illness_prob(1, 0.2, 0.8, 4, 7) - 1.0) < 1e-5\n"
   ]
  },
  {
   "cell_type": "code",
   "execution_count": null,
   "metadata": {},
   "outputs": [],
   "source": []
  }
 ],
 "metadata": {
  "kernelspec": {
   "display_name": "Python 3",
   "language": "python",
   "name": "python3"
  },
  "language_info": {
   "codemirror_mode": {
    "name": "ipython",
    "version": 3
   },
   "file_extension": ".py",
   "mimetype": "text/x-python",
   "name": "python",
   "nbconvert_exporter": "python",
   "pygments_lexer": "ipython3",
   "version": "3.7.6"
  }
 },
 "nbformat": 4,
 "nbformat_minor": 4
}
