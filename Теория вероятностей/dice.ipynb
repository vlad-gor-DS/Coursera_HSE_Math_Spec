{
 "cells": [
  {
   "cell_type": "markdown",
   "metadata": {
    "collapsed": true,
    "deletable": false,
    "editable": false,
    "nbgrader": {
     "cell_type": "markdown",
     "checksum": "c4fedc1d57db1f05d501a474b2a1cdd1",
     "grade": false,
     "grade_id": "cell-54b1ef7034cbf5a2",
     "locked": true,
     "schema_version": 3,
     "solution": false,
     "task": false
    }
   },
   "source": [
    "# Задача про кубик"
   ]
  },
  {
   "cell_type": "markdown",
   "metadata": {
    "deletable": false,
    "editable": false,
    "nbgrader": {
     "cell_type": "markdown",
     "checksum": "0d9e20e08c22d1b2ac9005903039e6b0",
     "grade": false,
     "grade_id": "cell-edd2aebeb6cdc5b7",
     "locked": true,
     "schema_version": 3,
     "solution": false,
     "task": false
    }
   },
   "source": [
    "***Условие задачи:***"
   ]
  },
  {
   "cell_type": "markdown",
   "metadata": {
    "deletable": false,
    "editable": false,
    "nbgrader": {
     "cell_type": "markdown",
     "checksum": "986d851dcb3bd930158792e13223621d",
     "grade": false,
     "grade_id": "cell-a89ab0d52a9ab65e",
     "locked": true,
     "schema_version": 3,
     "solution": false,
     "task": false
    }
   },
   "source": [
    "Кубик бросают $n \\geqslant 3$ раз ($n < 10$). \n",
    "\n",
    "Предполагая, что элементарные исходы равновероятны, найдите\n",
    "вероятности следующих событий:\n",
    "\n",
    "a) $A$ — \"выпало хотя бы две шестерки\";\n",
    "\n",
    "б) $B$ — \"выпало хотя бы две шестерки и хотя бы одна единичка\";\n",
    "\n",
    "в) $C$ — \"не выпало ни одной шестерки, но выпала хотя бы одна единичка\"."
   ]
  },
  {
   "cell_type": "markdown",
   "metadata": {
    "deletable": false,
    "editable": false,
    "nbgrader": {
     "cell_type": "markdown",
     "checksum": "ea43e9913d99558e79d7859cc1ce1fcc",
     "grade": false,
     "grade_id": "cell-e45e0795ce4178d0",
     "locked": true,
     "schema_version": 3,
     "solution": false,
     "task": false
    }
   },
   "source": [
    "Программа на вход получает $n$. Ответом в программе должно быть число, равное вероятности события, заданного в пункте."
   ]
  },
  {
   "cell_type": "code",
   "execution_count": 3,
   "metadata": {
    "deletable": false,
    "editable": false,
    "nbgrader": {
     "cell_type": "code",
     "checksum": "56a3f264ee9de3feb5ed5fd24b59931d",
     "grade": false,
     "grade_id": "cell-ed69fa8167173dcd",
     "locked": true,
     "schema_version": 3,
     "solution": false,
     "task": false
    }
   },
   "outputs": [],
   "source": [
    "import numpy as np\n",
    "from itertools import product"
   ]
  },
  {
   "cell_type": "code",
   "execution_count": null,
   "metadata": {
    "scrolled": true
   },
   "outputs": [],
   "source": []
  },
  {
   "cell_type": "code",
   "execution_count": 17,
   "metadata": {
    "deletable": false,
    "nbgrader": {
     "cell_type": "code",
     "checksum": "cc16a21b246e4798c22c1b0456c6035b",
     "grade": false,
     "grade_id": "cell-649c7db0b1b62e42",
     "locked": false,
     "schema_version": 3,
     "solution": true,
     "task": false
    }
   },
   "outputs": [
    {
     "data": {
      "text/plain": [
       "0.13194444444444445"
      ]
     },
     "execution_count": 17,
     "metadata": {},
     "output_type": "execute_result"
    }
   ],
   "source": [
    "# не меняйте названия функций!\n",
    "\n",
    "def f_A(n):\n",
    "    # составляем все количество комбинаций\n",
    "    points = ['1', '2', '3', '4', '5', '6']\n",
    "    trials = product(points, repeat=n)\n",
    "    t_list = []\n",
    "    counter = 0\n",
    "    for t in trials:\n",
    "        t_list.append(t)\n",
    "        if t.count('6')>=2:\n",
    "            counter+=1\n",
    "    return counter/len(t_list)\n",
    "    # находим отношение благоприятных исходов ко всем исходам\n",
    "    \n",
    "    ... # здесь должна быть функция, которая возвращает вероятность события A\n",
    "    \n",
    "# your code here\n",
    "f_A(4)"
   ]
  },
  {
   "cell_type": "code",
   "execution_count": 18,
   "metadata": {
    "deletable": false,
    "editable": false,
    "nbgrader": {
     "cell_type": "code",
     "checksum": "bf1534420fd27e817f6677cb4c04194f",
     "grade": true,
     "grade_id": "cell-755ae76e4d7892f7",
     "locked": true,
     "points": 1,
     "schema_version": 3,
     "solution": false,
     "task": false
    }
   },
   "outputs": [],
   "source": [
    "assert np.abs(f_A(3) - 0.07407407407407407) < 1e-5\n",
    "assert np.abs(f_A(4) - 0.13194444444444442) < 1e-5\n",
    "assert np.abs(f_A(5) - 0.1962448559670782) < 1e-5\n",
    "assert np.abs(f_A(6) - 0.26322445130315497) < 1e-5\n",
    "assert np.abs(f_A(7) - 0.33020404663923186) < 1e-5\n"
   ]
  },
  {
   "cell_type": "code",
   "execution_count": 19,
   "metadata": {
    "deletable": false,
    "nbgrader": {
     "cell_type": "code",
     "checksum": "553196f5941483a218160d3d85b111d3",
     "grade": false,
     "grade_id": "cell-9fd898ea5e5589d1",
     "locked": false,
     "schema_version": 3,
     "solution": true,
     "task": false
    }
   },
   "outputs": [],
   "source": [
    "\n",
    "def f_B (n):\n",
    "    points = ['1', '2', '3', '4', '5', '6']\n",
    "    trials = product(points, repeat=n)\n",
    "    t_list = []\n",
    "    counter = 0\n",
    "    for t in trials:\n",
    "        t_list.append(t)\n",
    "        if t.count('6')>=2 and t.count('1')>=1:\n",
    "            counter+=1\n",
    "    return counter/len(t_list)\n",
    "    ... # здесь должна быть функция, которая возвращает вероятность события B\n",
    "    \n",
    "# your code here"
   ]
  },
  {
   "cell_type": "code",
   "execution_count": 20,
   "metadata": {
    "deletable": false,
    "editable": false,
    "nbgrader": {
     "cell_type": "code",
     "checksum": "9a95376b2457cd83a3e0a73c8d124245",
     "grade": true,
     "grade_id": "cell-2038987078bfd574",
     "locked": true,
     "points": 1,
     "schema_version": 3,
     "solution": false,
     "task": false
    }
   },
   "outputs": [],
   "source": [
    "assert np.abs(f_B(3) - 0.01388888888888884) < 1e-5\n",
    "assert np.abs(f_B(4) - 0.04475308641975306) < 1e-5\n",
    "assert np.abs(f_B(5) - 0.09066358024691357) < 1e-5\n",
    "assert np.abs(f_B(6) - 0.14780521262002744) < 1e-5\n",
    "assert np.abs(f_B(7) - 0.2120734739368999) < 1e-5\n"
   ]
  },
  {
   "cell_type": "code",
   "execution_count": 21,
   "metadata": {
    "deletable": false,
    "nbgrader": {
     "cell_type": "code",
     "checksum": "6b9796a61cc223a22043648609d3a271",
     "grade": false,
     "grade_id": "cell-e76116045089af83",
     "locked": false,
     "schema_version": 3,
     "solution": true,
     "task": false
    }
   },
   "outputs": [],
   "source": [
    "\n",
    "def f_C (n):\n",
    "    points = ['1', '2', '3', '4', '5', '6']\n",
    "    trials = product(points, repeat=n)\n",
    "    t_list = []\n",
    "    counter = 0\n",
    "    for t in trials:\n",
    "        t_list.append(t)\n",
    "        if t.count('6')==0 and t.count('1')>=1:\n",
    "            counter+=1\n",
    "    return counter/len(t_list)\n",
    "    ... # здесь должна быть функция, которая возвращает вероятность события C\n",
    "\n",
    "# your code here\n"
   ]
  },
  {
   "cell_type": "code",
   "execution_count": 22,
   "metadata": {
    "deletable": false,
    "editable": false,
    "nbgrader": {
     "cell_type": "code",
     "checksum": "606d4a9d37a926959483180ba77c85cd",
     "grade": true,
     "grade_id": "cell-684cdd2b2c578142",
     "locked": true,
     "points": 1,
     "schema_version": 3,
     "solution": false,
     "task": false
    }
   },
   "outputs": [],
   "source": [
    "assert np.abs(f_C(2) - 0.25) < 1e-5\n",
    "assert np.abs(f_C(4) - 0.2847222222222222) < 1e-5\n",
    "assert np.abs(f_C(5) - 0.270190329218107) < 1e-5\n",
    "assert np.abs(f_C(6) - 0.24710648148148148) < 1e-5\n",
    "assert np.abs(f_C(7) - 0.22055398376771834) < 1e-5\n"
   ]
  },
  {
   "cell_type": "code",
   "execution_count": null,
   "metadata": {},
   "outputs": [],
   "source": []
  }
 ],
 "metadata": {
  "kernelspec": {
   "display_name": "Python 3",
   "language": "python",
   "name": "python3"
  },
  "language_info": {
   "codemirror_mode": {
    "name": "ipython",
    "version": 3
   },
   "file_extension": ".py",
   "mimetype": "text/x-python",
   "name": "python",
   "nbconvert_exporter": "python",
   "pygments_lexer": "ipython3",
   "version": "3.7.6"
  }
 },
 "nbformat": 4,
 "nbformat_minor": 2
}
