{
 "cells": [
  {
   "cell_type": "markdown",
   "metadata": {},
   "source": [
    "# Демонстрация закона больших чисел"
   ]
  },
  {
   "cell_type": "markdown",
   "metadata": {},
   "source": [
    "Сыграем $n$ пратий «Let's Make a Deal».\n",
    "\n",
    "Как Вы помните, рассматривались три стратегии:\n",
    "\n",
    "**1)** не менять выбор (STAY);\n",
    "\n",
    "**2)** изменить выбор случайным образом (RANDOM CHOICE);\n",
    "\n",
    "**3)** изменить свой выбор на противоположный (SWITCH).\n",
    "\n",
    "Предположим, что мы придерживаемся первой стратегии. Пусть $X_k$ — индикатор выигрыша в партии номер $k$.\n",
    "\n",
    "Если мы придерживаемся первой стратегии, то  $\\operatorname{E} X_k=\\frac 13.$\n",
    "\n",
    "Пусть $\\overline {X}_{n}={\\frac {1}{n}}(X_{1}+\\ldots +X_{n})$ — среднее число выигрышей при такой стратегии.\n",
    "\n",
    "Тогда согласно закону больших чисел получим, что  $\\forall \\varepsilon >0\\quad  \\lim \\limits_{n\\to \\infty }\\ P\\!\\left(\\,\\left|{\\overline {X}}_{n}-\\frac 13 \\right|>\\varepsilon \\,\\right)=0.$\n",
    "\n",
    "Наглядно убедимся, что это так."
   ]
  },
  {
   "cell_type": "code",
   "execution_count": 2,
   "metadata": {},
   "outputs": [],
   "source": [
    "from random import randint\n",
    "from random import choice\n",
    "import matplotlib.pyplot as plt\n",
    "%matplotlib inline\n",
    "plt.style.use('seaborn-whitegrid')"
   ]
  },
  {
   "cell_type": "code",
   "execution_count": 3,
   "metadata": {
    "scrolled": false
   },
   "outputs": [
    {
     "name": "stdout",
     "output_type": "stream",
     "text": [
      "Количество выигрышей при первой стратегии (STAY): 3317 из 10000\n"
     ]
    }
   ],
   "source": [
    "n = 10000\n",
    "counter = 0\n",
    "for _ in range(n):\n",
    "    car = randint(1, 3)\n",
    "    contestant_choice = randint(1, 3)\n",
    "    if car == contestant_choice:\n",
    "        counter += 1\n",
    "\n",
    "print('Количество выигрышей при первой стратегии (STAY):', counter, 'из', n )"
   ]
  },
  {
   "cell_type": "code",
   "execution_count": 4,
   "metadata": {},
   "outputs": [
    {
     "name": "stdout",
     "output_type": "stream",
     "text": [
      "Количество выигрышей при третьей стратегии (SWITCH): 6663 из 10000\n"
     ]
    }
   ],
   "source": [
    "n = 10000\n",
    "counter = 0\n",
    "for _ in range(n):\n",
    "    doors = [1, 2, 3]\n",
    "    car = randint(1, 3)\n",
    "    contestant_choice = randint(1, 3)\n",
    "    doors.remove(contestant_choice) #игрок меняет ответ\n",
    "    \n",
    "    if contestant_choice == car:\n",
    "        host_choice = choice(doors)\n",
    "    else:\n",
    "        doors.remove(car)\n",
    "        host_choice = choice(doors)\n",
    "        doors.append(car)\n",
    "    \n",
    "    doors.remove(host_choice)    #ведущий открыл дверь\n",
    "    if doors[0] == car:\n",
    "        counter += 1\n",
    "print('Количество выигрышей при третьей стратегии (SWITCH):', counter, 'из', n )"
   ]
  },
  {
   "cell_type": "code",
   "execution_count": 5,
   "metadata": {},
   "outputs": [
    {
     "data": {
      "text/plain": [
       "326"
      ]
     },
     "execution_count": 5,
     "metadata": {},
     "output_type": "execute_result"
    }
   ],
   "source": [
    "def LLN_visualisation(n):\n",
    "    counter = 0\n",
    "    for _ in range(n):\n",
    "        car = randint(1, 3)\n",
    "        contestant_choice = randint(1, 3)\n",
    "        if car == contestant_choice:\n",
    "            counter += 1\n",
    "    return(counter)\n",
    "\n",
    "   # print('Количество выигрышей при первой стратегии (STAY):', counter, 'из', n )\n",
    "    \n",
    "LLN_visualisation(1000)\n"
   ]
  },
  {
   "cell_type": "code",
   "execution_count": 9,
   "metadata": {},
   "outputs": [
    {
     "data": {
      "image/png": "[encoded data removed]",
      "text/plain": [
       "<Figure size 432x288 with 1 Axes>"
      ]
     },
     "metadata": {},
     "output_type": "display_data"
    }
   ],
   "source": [
    "probability = [LLN_visualisation(i)/i for i in range(1, 1000)]\n",
    "plt.plot(range(1, 1000),probability, '-', linewidth = 1)\n",
    "plt.ylim(-0.1,1.1)\n",
    "plt.show()"
   ]
  },
  {
   "cell_type": "code",
   "execution_count": null,
   "metadata": {},
   "outputs": [],
   "source": []
  }
 ],
 "metadata": {
  "kernelspec": {
   "display_name": "Python 3",
   "language": "python",
   "name": "python3"
  },
  "language_info": {
   "codemirror_mode": {
    "name": "ipython",
    "version": 3
   },
   "file_extension": ".py",
   "mimetype": "text/x-python",
   "name": "python",
   "nbconvert_exporter": "python",
   "pygments_lexer": "ipython3",
   "version": "3.7.6"
  }
 },
 "nbformat": 4,
 "nbformat_minor": 2
}
