{
 "cells": [
  {
   "cell_type": "code",
   "execution_count": 1,
   "metadata": {},
   "outputs": [
    {
     "data": {
      "text/plain": [
       "[-1.5*(5*x - 3*y)/(3*x + 2*y - 8)**1.5 + 5/(3*x + 2*y - 8)**0.5,\n",
       " -1.0*(5*x - 3*y)/(3*x + 2*y - 8)**1.5 - 3/(3*x + 2*y - 8)**0.5]"
      ]
     },
     "metadata": {},
     "output_type": "display_data"
    }
   ],
   "source": [
    "# !pip install sympy\n",
    "\n",
    "from sympy import *\n",
    "\n",
    "# заводим переменные\n",
    "x,y,z = symbols('x y z')\n",
    "\n",
    "# берем сложную функцию\n",
    "func = (5*x - 3*y)/((3*x+2*y-8)**(1/2))\n",
    "\n",
    "# вычисляем производные по каждой переменной - в итоге получаем вектор градиента\n",
    "# diff - это метод получения производной - в скобках указывается переменная по которой берется производная\n",
    "grad = [func.diff(var) for var in [x,y]]\n",
    "\n",
    "display(grad)\n",
    "\n",
    "# вычисляем значение градиента в точке (1,3)\n",
    "# evalf - метод вычисления значения функции, subs - получает словарь из значений переменных\n",
    "[g.evalf(subs={x:1,y:3}) for g in grad]"
   ]
  },
  {
   "cell_type": "code",
   "execution_count": 2,
   "metadata": {},
   "outputs": [
    {
     "data": {
      "text/plain": [
       "[11.0000000000000, 1.00000000000000]"
      ]
     },
     "execution_count": 2,
     "metadata": {},
     "output_type": "execute_result"
    }
   ],
   "source": [
    "# вычисляем значение градиента в точке (1,3)\n",
    "# evalf - метод вычисления значения функции, subs - получает словарь из значений переменных\n",
    "[g.evalf(subs={x:1,y:3}) for g in grad]"
   ]
  },
  {
   "cell_type": "code",
   "execution_count": 3,
   "metadata": {},
   "outputs": [
    {
     "ename": "AttributeError",
     "evalue": "'Mul' object has no attribute 'hessian'",
     "output_type": "error",
     "traceback": [
      "\u001b[1;31m---------------------------------------------------------------------------\u001b[0m",
      "\u001b[1;31mAttributeError\u001b[0m                            Traceback (most recent call last)",
      "\u001b[1;32m~\\AppData\\Local\\Temp/ipykernel_14372/3394518049.py\u001b[0m in \u001b[0;36m<module>\u001b[1;34m\u001b[0m\n\u001b[1;32m----> 1\u001b[1;33m \u001b[0mfunc\u001b[0m\u001b[1;33m.\u001b[0m\u001b[0mhessian\u001b[0m\u001b[1;33m(\u001b[0m\u001b[1;33m)\u001b[0m\u001b[1;33m\u001b[0m\u001b[1;33m\u001b[0m\u001b[0m\n\u001b[0m",
      "\u001b[1;31mAttributeError\u001b[0m: 'Mul' object has no attribute 'hessian'"
     ]
    }
   ],
   "source": [
    "func.hessian()"
   ]
  },
  {
   "cell_type": "code",
   "execution_count": 15,
   "metadata": {},
   "outputs": [],
   "source": [
    "x,y,z = symbols('x y z')"
   ]
  },
  {
   "cell_type": "code",
   "execution_count": 4,
   "metadata": {},
   "outputs": [],
   "source": [
    "f2 = (5*x - 3*y)/((3*x+2*y-8)**(1/2))"
   ]
  },
  {
   "cell_type": "code",
   "execution_count": 5,
   "metadata": {},
   "outputs": [
    {
     "data": {
      "text/plain": [
       "[-1.5*(5*x - 3*y)/(3*x + 2*y - 8)**1.5 + 5/(3*x + 2*y - 8)**0.5,\n",
       " -1.0*(5*x - 3*y)/(3*x + 2*y - 8)**1.5 - 3/(3*x + 2*y - 8)**0.5]"
      ]
     },
     "execution_count": 5,
     "metadata": {},
     "output_type": "execute_result"
    }
   ],
   "source": [
    "g2 = [f2.diff(var) for var in [x,y]]\n",
    "g2"
   ]
  },
  {
   "cell_type": "code",
   "execution_count": 6,
   "metadata": {},
   "outputs": [
    {
     "data": {
      "text/plain": [
       "[11.0000000000000, 1.00000000000000]"
      ]
     },
     "execution_count": 6,
     "metadata": {},
     "output_type": "execute_result"
    }
   ],
   "source": [
    "[g.evalf(subs={x:1,y:3}) for g in g2]"
   ]
  },
  {
   "cell_type": "code",
   "execution_count": 11,
   "metadata": {},
   "outputs": [],
   "source": [
    "# Вычислить производную вектор-функции\n",
    "f1 = E**(x-1)\n",
    "f2 = E**(x**2-1)\n",
    "f3 = E**(x**3-1)\n",
    "\n",
    "F = Matrix([f1,f2,f3])"
   ]
  },
  {
   "cell_type": "code",
   "execution_count": 13,
   "metadata": {},
   "outputs": [
    {
     "data": {
      "text/latex": [
       "$\\displaystyle \\left[\\begin{matrix}1.0\\\\2.0\\\\3.0\\end{matrix}\\right]$"
      ],
      "text/plain": [
       "Matrix([\n",
       "[1.0],\n",
       "[2.0],\n",
       "[3.0]])"
      ]
     },
     "execution_count": 13,
     "metadata": {},
     "output_type": "execute_result"
    }
   ],
   "source": [
    "dF = F.diff()\n",
    "dF.evalf(subs={x:1})"
   ]
  },
  {
   "cell_type": "code",
   "execution_count": 37,
   "metadata": {},
   "outputs": [
    {
     "data": {
      "text/plain": [
       "[-2.23606797749979*x + 4.47213595499958*y + 2.23606797749979*z,\n",
       " 4.47213595499958*x + 6.70820393249937*y - 2.23606797749979*z]"
      ]
     },
     "execution_count": 37,
     "metadata": {},
     "output_type": "execute_result"
    }
   ],
   "source": [
    "# вычислить градиент матрицы\n",
    "import numpy as np \n",
    "\n",
    "A = np.array([\n",
    "    [-1,2,1],\n",
    "    [2,3,-1]]) \n",
    "\n",
    "F = list((5**(1/2)*A@np.array([[x],[y],[z]])).T[0])\n",
    "F "
   ]
  },
  {
   "cell_type": "code",
   "execution_count": 38,
   "metadata": {},
   "outputs": [],
   "source": [
    "# dF = F.diff()\n",
    "# dF.evalf(subs={xg2 = \n",
    "# [F.diff(var) for var in [x,y,z]]"
   ]
  },
  {
   "cell_type": "code",
   "execution_count": 42,
   "metadata": {},
   "outputs": [
    {
     "data": {
      "text/latex": [
       "$\\displaystyle - x + 2 y + 3 z$"
      ],
      "text/plain": [
       "-x + 2*y + 3*z"
      ]
     },
     "execution_count": 42,
     "metadata": {},
     "output_type": "execute_result"
    }
   ],
   "source": [
    "# скалярное произведение\n",
    "p = (np.array([-1,2,3])@np.array([[x],[y],[z]]))[0]\n",
    "p"
   ]
  },
  {
   "cell_type": "code",
   "execution_count": 44,
   "metadata": {},
   "outputs": [
    {
     "data": {
      "text/plain": [
       "[-1, 2, 3]"
      ]
     },
     "execution_count": 44,
     "metadata": {},
     "output_type": "execute_result"
    }
   ],
   "source": [
    "g2 = [p.diff(var) for var in [x,y,z]]\n",
    "g2"
   ]
  },
  {
   "cell_type": "code",
   "execution_count": null,
   "metadata": {},
   "outputs": [],
   "source": []
  }
 ],
 "metadata": {
  "interpreter": {
   "hash": "a33517d9d7dd072cede418c1d1656427de6858e0f2f8270c12eb9a099f89b41c"
  },
  "kernelspec": {
   "display_name": "Python 3.9.7 64-bit",
   "language": "python",
   "name": "python3"
  },
  "language_info": {
   "codemirror_mode": {
    "name": "ipython",
    "version": 3
   },
   "file_extension": ".py",
   "mimetype": "text/x-python",
   "name": "python",
   "nbconvert_exporter": "python",
   "pygments_lexer": "ipython3",
   "version": "3.9.7"
  },
  "orig_nbformat": 4
 },
 "nbformat": 4,
 "nbformat_minor": 2
}
