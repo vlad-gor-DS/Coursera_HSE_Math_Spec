{
 "cells": [
  {
   "cell_type": "markdown",
   "metadata": {
    "deletable": false,
    "editable": false,
    "nbgrader": {
     "cell_type": "markdown",
     "checksum": "ddcfcbd8a15c83c0674b8736c71dcd5a",
     "grade": false,
     "grade_id": "cell-05521c5bfd23df7e",
     "locked": true,
     "schema_version": 3,
     "solution": false,
     "task": false
    }
   },
   "source": [
    "# Пределы и приближения\n",
    "\n",
    "В этом задании вы решите несколько простых задач на оценивание значений пределов и рядов."
   ]
  },
  {
   "cell_type": "code",
   "execution_count": null,
   "metadata": {},
   "outputs": [],
   "source": [
    "import numpy as np\n",
    "from matplotlib import pyplot as plt"
   ]
  },
  {
   "cell_type": "markdown",
   "metadata": {
    "deletable": false,
    "editable": false,
    "nbgrader": {
     "cell_type": "markdown",
     "checksum": "a92b40cdff05e270b18f86d4a66302c3",
     "grade": false,
     "grade_id": "cell-ad9b3aa5728febb3",
     "locked": true,
     "schema_version": 3,
     "solution": false,
     "task": false
    }
   },
   "source": [
    "Давайте просуммируем первые 1000 членов последовательности $x_n = \\frac{1}{n^2}$."
   ]
  },
  {
   "cell_type": "code",
   "execution_count": null,
   "metadata": {},
   "outputs": [],
   "source": [
    "s = sum(1 / np.arange(1, 1001) ** 2)\n",
    "s"
   ]
  },
  {
   "cell_type": "markdown",
   "metadata": {
    "deletable": false,
    "editable": false,
    "nbgrader": {
     "cell_type": "markdown",
     "checksum": "6f5e6c0cee6fa951a1b253cbc6f49ca6",
     "grade": false,
     "grade_id": "cell-69fad610793d58cc",
     "locked": true,
     "schema_version": 3,
     "solution": false,
     "task": false
    }
   },
   "source": [
    "Насколько хорошо полученный результат оценивает истинное значение ряда? Давайте посмотрим на зависимость префиксной суммы от числа слагаемых:"
   ]
  },
  {
   "cell_type": "code",
   "execution_count": null,
   "metadata": {},
   "outputs": [],
   "source": [
    "x = np.arange(1, 100000)\n",
    "y = np.cumsum(1 / x ** 2)\n",
    "N = 50\n",
    "\n",
    "plt.figure(figsize=(8,6))\n",
    "plt.title('$S_n$')\n",
    "plt.semilogx(x[N:], y[N:], lw=2)\n",
    "plt.semilogx(x[N:], np.full_like(y[N:], s), color='black')\n",
    "plt.show()"
   ]
  },
  {
   "cell_type": "markdown",
   "metadata": {
    "deletable": false,
    "editable": false,
    "nbgrader": {
     "cell_type": "markdown",
     "checksum": "398e6bd5a2163b060f068cb36ae2a975",
     "grade": false,
     "grade_id": "cell-1882bb0462b947d9",
     "locked": true,
     "schema_version": 3,
     "solution": false,
     "task": false
    }
   },
   "source": [
    "Оказывается, не так уж и плохо."
   ]
  },
  {
   "cell_type": "markdown",
   "metadata": {
    "deletable": false,
    "editable": false,
    "nbgrader": {
     "cell_type": "markdown",
     "checksum": "b77545e061275af5d2b26a83c3fc5d5f",
     "grade": false,
     "grade_id": "cell-8ae4579f91594097",
     "locked": true,
     "schema_version": 3,
     "solution": false,
     "task": false
    }
   },
   "source": [
    "Аналогично (взяв $x$ побольше) можно оценивать и значения пределов. Например, $\\lim\\limits_{x \\to \\infty} \\left( \\sqrt[100]{x^{100} + 50 x^{99}} - x \\right)$.\n",
    "\n",
    "Заметим, что под корнем вычисляются очень большие значения, так что при вычислениях может потеряться точность; однако в целом корень ведёт себя почти как линейная функция. Вынесем $x$ за скобки:\n",
    "\n",
    "$$\\lim_{x \\to \\infty} x \\left( \\sqrt[100]{1 + 50 / x} - 1 \\right).$$"
   ]
  },
  {
   "cell_type": "code",
   "execution_count": null,
   "metadata": {},
   "outputs": [],
   "source": [
    "y = x * ((1 + 50 / x) ** 0.01 - 1)\n",
    "y_bad = (x ** 100 + 50 * x ** 99) ** 0.01 - x  # На этой строчке Python предупреждает о переполнении!\n",
    "\n",
    "plt.figure(figsize=(8, 6))\n",
    "plt.title('$f(x) = \\sqrt[100]{x^{100} + 50 x^{99}} - x$')\n",
    "plt.semilogx(x, y)\n",
    "plt.show()"
   ]
  },
  {
   "cell_type": "markdown",
   "metadata": {
    "deletable": false,
    "editable": false,
    "nbgrader": {
     "cell_type": "markdown",
     "checksum": "9b4940fc46dc5666bd5eb348f8405c95",
     "grade": false,
     "grade_id": "cell-3a7f4358d4722864",
     "locked": true,
     "schema_version": 3,
     "solution": false,
     "task": false
    }
   },
   "source": [
    "**Задача №1:** Начиная с какого $N$ сумма первых $N$ членов ряда $\\sum\\limits_{n=1}^\\infty \\frac{(-1)^n}{n}$ оценивает значение всего ряда с точностью $10^{-6}$?\n",
    "\n",
    "Подсказка: вспомните, как мы искали корни уравнений на прошлой неделе."
   ]
  },
  {
   "cell_type": "code",
   "execution_count": null,
   "metadata": {
    "deletable": false,
    "nbgrader": {
     "cell_type": "code",
     "checksum": "e505f56f7c5eb2233477c02cd150e362",
     "grade": false,
     "grade_id": "cell-a7f2180aa7408b86",
     "locked": false,
     "schema_version": 3,
     "solution": true,
     "task": false
    }
   },
   "outputs": [],
   "source": [
    "# Поместите ответ на задачу №1 в переменную N в этой клетке.\n",
    "N = ...\n",
    "\n",
    "# your code here\n"
   ]
  },
  {
   "cell_type": "code",
   "execution_count": null,
   "metadata": {
    "deletable": false,
    "editable": false,
    "nbgrader": {
     "cell_type": "code",
     "checksum": "f05accdc52d1a036194108f7a6b59edd",
     "grade": true,
     "grade_id": "cell-f988e1554dba99b0",
     "locked": true,
     "points": 1,
     "schema_version": 3,
     "solution": false,
     "task": false
    }
   },
   "outputs": [],
   "source": [
    "# Проверка решения на корректность\n"
   ]
  },
  {
   "cell_type": "markdown",
   "metadata": {
    "deletable": false,
    "editable": false,
    "nbgrader": {
     "cell_type": "markdown",
     "checksum": "a702875a612e62e1b31aa24164c2b564",
     "grade": false,
     "grade_id": "cell-39602a3f38892f4a",
     "locked": true,
     "schema_version": 3,
     "solution": false,
     "task": false
    }
   },
   "source": [
    "**Задача №2:** Вычислите с точностью до $10^{-6}$ произведение первых 1000 членов последовательности $x_n=\\frac{n^2-2}{n^2}$."
   ]
  },
  {
   "cell_type": "code",
   "execution_count": null,
   "metadata": {
    "deletable": false,
    "nbgrader": {
     "cell_type": "code",
     "checksum": "23d2b2d5db08dc74be4347a830cfcef1",
     "grade": false,
     "grade_id": "cell-096126aa605c6990",
     "locked": false,
     "schema_version": 3,
     "solution": true,
     "task": false
    }
   },
   "outputs": [],
   "source": [
    "# Поместите ответ на задачу №2 в переменную P в этой клетке.\n",
    "P = ...\n",
    "\n",
    "# your code here\n"
   ]
  },
  {
   "cell_type": "code",
   "execution_count": null,
   "metadata": {
    "deletable": false,
    "editable": false,
    "nbgrader": {
     "cell_type": "code",
     "checksum": "0e1ad496ed4d7925673e0eafddb2581b",
     "grade": true,
     "grade_id": "cell-55e5b077578068ca",
     "locked": true,
     "points": 1,
     "schema_version": 3,
     "solution": false,
     "task": false
    }
   },
   "outputs": [],
   "source": [
    "# Проверка решения на корректность\n"
   ]
  },
  {
   "cell_type": "markdown",
   "metadata": {
    "deletable": false,
    "editable": false,
    "nbgrader": {
     "cell_type": "markdown",
     "checksum": "e5c250893db09f6eda301099b189bf73",
     "grade": false,
     "grade_id": "cell-8cdcdb9b3de9445d",
     "locked": true,
     "schema_version": 3,
     "solution": false,
     "task": false
    }
   },
   "source": [
    "**Задача №3:** Оцените  $\\lim\\limits_{x\\to+\\infty}\\Bigl(\\sqrt[2021]{x^{2021}+2021 x^{2020}+1}-x\\Bigr)$, взяв $x=10^6$. Дайте ответ с точностью до $10^{-6}$."
   ]
  },
  {
   "cell_type": "code",
   "execution_count": null,
   "metadata": {
    "deletable": false,
    "nbgrader": {
     "cell_type": "code",
     "checksum": "5335bda138b7fe984c222fc9d8694609",
     "grade": false,
     "grade_id": "cell-a6e419f315279813",
     "locked": false,
     "schema_version": 3,
     "solution": true,
     "task": false
    }
   },
   "outputs": [],
   "source": [
    "# Поместите ответ на задачу №3 в переменную lim в этой клетке.\n",
    "lim = ...\n",
    "\n",
    "# your code here\n"
   ]
  },
  {
   "cell_type": "code",
   "execution_count": null,
   "metadata": {
    "deletable": false,
    "editable": false,
    "nbgrader": {
     "cell_type": "code",
     "checksum": "623d98a9c1f144b5e67a30b00dcac1c4",
     "grade": true,
     "grade_id": "cell-32715709a06442ec",
     "locked": true,
     "points": 1,
     "schema_version": 3,
     "solution": false,
     "task": false
    }
   },
   "outputs": [],
   "source": [
    "# Проверка решения на корректность\n"
   ]
  }
 ],
 "metadata": {
  "kernelspec": {
   "display_name": "Python 3",
   "language": "python",
   "name": "python3"
  },
  "language_info": {
   "codemirror_mode": {
    "name": "ipython",
    "version": 3
   },
   "file_extension": ".py",
   "mimetype": "text/x-python",
   "name": "python",
   "nbconvert_exporter": "python",
   "pygments_lexer": "ipython3",
   "version": "3.7.6"
  }
 },
 "nbformat": 4,
 "nbformat_minor": 4
}
