{
 "cells": [
  {
   "cell_type": "markdown",
   "metadata": {
    "deletable": false,
    "editable": false,
    "nbgrader": {
     "cell_type": "markdown",
     "checksum": "28e34f44ab5f71f30a98d645e9607a0a",
     "grade": false,
     "grade_id": "cell-6666ceeb4ec75892",
     "locked": true,
     "schema_version": 3,
     "solution": false,
     "task": false
    }
   },
   "source": [
    "# Вторая производная и производные высших порядков\n",
    "\n",
    "В этом задании вы примените уже имеющиеся у вас навыки для решения задач с производными высших порядков."
   ]
  },
  {
   "cell_type": "code",
   "execution_count": null,
   "metadata": {},
   "outputs": [],
   "source": [
    "import numpy as np\n",
    "import sympy as sp\n",
    "from matplotlib import pyplot as plt"
   ]
  },
  {
   "cell_type": "markdown",
   "metadata": {
    "deletable": false,
    "editable": false,
    "nbgrader": {
     "cell_type": "markdown",
     "checksum": "bf0e74b16a141e27426b5bbbacb9e16e",
     "grade": false,
     "grade_id": "cell-4f8c8168ad46c88e",
     "locked": true,
     "schema_version": 3,
     "solution": false,
     "task": false
    }
   },
   "source": [
    "Для начала давайте найдём точки перегиба функции $f(x) = \\frac{x^3 - 5x^2 + 1}{x^2 + 1}$. График самой функции:"
   ]
  },
  {
   "cell_type": "code",
   "execution_count": null,
   "metadata": {},
   "outputs": [],
   "source": [
    "def f(x):\n",
    "    return (x ** 3 - 5 * x ** 2 + 1) / (x ** 2 + 1)\n",
    "\n",
    "x = np.arange(-10, 10, 0.05)\n",
    "y = f(x)\n",
    "\n",
    "plt.figure(figsize=(8, 6))\n",
    "plt.plot(x, y)\n",
    "plt.title('$f(x) = (x^3 - 5 x^2 + 1) / (x^2 + 1)$')\n",
    "plt.axhline(y=0, color='k')\n",
    "plt.axvline(x=0, color='k')\n",
    "plt.grid(True)\n",
    "plt.show()"
   ]
  },
  {
   "cell_type": "markdown",
   "metadata": {
    "deletable": false,
    "editable": false,
    "nbgrader": {
     "cell_type": "markdown",
     "checksum": "24e0cec21425d0ed7272d9b780df2ef3",
     "grade": false,
     "grade_id": "cell-961252ba84e3bec7",
     "locked": true,
     "schema_version": 3,
     "solution": false,
     "task": false
    }
   },
   "source": [
    "Необходимый признак точки перегиба &mdash; равенство нулю второй производной. Найдём её с помощью Sympy:"
   ]
  },
  {
   "cell_type": "code",
   "execution_count": null,
   "metadata": {},
   "outputs": [],
   "source": [
    "X = sp.Symbol('x')\n",
    "sp.simplify(f(X).diff(X, X))"
   ]
  },
  {
   "cell_type": "markdown",
   "metadata": {
    "deletable": false,
    "editable": false,
    "nbgrader": {
     "cell_type": "markdown",
     "checksum": "c8673b5d4cf969d83d0ca2067549113d",
     "grade": false,
     "grade_id": "cell-b3597d072c6853ad",
     "locked": true,
     "schema_version": 3,
     "solution": false,
     "task": false
    }
   },
   "source": [
    "Заметим, что нули дроби &mdash; это в точности нули числителя за исключением нулей знаменателя. График числителя:"
   ]
  },
  {
   "cell_type": "code",
   "execution_count": null,
   "metadata": {},
   "outputs": [],
   "source": [
    "def ddf(x):\n",
    "    return x ** 3 - 18 * x ** 2 - 3 * x + 6\n",
    "\n",
    "x = np.arange(-1, 1, 0.001)\n",
    "ddy = ddf(x)\n",
    "\n",
    "plt.figure(figsize=(8, 6))\n",
    "plt.plot(x, ddy)\n",
    "plt.axhline(y=0, color='k')\n",
    "plt.axvline(x=0, color='k')\n",
    "plt.grid(True)\n",
    "plt.show()"
   ]
  },
  {
   "cell_type": "markdown",
   "metadata": {
    "deletable": false,
    "editable": false,
    "nbgrader": {
     "cell_type": "markdown",
     "checksum": "d4a0acc1f9f0a90023f1f46b3ccaca38",
     "grade": false,
     "grade_id": "cell-8b03151ebafc71de",
     "locked": true,
     "schema_version": 3,
     "solution": false,
     "task": false
    }
   },
   "source": [
    "Численно найдём корни, т.е. точки перегиба $f$, с точностью $10^{-3}$:"
   ]
  },
  {
   "cell_type": "code",
   "execution_count": null,
   "metadata": {},
   "outputs": [],
   "source": [
    "mask = np.abs(ddy) < 0.007\n",
    "x[mask]"
   ]
  },
  {
   "cell_type": "markdown",
   "metadata": {
    "deletable": false,
    "editable": false,
    "nbgrader": {
     "cell_type": "markdown",
     "checksum": "9351820203cb3c12dfc2c8417a8c09fc",
     "grade": false,
     "grade_id": "cell-027ec8626eeaaf47",
     "locked": true,
     "schema_version": 3,
     "solution": false,
     "task": false
    }
   },
   "source": [
    "Для повышения точности можно взять небольшой интервал вокруг одного из корней, раздробить его ещё мельче и повторить с ним ту же операцию:"
   ]
  },
  {
   "cell_type": "code",
   "execution_count": null,
   "metadata": {},
   "outputs": [],
   "source": [
    "x = np.arange(-0.654, -0.652, 0.000001)\n",
    "ddy = ddf(x)\n",
    "mask = np.abs(ddy) < 0.000007\n",
    "x0 = x[mask][0]\n",
    "x0"
   ]
  },
  {
   "cell_type": "markdown",
   "metadata": {
    "deletable": false,
    "editable": false,
    "nbgrader": {
     "cell_type": "markdown",
     "checksum": "daf715cedaad36fb6bcbfbdd8bc0a08f",
     "grade": false,
     "grade_id": "cell-eb9cb972f64f6928",
     "locked": true,
     "schema_version": 3,
     "solution": false,
     "task": false
    }
   },
   "source": [
    "Проведём касательную в предполагаемой точке перегиба. Первая производная $f'$:"
   ]
  },
  {
   "cell_type": "code",
   "execution_count": null,
   "metadata": {},
   "outputs": [],
   "source": [
    "sp.simplify(f(X).diff(X))"
   ]
  },
  {
   "cell_type": "markdown",
   "metadata": {
    "deletable": false,
    "editable": false,
    "nbgrader": {
     "cell_type": "markdown",
     "checksum": "885311de3371bb16469ee206d85724df",
     "grade": false,
     "grade_id": "cell-3783c36170acee62",
     "locked": true,
     "schema_version": 3,
     "solution": false,
     "task": false
    }
   },
   "source": [
    "График исходной функции и касательной:"
   ]
  },
  {
   "cell_type": "code",
   "execution_count": null,
   "metadata": {},
   "outputs": [],
   "source": [
    "def df(x):\n",
    "    return x * (x ** 3 + 3 * x - 12) / (x ** 2 + 1) ** 2\n",
    "\n",
    "def tangent(x0, x):\n",
    "    return f(x0) + (x - x0) * df(x0)\n",
    "\n",
    "x = np.arange(-2, 2, 0.05)\n",
    "y = f(x)\n",
    "tg = tangent(x0, x)\n",
    "\n",
    "plt.figure(figsize=(8, 6))\n",
    "plt.plot(x, y)\n",
    "plt.plot(x, tg)\n",
    "plt.grid(True)\n",
    "plt.axhline(y=0, color='k')\n",
    "plt.axvline(x=0, color='k')\n",
    "plt.title('$f(x)$ and tangent at point $x_0$')\n",
    "plt.show()"
   ]
  },
  {
   "cell_type": "markdown",
   "metadata": {
    "deletable": false,
    "editable": false,
    "nbgrader": {
     "cell_type": "markdown",
     "checksum": "187d11fe9801e44ffe965751a3807447",
     "grade": false,
     "grade_id": "cell-b201dab71d29cbdb",
     "locked": true,
     "schema_version": 3,
     "solution": false,
     "task": false
    }
   },
   "source": [
    "В данном случае пересечений касательной и графика больше нет, но если бы они были, вы должны помнить, как их находить численно; чтобы освежить воспоминания, можно заглянуть в задания к третьей неделе."
   ]
  },
  {
   "cell_type": "markdown",
   "metadata": {
    "deletable": false,
    "editable": false,
    "nbgrader": {
     "cell_type": "markdown",
     "checksum": "75c916ea76766e9bc71324ff59f98505",
     "grade": false,
     "grade_id": "cell-297b67e1b44c3d46",
     "locked": true,
     "schema_version": 3,
     "solution": false,
     "task": false
    }
   },
   "source": [
    "Напоследок давайте найдём точки экстремума функции $f(x,y,z)=16x^4-16x^3+7x^2-6xy-2xz+10y^2+8yz+2z^2+2z$. Для этого нам понадобятся градиент и матрица Гессе. Вторая по определению равна\n",
    "\n",
    "$$H = \\begin{pmatrix}\n",
    "    \\frac{\\partial^2 f}{\\partial x^2} & \\frac{\\partial^2 f}{\\partial x \\partial y}\n",
    "        & \\frac{\\partial^2 f}{\\partial x \\partial z} \\\\\n",
    "    \\frac{\\partial^2 f}{\\partial y \\partial x} & \\frac{\\partial^2 f}{\\partial y^2} & \\frac{\\partial^2 f}{\\partial y \\partial z} \\\\\n",
    "    \\frac{\\partial^2 f}{\\partial z \\partial x} & \\frac{\\partial^2 f}{\\partial z \\partial y} & \\frac{\\partial^2 f}{\\partial z^2}\n",
    "\\end{pmatrix}.$$\n",
    "\n",
    "Для вычисления всех необходимых производных опять воспользуемся помощью Sympy."
   ]
  },
  {
   "cell_type": "code",
   "execution_count": null,
   "metadata": {},
   "outputs": [],
   "source": [
    "x, y, z = sp.symbols('x y z')\n",
    "f = 16*x**4 - 16*x**3 + 7*x**2 - 6*x*y - 2*x*z + 10*y**2 + 8*y*z + 2*z**2 + 2*z\n",
    "f"
   ]
  },
  {
   "cell_type": "markdown",
   "metadata": {
    "deletable": false,
    "editable": false,
    "nbgrader": {
     "cell_type": "markdown",
     "checksum": "030f815c075bdde8ad034d224309faff",
     "grade": false,
     "grade_id": "cell-6f9f676c445b67ce",
     "locked": true,
     "schema_version": 3,
     "solution": false,
     "task": false
    }
   },
   "source": [
    "Необходимый признак экстремума &mdash; равенство градиента нулю. Производная по $x$:"
   ]
  },
  {
   "cell_type": "code",
   "execution_count": null,
   "metadata": {},
   "outputs": [],
   "source": [
    "dx = f.diff(x)\n",
    "dx"
   ]
  },
  {
   "cell_type": "markdown",
   "metadata": {
    "deletable": false,
    "editable": false,
    "nbgrader": {
     "cell_type": "markdown",
     "checksum": "f689bf2755d70791ef427bb828f2addc",
     "grade": false,
     "grade_id": "cell-9f4ec7d7546efd5f",
     "locked": true,
     "schema_version": 3,
     "solution": false,
     "task": false
    }
   },
   "source": [
    "По $y$:"
   ]
  },
  {
   "cell_type": "code",
   "execution_count": null,
   "metadata": {},
   "outputs": [],
   "source": [
    "dy = f.diff(y)\n",
    "dy"
   ]
  },
  {
   "cell_type": "markdown",
   "metadata": {
    "deletable": false,
    "editable": false,
    "nbgrader": {
     "cell_type": "markdown",
     "checksum": "8ee3615756bd0474727c660322a7a835",
     "grade": false,
     "grade_id": "cell-a7384dc5bb0bfe95",
     "locked": true,
     "schema_version": 3,
     "solution": false,
     "task": false
    }
   },
   "source": [
    "По $z$:"
   ]
  },
  {
   "cell_type": "code",
   "execution_count": null,
   "metadata": {},
   "outputs": [],
   "source": [
    "dz = f.diff(z)\n",
    "dz"
   ]
  },
  {
   "cell_type": "markdown",
   "metadata": {
    "deletable": false,
    "editable": false,
    "nbgrader": {
     "cell_type": "markdown",
     "checksum": "f7b1e585e20d5bf65215d37224f75555",
     "grade": false,
     "grade_id": "cell-2a9e2704759e8889",
     "locked": true,
     "schema_version": 3,
     "solution": false,
     "task": false
    }
   },
   "source": [
    "Сократим $x$ в последних двух выражениях:"
   ]
  },
  {
   "cell_type": "code",
   "execution_count": null,
   "metadata": {},
   "outputs": [],
   "source": [
    "dy - 3 * dz"
   ]
  },
  {
   "cell_type": "markdown",
   "metadata": {
    "deletable": false,
    "editable": false,
    "nbgrader": {
     "cell_type": "markdown",
     "checksum": "36744080ca031c529824ed5f080213c7",
     "grade": false,
     "grade_id": "cell-65394bbf82cbe24b",
     "locked": true,
     "schema_version": 3,
     "solution": false,
     "task": false
    }
   },
   "source": [
    "Получим, что в точке экстремума $z = -y - 3/2$. На простом примере это очевидно, но это можно было бы получить автоматически с помощью функции solve:"
   ]
  },
  {
   "cell_type": "code",
   "execution_count": null,
   "metadata": {},
   "outputs": [],
   "source": [
    "sol = sp.solve(dy - 3 * dz, z)\n",
    "sol"
   ]
  },
  {
   "cell_type": "markdown",
   "metadata": {
    "deletable": false,
    "editable": false,
    "nbgrader": {
     "cell_type": "markdown",
     "checksum": "a69bc097ba26e54e78f7f86c90f6ff41",
     "grade": false,
     "grade_id": "cell-7801ded7cc854779",
     "locked": true,
     "schema_version": 3,
     "solution": false,
     "task": false
    }
   },
   "source": [
    "Подставим это в производную по $z$:"
   ]
  },
  {
   "cell_type": "code",
   "execution_count": null,
   "metadata": {},
   "outputs": [],
   "source": [
    "dz_no_z = dz.subs(z, sol[0])\n",
    "dz_no_z"
   ]
  },
  {
   "cell_type": "markdown",
   "metadata": {
    "deletable": false,
    "editable": false,
    "nbgrader": {
     "cell_type": "markdown",
     "checksum": "5b559367411d0c46795d8197ce83672b",
     "grade": false,
     "grade_id": "cell-37d77841deeb95f0",
     "locked": true,
     "schema_version": 3,
     "solution": false,
     "task": false
    }
   },
   "source": [
    "Выразим $x$ через $y$:"
   ]
  },
  {
   "cell_type": "code",
   "execution_count": null,
   "metadata": {},
   "outputs": [],
   "source": [
    "solx = sp.solve(dz_no_z, x)\n",
    "solx"
   ]
  },
  {
   "cell_type": "markdown",
   "metadata": {
    "deletable": false,
    "editable": false,
    "nbgrader": {
     "cell_type": "markdown",
     "checksum": "b0927be16faf1aabc15fd6444d702cd3",
     "grade": false,
     "grade_id": "cell-bfc793d311b36845",
     "locked": true,
     "schema_version": 3,
     "solution": false,
     "task": false
    }
   },
   "source": [
    "Подставим все соотношения в производную по $x$:"
   ]
  },
  {
   "cell_type": "code",
   "execution_count": null,
   "metadata": {},
   "outputs": [],
   "source": [
    "expr = dx.subs(z, sol[0]).subs(x, solx[0])\n",
    "expr"
   ]
  },
  {
   "cell_type": "markdown",
   "metadata": {
    "deletable": false,
    "editable": false,
    "nbgrader": {
     "cell_type": "markdown",
     "checksum": "a0e435c68c7d9a7216d48650c9e0acfb",
     "grade": false,
     "grade_id": "cell-a8a920edb03f3908",
     "locked": true,
     "schema_version": 3,
     "solution": false,
     "task": false
    }
   },
   "source": [
    "Посмотрим на выражение без скобок:"
   ]
  },
  {
   "cell_type": "code",
   "execution_count": null,
   "metadata": {},
   "outputs": [],
   "source": [
    "sp.expand(expr)"
   ]
  },
  {
   "cell_type": "markdown",
   "metadata": {
    "deletable": false,
    "editable": false,
    "nbgrader": {
     "cell_type": "markdown",
     "checksum": "15f97d8270cbcc391df27648c65251bf",
     "grade": false,
     "grade_id": "cell-b99c2f5441201339",
     "locked": true,
     "schema_version": 3,
     "solution": false,
     "task": false
    }
   },
   "source": [
    "Мы вряд ли сможем подобрать корни этого многочлена. Может быть, у Sympy получится сделать это за нас?"
   ]
  },
  {
   "cell_type": "code",
   "execution_count": null,
   "metadata": {},
   "outputs": [],
   "source": [
    "soly = sp.solve(expr, y)\n",
    "soly"
   ]
  },
  {
   "cell_type": "code",
   "execution_count": null,
   "metadata": {},
   "outputs": [],
   "source": [
    "y0 = soly[0]\n",
    "x0 = solx[0].subs(y, y0)\n",
    "z0 = sol[0].subs(y, y0)\n",
    "x0, y0, z0"
   ]
  },
  {
   "cell_type": "markdown",
   "metadata": {
    "deletable": false,
    "editable": false,
    "nbgrader": {
     "cell_type": "markdown",
     "checksum": "7cb81f20a57385ee77607a1600fe206d",
     "grade": false,
     "grade_id": "cell-81bae89847fed2a0",
     "locked": true,
     "schema_version": 3,
     "solution": false,
     "task": false
    }
   },
   "source": [
    "Итак, мы получили какое-то решение. Теперь посмотрим, какой же это экстремум (и экстремум ли). Матрица Гессе:"
   ]
  },
  {
   "cell_type": "code",
   "execution_count": null,
   "metadata": {},
   "outputs": [],
   "source": [
    "xs = [x, y, z]\n",
    "H = sp.Matrix([ [ f.diff(x1, x2) for x2 in xs ] for x1 in xs ])\n",
    "H"
   ]
  },
  {
   "cell_type": "markdown",
   "metadata": {
    "deletable": false,
    "editable": false,
    "nbgrader": {
     "cell_type": "markdown",
     "checksum": "40634ac4ecfad1621b3c66be5f54fee9",
     "grade": false,
     "grade_id": "cell-8b12e4e4d7b93a8c",
     "locked": true,
     "schema_version": 3,
     "solution": false,
     "task": false
    }
   },
   "source": [
    "В точке $(x_0, y_0, z_0)$:"
   ]
  },
  {
   "cell_type": "code",
   "execution_count": null,
   "metadata": {},
   "outputs": [],
   "source": [
    "H0 = H.subs([(x, x0), (y, y0), (z, z0)])\n",
    "H0"
   ]
  },
  {
   "cell_type": "markdown",
   "metadata": {
    "deletable": false,
    "editable": false,
    "nbgrader": {
     "cell_type": "markdown",
     "checksum": "4fa50c0755ac9626cc4d8f0e9265ac63",
     "grade": false,
     "grade_id": "cell-c58dfd7c01ac73b3",
     "locked": true,
     "schema_version": 3,
     "solution": false,
     "task": false
    }
   },
   "source": [
    "Угловые миноры:"
   ]
  },
  {
   "cell_type": "code",
   "execution_count": null,
   "metadata": {},
   "outputs": [],
   "source": [
    "H0[0, 0], H0[:2, :2].det(), H0.det()"
   ]
  },
  {
   "cell_type": "markdown",
   "metadata": {
    "deletable": false,
    "editable": false,
    "nbgrader": {
     "cell_type": "markdown",
     "checksum": "7a0741537d2412b5cd07479a7ae12056",
     "grade": false,
     "grade_id": "cell-569fc612d70d4d9a",
     "locked": true,
     "schema_version": 3,
     "solution": false,
     "task": false
    }
   },
   "source": [
    "Получаем, что $(x_0, y_0, z_0)$ &mdash; седловая точка. Больше седловых точек и экстремумов нет."
   ]
  },
  {
   "cell_type": "markdown",
   "metadata": {
    "deletable": false,
    "editable": false,
    "nbgrader": {
     "cell_type": "markdown",
     "checksum": "c81dadaa9e86f2703b7d41e67979fafc",
     "grade": false,
     "grade_id": "cell-061ec4a23f81398e",
     "locked": true,
     "schema_version": 3,
     "solution": false,
     "task": false
    }
   },
   "source": [
    "## Задачи"
   ]
  },
  {
   "cell_type": "markdown",
   "metadata": {
    "deletable": false,
    "editable": false,
    "nbgrader": {
     "cell_type": "markdown",
     "checksum": "70236b2e2f7ec40af09de9d8f46c9256",
     "grade": false,
     "grade_id": "cell-0fe6a3a358641c00",
     "locked": true,
     "schema_version": 3,
     "solution": false,
     "task": false
    }
   },
   "source": [
    "**Задача №1:** Дана функция $f(x)=\\frac{x^6-x^3+1}{x^2+1}$. Постройте её график и найдите численно её левую точку перегиба $x_0$. Укажите ответ с точностью до $10^{-6}$."
   ]
  },
  {
   "cell_type": "code",
   "execution_count": null,
   "metadata": {
    "deletable": false,
    "nbgrader": {
     "cell_type": "code",
     "checksum": "5175db0e00d7836b6f7b5916292d17d0",
     "grade": false,
     "grade_id": "cell-f4e59128998449f9",
     "locked": false,
     "schema_version": 3,
     "solution": true,
     "task": false
    }
   },
   "outputs": [],
   "source": [
    "# Поместите ответ на задачу №1 в переменную x0 в этой клетке.\n",
    "x0 = ...\n",
    "\n",
    "# your code here\n"
   ]
  },
  {
   "cell_type": "code",
   "execution_count": null,
   "metadata": {
    "deletable": false,
    "editable": false,
    "nbgrader": {
     "cell_type": "code",
     "checksum": "b19f598d180eff82dc0554c77a0cfb58",
     "grade": true,
     "grade_id": "cell-66f2d3a043dd73ff",
     "locked": true,
     "points": 1,
     "schema_version": 3,
     "solution": false,
     "task": false
    }
   },
   "outputs": [],
   "source": [
    "# Проверка решения на корректность.\n"
   ]
  },
  {
   "cell_type": "markdown",
   "metadata": {
    "deletable": false,
    "editable": false,
    "nbgrader": {
     "cell_type": "markdown",
     "checksum": "5e1b095c85a66b64a494f194922c2e24",
     "grade": false,
     "grade_id": "cell-f6830d54d4874c6d",
     "locked": true,
     "schema_version": 3,
     "solution": false,
     "task": false
    }
   },
   "source": [
    "**Задача №2:** (Продолжение задачи 1). Постройте график $f(x)$ и график касательной, проходящей через $(x_0, f(x_0))$. Найдите второе пересечение графика с касательной.\n",
    "В ответе укажите с точностью до $10^{-3}$ сумму координат найденной точки."
   ]
  },
  {
   "cell_type": "code",
   "execution_count": null,
   "metadata": {
    "deletable": false,
    "nbgrader": {
     "cell_type": "code",
     "checksum": "86add512b9da2d247f9d54532b0a92f9",
     "grade": false,
     "grade_id": "cell-c8c82325341f819a",
     "locked": false,
     "schema_version": 3,
     "solution": true,
     "task": false
    }
   },
   "outputs": [],
   "source": [
    "# Поместите ответ на задачу №2 в переменную csum в этой клетке.\n",
    "csum = ...\n",
    "\n",
    "# your code here\n"
   ]
  },
  {
   "cell_type": "code",
   "execution_count": null,
   "metadata": {
    "deletable": false,
    "editable": false,
    "nbgrader": {
     "cell_type": "code",
     "checksum": "d875ebcc38d0694ee4edfd1e6e3c4050",
     "grade": true,
     "grade_id": "cell-3a033d6827b6bf46",
     "locked": true,
     "points": 1,
     "schema_version": 3,
     "solution": false,
     "task": false
    }
   },
   "outputs": [],
   "source": [
    "# Проверка решения на корректность.\n"
   ]
  },
  {
   "cell_type": "markdown",
   "metadata": {
    "deletable": false,
    "editable": false,
    "nbgrader": {
     "cell_type": "markdown",
     "checksum": "cca6ac8308421f8a438fb7de9ef0e394",
     "grade": false,
     "grade_id": "cell-38d76eb4f538a5f6",
     "locked": true,
     "schema_version": 3,
     "solution": false,
     "task": false
    }
   },
   "source": [
    "**Задача №3:** Функция $f:\\:\\mathbb{R}^5\\to\\mathbb{R}$ задана формулой\n",
    "$f(\\vec{x})=|x|^5-x_1x_2x_3x_4x_5$.\n",
    "Найдите ее матрицу Гессе в точке \n",
    "$\\Bigl(\\frac{1}{2},\\frac{1}{4},\\frac{1}{8},\\frac{1}{16},\\frac{1}{32}\\Bigr)$. \n",
    "В ответе укажите с точностью до $10^{-3}$ определитель матрицы."
   ]
  },
  {
   "cell_type": "code",
   "execution_count": null,
   "metadata": {
    "deletable": false,
    "nbgrader": {
     "cell_type": "code",
     "checksum": "d590eb97aee6730fea0ac3d59f59f14a",
     "grade": false,
     "grade_id": "cell-5ebfa1e47c2477c5",
     "locked": false,
     "schema_version": 3,
     "solution": true,
     "task": false
    }
   },
   "outputs": [],
   "source": [
    "# Поместите ответ на задачу №3 в переменную hessian в этой клетке.\n",
    "hessian = ...\n",
    "\n",
    "# your code here\n"
   ]
  },
  {
   "cell_type": "code",
   "execution_count": null,
   "metadata": {
    "deletable": false,
    "editable": false,
    "nbgrader": {
     "cell_type": "code",
     "checksum": "9049c48215e13767cccfde9fde3624d8",
     "grade": true,
     "grade_id": "cell-16f647aeb902559b",
     "locked": true,
     "points": 1,
     "schema_version": 3,
     "solution": false,
     "task": false
    }
   },
   "outputs": [],
   "source": [
    "# Проверка решения на корректность.\n"
   ]
  }
 ],
 "metadata": {
  "kernelspec": {
   "display_name": "Python 3",
   "language": "python",
   "name": "python3"
  },
  "language_info": {
   "codemirror_mode": {
    "name": "ipython",
    "version": 3
   },
   "file_extension": ".py",
   "mimetype": "text/x-python",
   "name": "python",
   "nbconvert_exporter": "python",
   "pygments_lexer": "ipython3",
   "version": "3.7.6"
  }
 },
 "nbformat": 4,
 "nbformat_minor": 4
}
