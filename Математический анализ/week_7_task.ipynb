{
 "cells": [
  {
   "cell_type": "markdown",
   "metadata": {
    "deletable": false,
    "editable": false,
    "nbgrader": {
     "cell_type": "markdown",
     "checksum": "f53be99b5f8a228a0dfa223b2221fe3e",
     "grade": false,
     "grade_id": "cell-1c68d3cefffb25d6",
     "locked": true,
     "schema_version": 3,
     "solution": false,
     "task": false
    }
   },
   "source": [
    "# Интегралы\n",
    "\n",
    "В этом задании вы овладеете базовыми навыками численного интегрирования."
   ]
  },
  {
   "cell_type": "code",
   "execution_count": null,
   "metadata": {},
   "outputs": [],
   "source": [
    "import numpy as np\n",
    "from matplotlib import pyplot as plt"
   ]
  },
  {
   "cell_type": "markdown",
   "metadata": {
    "deletable": false,
    "editable": false,
    "nbgrader": {
     "cell_type": "markdown",
     "checksum": "51a4467c73d8b0fd19ebdc88cfd9cec1",
     "grade": false,
     "grade_id": "cell-2d612a39bd0eef10",
     "locked": true,
     "schema_version": 3,
     "solution": false,
     "task": false
    }
   },
   "source": [
    "Оценим с помощью формулы трапеций значение интеграла $\\int\\limits_1^{10} \\frac{\\sin{x}}{x} dx$.\n",
    "\n",
    "Разобьём отрезок интегрирования на маленькие кусочки:"
   ]
  },
  {
   "cell_type": "code",
   "execution_count": null,
   "metadata": {},
   "outputs": [],
   "source": [
    "h = 0.05\n",
    "x = np.arange(1, 10 + h, h)       # arange создаёт не отрезки, а полуинтервалы\n",
    "assert np.abs(x[-1] - 10) < 1e-6  # но мы исправляем это сдвигом правого конца на h"
   ]
  },
  {
   "cell_type": "markdown",
   "metadata": {
    "deletable": false,
    "editable": false,
    "nbgrader": {
     "cell_type": "markdown",
     "checksum": "999cb7939d3bac13f8ab3e1b3d683f4d",
     "grade": false,
     "grade_id": "cell-c664f2401514d1d3",
     "locked": true,
     "schema_version": 3,
     "solution": false,
     "task": false
    }
   },
   "source": [
    "В формуле трапеций интеграл на каждом маленьком кусочке $[x_1, x_2]$ приближается площадью трапеции, опирающейся на этот отрезок. Например, если бы мы интегрировали с шагом $0.5$, интеграл на кусочке $[7.5, 8]$ приближался бы следующим образом:"
   ]
  },
  {
   "cell_type": "code",
   "execution_count": null,
   "metadata": {},
   "outputs": [],
   "source": [
    "def f(x):\n",
    "    return np.sin(x) / x\n",
    "\n",
    "xs = np.arange(7, 10, 0.01)\n",
    "ys = f(xs)\n",
    "\n",
    "a = 7.5\n",
    "b = 8\n",
    "trapezoid = plt.Polygon([\n",
    "    [a, 0],\n",
    "    [b, 0],\n",
    "    [b, f(b)],\n",
    "    [a, f(a)],\n",
    "], hatch='//', facecolor='0.9', edgecolor='k')\n",
    "\n",
    "plt.figure(figsize=(8, 6))\n",
    "plt.plot(xs, ys)\n",
    "plt.axhline(y=0, color='k')\n",
    "plt.gca().add_patch(trapezoid)\n",
    "plt.show()"
   ]
  },
  {
   "cell_type": "markdown",
   "metadata": {
    "deletable": false,
    "editable": false,
    "nbgrader": {
     "cell_type": "markdown",
     "checksum": "53869c7d96f208ae08eec5b7feadcd86",
     "grade": false,
     "grade_id": "cell-3da5050aa1924295",
     "locked": true,
     "schema_version": 3,
     "solution": false,
     "task": false
    }
   },
   "source": [
    "Иными словами,\n",
    "\n",
    "$$\\int\\limits_a^b f(x) \\,dx\n",
    "\\approx \\sum\\limits_{i = 0}^{N - 1} \\big( x_{i + 1} - x_i \\big) \\frac{f(x_i) + f(x_{i + 1})}{2}\n",
    "= \\sum\\limits_{i = 0}^{N - 1} \\frac{h \\cdot \\big( f(x_i) + f(x_{i + 1}) \\big)}{2}\n",
    "= \\frac{h}{2} \\sum\\limits_{i = 0}^{N - 1} f(x_i) + f(x_{i + 1}).$$\n",
    "\n",
    "У нас уже есть массив разбиений $x$. Как с его помощью выразить эту сумму? Вычислим $y = f(x)$ и поэлементно сложим два массива: $y$ без первого элемента и $y$ без последнего, затем просуммируем элементы получившегося массива."
   ]
  },
  {
   "cell_type": "code",
   "execution_count": null,
   "metadata": {},
   "outputs": [],
   "source": [
    "y = f(x)\n",
    "integral = h / 2 * sum(y[1:] + y[:-1])\n",
    "integral"
   ]
  },
  {
   "cell_type": "markdown",
   "metadata": {
    "deletable": false,
    "editable": false,
    "nbgrader": {
     "cell_type": "markdown",
     "checksum": "8704289a1dbe7334639a97801f519fe4",
     "grade": false,
     "grade_id": "cell-91e85ef7893e876b",
     "locked": true,
     "schema_version": 3,
     "solution": false,
     "task": false
    }
   },
   "source": [
    "На самом деле, можно поступить по-другому: заметим, что в этой сумме каждое $x_i$ кроме первого и последнего повторяется дважды. Получим формулу:\n",
    "\n",
    "$$\\int\\limits_a^b f(x) \\,dx \\approx h \\cdot \\left( \\frac{f(a) + f(b)}{2} + \\sum_{i = 1}^{N - 1} f(x_i) \\right).$$\n",
    "\n",
    "Здесь не создаётся новых массивов, так что это решение экономнее по памяти.\n",
    "\n",
    "(Конечно, есть решение, в котором не создаётся никаких массивов, но на Python оно будет работать медленно)"
   ]
  },
  {
   "cell_type": "code",
   "execution_count": null,
   "metadata": {},
   "outputs": [],
   "source": [
    "integral = h * ((y[0] + y[-1]) / 2 + sum(y[1:-1]))\n",
    "integral"
   ]
  },
  {
   "cell_type": "markdown",
   "metadata": {
    "deletable": false,
    "editable": false,
    "nbgrader": {
     "cell_type": "markdown",
     "checksum": "4e3cda65a75f997aed14133933b95474",
     "grade": false,
     "grade_id": "cell-282ade2314e086fc",
     "locked": true,
     "schema_version": 3,
     "solution": false,
     "task": false
    }
   },
   "source": [
    "Другой способ приближённого вычисления интегралов &mdash; заменить интеграл на каждом кусочке площадью прямоугольника (объёмом прямоугольного параллелепипеда) со сторонами $h \\times f(\\xi)$ ($h \\times h \\times f(\\xi)$), где $\\xi$ &mdash; какая-то точка внутри кусочка. Возвращаясь к кусочку $[7.5, 8]$, интеграл на нём приближался бы площадью следующего прямоугольника:"
   ]
  },
  {
   "cell_type": "code",
   "execution_count": null,
   "metadata": {},
   "outputs": [],
   "source": [
    "xs = np.arange(7, 8.5, h)\n",
    "ys = f(xs)\n",
    "xi = 7.75\n",
    "\n",
    "rect = plt.Polygon([\n",
    "    [a, 0],\n",
    "    [b, 0],\n",
    "    [b, f(xi)],\n",
    "    [a, f(xi)],\n",
    "], hatch='//', facecolor='0.9', edgecolor='k')\n",
    "\n",
    "plt.figure(figsize=(8, 6))\n",
    "plt.plot(xs, ys)\n",
    "plt.axhline(y=0, color='k')\n",
    "plt.gca().add_patch(rect)\n",
    "plt.show()"
   ]
  },
  {
   "cell_type": "markdown",
   "metadata": {
    "deletable": false,
    "editable": false,
    "nbgrader": {
     "cell_type": "markdown",
     "checksum": "62e6a514ecb51b34e418ca822533e10c",
     "grade": false,
     "grade_id": "cell-c4c5a9fa21c04a9d",
     "locked": true,
     "schema_version": 3,
     "solution": false,
     "task": false
    }
   },
   "source": [
    "Например, давайте оценим значение двойного интеграла $\\int\\limits_0^1 \\int\\limits_0^1 e^{-x^2 - y^2} \\,dx \\,dy$, разбив область интегрирования на 10'000 квадратов и просуммировав объёмы соответствующих прямоугольных параллелепипедов.\n",
    "\n",
    "Сначала получим \"решётку\" из средних точек квадратов:"
   ]
  },
  {
   "cell_type": "code",
   "execution_count": null,
   "metadata": {},
   "outputs": [],
   "source": [
    "n = int(np.sqrt(10 ** 4))\n",
    "dots = np.linspace(0, 1, num=n, endpoint=False)  # 100 точек от 0 до 1, не включая 1\n",
    "shift = (1 / n) / 2\n",
    "dots = shift + dots  # не забываем, что нам нужны не углы квадратов, а центры\n",
    "x, y = np.meshgrid(dots, dots)"
   ]
  },
  {
   "cell_type": "markdown",
   "metadata": {
    "deletable": false,
    "editable": false,
    "nbgrader": {
     "cell_type": "markdown",
     "checksum": "8d36edfeaf34c238ffb546414d646b84",
     "grade": false,
     "grade_id": "cell-03bafa7160812b9b",
     "locked": true,
     "schema_version": 3,
     "solution": false,
     "task": false
    }
   },
   "source": [
    "Формула для оценки:\n",
    "\n",
    "$$\\int\\limits_a^b \\int\\limits_c^d f(x, y) \\,dx \\,dy\n",
    "\\approx \\sum_{i = 1}^M \\sum_{j = 1}^N \\frac{d - c}{M} \\cdot \\frac{b - a}{N} \\cdot f(x_i, y_j) = \\frac{(d - c)(b - a)}{M N} \\sum_{i = 1}^M \\sum_{j = 1}^N f(x_i, y_j)$$"
   ]
  },
  {
   "cell_type": "code",
   "execution_count": null,
   "metadata": {},
   "outputs": [],
   "source": [
    "z = np.exp(-x ** 2 - y ** 2)\n",
    "integral = (1 / n) ** 2 * z.sum()\n",
    "integral"
   ]
  },
  {
   "cell_type": "markdown",
   "metadata": {
    "deletable": false,
    "editable": false,
    "nbgrader": {
     "cell_type": "markdown",
     "checksum": "f26924cf56475cabb6d3d7032780191d",
     "grade": false,
     "grade_id": "cell-3941b8dd8f771b07",
     "locked": true,
     "schema_version": 3,
     "solution": false,
     "task": false
    }
   },
   "source": [
    "## Задачи"
   ]
  },
  {
   "cell_type": "markdown",
   "metadata": {
    "deletable": false,
    "editable": false,
    "nbgrader": {
     "cell_type": "markdown",
     "checksum": "295984439212d604df9e4d40bfcfadfa",
     "grade": false,
     "grade_id": "cell-5de4b3383baaf181",
     "locked": true,
     "schema_version": 3,
     "solution": false,
     "task": false
    }
   },
   "source": [
    "**Задача №1:** Оцените с помощью формулы трапеций с шагом $h=0.1$ значение определенного интеграла\n",
    "$\\int\\limits_0^{10} \\frac{x\\,\\sin(x^2)}{x+1}\\,dx$.\n",
    "\n",
    "Ответ дайте с точностью до $10^{-3}$."
   ]
  },
  {
   "cell_type": "code",
   "execution_count": null,
   "metadata": {
    "deletable": false,
    "nbgrader": {
     "cell_type": "code",
     "checksum": "bb6fcde5d85ddd8fb7a555c245b1815d",
     "grade": false,
     "grade_id": "cell-d0b8cdbb7debf716",
     "locked": false,
     "schema_version": 3,
     "solution": true,
     "task": false
    }
   },
   "outputs": [],
   "source": [
    "# Поместите ответ на задачу №1 в переменную int_1 в этой клетке.\n",
    "int_1 = ...\n",
    "\n",
    "# your code here\n"
   ]
  },
  {
   "cell_type": "code",
   "execution_count": null,
   "metadata": {
    "deletable": false,
    "editable": false,
    "nbgrader": {
     "cell_type": "code",
     "checksum": "8782b22cf3d93d8db49cbe9bc764940f",
     "grade": true,
     "grade_id": "cell-68b4ddc40557c2ec",
     "locked": true,
     "points": 1,
     "schema_version": 3,
     "solution": false,
     "task": false
    }
   },
   "outputs": [],
   "source": [
    "# Проверка решения на корректность.\n"
   ]
  },
  {
   "cell_type": "markdown",
   "metadata": {
    "deletable": false,
    "editable": false,
    "nbgrader": {
     "cell_type": "markdown",
     "checksum": "6ab241f23bd09cacddc6f66c9b705d4d",
     "grade": false,
     "grade_id": "cell-12fce53989b90faa",
     "locked": true,
     "schema_version": 3,
     "solution": false,
     "task": false
    }
   },
   "source": [
    "**Задача №2:** Оцените с помощью формулы трапеций с шагом $h=0.1$ значение несобственного интеграла\n",
    "$\\int\\limits_0^{+\\infty} \\frac{\\sin x}{x^2+1}\\,dx$,\n",
    "заменив $+\\infty$ на $100$.\n",
    "Ответ дайте с точностью до $10^{-3}$."
   ]
  },
  {
   "cell_type": "code",
   "execution_count": null,
   "metadata": {
    "deletable": false,
    "nbgrader": {
     "cell_type": "code",
     "checksum": "c5a4afa91f1bbc0e524c9d8c423f39b3",
     "grade": false,
     "grade_id": "cell-0d1c3fa7fced279f",
     "locked": false,
     "schema_version": 3,
     "solution": true,
     "task": false
    }
   },
   "outputs": [],
   "source": [
    "# Поместите ответ на задачу №2 в переменную int_2 в этой клетке.\n",
    "int_2 = ...\n",
    "\n",
    "# your code here\n"
   ]
  },
  {
   "cell_type": "code",
   "execution_count": null,
   "metadata": {
    "deletable": false,
    "editable": false,
    "nbgrader": {
     "cell_type": "code",
     "checksum": "abb333caf540e4b497a90515a7499b5e",
     "grade": true,
     "grade_id": "cell-13c4fa7b6644d585",
     "locked": true,
     "points": 1,
     "schema_version": 3,
     "solution": false,
     "task": false
    }
   },
   "outputs": [],
   "source": [
    "# Проверка решения на корректность.\n"
   ]
  },
  {
   "cell_type": "markdown",
   "metadata": {
    "deletable": false,
    "editable": false,
    "nbgrader": {
     "cell_type": "markdown",
     "checksum": "9bd399f535b486f3d42b781920adcad8",
     "grade": false,
     "grade_id": "cell-18d687ec4db9de2c",
     "locked": true,
     "schema_version": 3,
     "solution": false,
     "task": false
    }
   },
   "source": [
    "**Задача №3:** Вычислите приближенно двойной интеграл \n",
    "$\\int\\limits_0^1 \\int\\limits_0^1 e^{x^2-xy}\\,dx\\,dy$,\n",
    "заменив его интегральной суммой. Разбейте квадрат $[0; 1]^2$\n",
    "на $100$ одинаковых квадратиков и возьмите значения функции в их центрах.\n",
    "Ответ дайте с точностью до $10^{-3}$."
   ]
  },
  {
   "cell_type": "code",
   "execution_count": null,
   "metadata": {
    "deletable": false,
    "nbgrader": {
     "cell_type": "code",
     "checksum": "3612eef10bcf9b80bf7b7e7f5cdfdf9f",
     "grade": false,
     "grade_id": "cell-d727a62be50ecb2d",
     "locked": false,
     "schema_version": 3,
     "solution": true,
     "task": false
    }
   },
   "outputs": [],
   "source": [
    "# Поместите ответ на задачу №3 в переменную int_3 в этой клетке.\n",
    "int_3 = ...\n",
    "\n",
    "# your code here\n"
   ]
  },
  {
   "cell_type": "code",
   "execution_count": null,
   "metadata": {
    "deletable": false,
    "editable": false,
    "nbgrader": {
     "cell_type": "code",
     "checksum": "077491032666c4593ab59642eac4a6a7",
     "grade": true,
     "grade_id": "cell-2e746e54fcfdb4f4",
     "locked": true,
     "points": 1,
     "schema_version": 3,
     "solution": false,
     "task": false
    }
   },
   "outputs": [],
   "source": [
    "# Проверка решения на корректность.\n"
   ]
  }
 ],
 "metadata": {
  "kernelspec": {
   "display_name": "Python 3",
   "language": "python",
   "name": "python3"
  },
  "language_info": {
   "codemirror_mode": {
    "name": "ipython",
    "version": 3
   },
   "file_extension": ".py",
   "mimetype": "text/x-python",
   "name": "python",
   "nbconvert_exporter": "python",
   "pygments_lexer": "ipython3",
   "version": "3.7.6"
  }
 },
 "nbformat": 4,
 "nbformat_minor": 4
}
