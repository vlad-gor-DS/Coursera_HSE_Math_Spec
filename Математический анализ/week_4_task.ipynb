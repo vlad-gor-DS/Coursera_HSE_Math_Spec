{
 "cells": [
  {
   "cell_type": "markdown",
   "metadata": {
    "deletable": false,
    "editable": false,
    "nbgrader": {
     "cell_type": "markdown",
     "checksum": "fbd6ae852f45d640a80b1d7a633600bf",
     "grade": false,
     "grade_id": "cell-5dc0447f7d5b7427",
     "locked": true,
     "schema_version": 3,
     "solution": false,
     "task": false
    }
   },
   "source": [
    "# Производные - 2\n",
    "\n",
    "В этом задании вы выполните несложные упражнения с производными функций нескольких переменных, а также освоите навыки работы с библиотекой Sympy."
   ]
  },
  {
   "cell_type": "code",
   "execution_count": null,
   "metadata": {},
   "outputs": [],
   "source": [
    "import numpy as np\n",
    "import sympy as sp\n",
    "from matplotlib import pyplot as plt"
   ]
  },
  {
   "cell_type": "markdown",
   "metadata": {
    "deletable": false,
    "editable": false,
    "nbgrader": {
     "cell_type": "markdown",
     "checksum": "25990219b5d282335844dfbb3e4fb492",
     "grade": false,
     "grade_id": "cell-b2e2888598ddbc18",
     "locked": true,
     "schema_version": 3,
     "solution": false,
     "task": false
    }
   },
   "source": [
    "Научимся оценивать производную по направлению $f'_{\\vec{l}}$ по двум значениям функции.\n",
    "\n",
    "Пусть нам дано значение в точке $(x_0, y_0)$ &mdash; $f(x_0, y_0)$, и в точке, сдвинутой вдоль $\\vec{l}$ &mdash; $f(x_0 + \\Delta x, y_0 + \\Delta y)$, где $(\\Delta x, \\Delta y)$ коллинеарен $\\vec{l}$. Точная формула для производной выглядит как\n",
    "\n",
    "$$f'_{\\vec{l}}(x_0, y_0) = \\lim_{\\Delta x, \\Delta y \\to 0} \\frac{f(x_0 + \\Delta x, y_0 + \\Delta y) - f(x_0, y_0)}{\\sqrt{(\\Delta x) ^ 2 + (\\Delta y) ^ 2}}.$$\n",
    "\n",
    "Однако нам доступен только один набор $\\Delta x, \\Delta y$. Если его подставить в формулу под пределом, получим искомую оценку."
   ]
  },
  {
   "cell_type": "markdown",
   "metadata": {
    "deletable": false,
    "editable": false,
    "nbgrader": {
     "cell_type": "markdown",
     "checksum": "bd5c494e4495158b3a741f18bae098fa",
     "grade": false,
     "grade_id": "cell-5e1b9e6add5e3d20",
     "locked": true,
     "schema_version": 3,
     "solution": false,
     "task": false
    }
   },
   "source": [
    "С другой стороны, если нам требуется точное значение производной, лучше вспомнить другую формулу:\n",
    "\n",
    "$$ f'_{\\vec{l}}(x, y) = \\frac{1}{|\\vec{l}|} \\left\\langle \\left(\\textrm{grad} f\\right)(x, y),\\; \\vec{l} \\right\\rangle.$$\n",
    "\n",
    "Так, производная функции $f(\\vec{x}) = \\langle \\vec{a}, \\vec{x} \\rangle$ по направлению $\\vec{b}$ будет равна\n",
    "\n",
    "$$\\frac{1}{|\\vec{b}|} \\left\\langle \\left(\\textrm{grad} \\langle \\vec{a}, \\vec{x} \\rangle\\right)(\\vec{x}), \\vec{b} \\right\\rangle\n",
    "= \\frac{1}{|\\vec{b}|} \\langle \\vec{a}, \\vec{b} \\rangle = |\\vec{a}| \\cos{\\gamma},$$\n",
    "\n",
    "где $\\gamma$ &mdash; угол между $\\vec{a}$ и $\\vec{b}$."
   ]
  },
  {
   "cell_type": "markdown",
   "metadata": {
    "deletable": false,
    "editable": false,
    "nbgrader": {
     "cell_type": "markdown",
     "checksum": "0acf250c4abb909c513a5c36254126ad",
     "grade": false,
     "grade_id": "cell-5abae3022d5adfaa",
     "locked": true,
     "schema_version": 3,
     "solution": false,
     "task": false
    }
   },
   "source": [
    "Теперь пару слов о Sympy. Это библиотека для символьных вычислений на Python, то есть, с её помощью можно автоматически вычислять:\n",
    "\n",
    "1. выражения для элементарных функций\n",
    "2. производные\n",
    "3. определители матриц\n",
    "4. ...\n",
    "\n",
    "Поскорее начнём с ней работу. Создадим объекты, отвечающие за переменные:"
   ]
  },
  {
   "cell_type": "code",
   "execution_count": null,
   "metadata": {},
   "outputs": [],
   "source": [
    "x, y = sp.symbols('x y')\n",
    "x"
   ]
  },
  {
   "cell_type": "markdown",
   "metadata": {
    "deletable": false,
    "editable": false,
    "nbgrader": {
     "cell_type": "markdown",
     "checksum": "74f49c53a96e9a74cbbcbbd0d8622847",
     "grade": false,
     "grade_id": "cell-baa4a0483532ae32",
     "locked": true,
     "schema_version": 3,
     "solution": false,
     "task": false
    }
   },
   "source": [
    "Как и в numpy, для этих объектов перегружены арифметические операторы, а в самой библиотеке есть встроенные функции для операций посложнее:"
   ]
  },
  {
   "cell_type": "code",
   "execution_count": null,
   "metadata": {},
   "outputs": [],
   "source": [
    "f = [ sp.sin(x) + x ** 2 / y, 2 * x * y - y ** 2 / x ]\n",
    "f[0]"
   ]
  },
  {
   "cell_type": "markdown",
   "metadata": {
    "deletable": false,
    "editable": false,
    "nbgrader": {
     "cell_type": "markdown",
     "checksum": "1cecdcdda6329c19b62a7afb33509839",
     "grade": false,
     "grade_id": "cell-dd75139f35e37859",
     "locked": true,
     "schema_version": 3,
     "solution": false,
     "task": false
    }
   },
   "source": [
    "Производную можно получить с помощью метода `diff`:"
   ]
  },
  {
   "cell_type": "code",
   "execution_count": null,
   "metadata": {},
   "outputs": [],
   "source": [
    "f[0].diff(x)"
   ]
  },
  {
   "cell_type": "markdown",
   "metadata": {
    "deletable": false,
    "editable": false,
    "nbgrader": {
     "cell_type": "markdown",
     "checksum": "0eeeb3d3a99ba23e797641f026a07075",
     "grade": false,
     "grade_id": "cell-1fc42e96745ac37e",
     "locked": true,
     "schema_version": 3,
     "solution": false,
     "task": false
    }
   },
   "source": [
    "Давайте создадим матрицу Якоби отображения `f`. Напомним, матрица Якоби определяется как матрица частных производных координат отображения, то есть в случае двумерного отображения она будет равна\n",
    "\n",
    "$$\\begin{pmatrix}\n",
    "    \\frac{\\partial f_0}{\\partial x} & \\frac{\\partial f_0}{\\partial y} \\\\\n",
    "    \\frac{\\partial f_1}{\\partial x} & \\frac{\\partial f_1}{\\partial y}\n",
    "\\end{pmatrix}.$$\n",
    "\n",
    "Для этого нам пригодится класс `sympy.Matrix`:"
   ]
  },
  {
   "cell_type": "code",
   "execution_count": null,
   "metadata": {},
   "outputs": [],
   "source": [
    "J = sp.Matrix([ [ g.diff(z) for z in [x, y] ] for g in f ])\n",
    "J"
   ]
  },
  {
   "cell_type": "markdown",
   "metadata": {
    "deletable": false,
    "editable": false,
    "nbgrader": {
     "cell_type": "markdown",
     "checksum": "260054b76f93168cd4600842b36a43df",
     "grade": false,
     "grade_id": "cell-6571f3bdb1be7276",
     "locked": true,
     "schema_version": 3,
     "solution": false,
     "task": false
    }
   },
   "source": [
    "Якобиан &mdash; определитель матрицы Якоби. В Sympy определитель получается следующим образом:"
   ]
  },
  {
   "cell_type": "code",
   "execution_count": null,
   "metadata": {},
   "outputs": [],
   "source": [
    "det = J.det()\n",
    "det"
   ]
  },
  {
   "cell_type": "markdown",
   "metadata": {
    "deletable": false,
    "editable": false,
    "nbgrader": {
     "cell_type": "markdown",
     "checksum": "696e5c8061e03607d08b2406ba59946c",
     "grade": false,
     "grade_id": "cell-4189b868022ebc6d",
     "locked": true,
     "schema_version": 3,
     "solution": false,
     "task": false
    }
   },
   "source": [
    "Геометрически значение Якобиана в точке $(x, y)$ можно интерпретировать как соотношение площадей двух фигур: маленького прямоугольника вокруг $(x, y)$ и его образа под действием отображения. Так, в точке $(1, 1)$ это соотношение равно"
   ]
  },
  {
   "cell_type": "code",
   "execution_count": null,
   "metadata": {},
   "outputs": [],
   "source": [
    "det.subs([(x, 1), (y, 1)])"
   ]
  },
  {
   "cell_type": "markdown",
   "metadata": {
    "deletable": false,
    "editable": false,
    "nbgrader": {
     "cell_type": "markdown",
     "checksum": "207babcdb1bc9cce884c24d1c78ecf1b",
     "grade": false,
     "grade_id": "cell-6968aae819da665e",
     "locked": true,
     "schema_version": 3,
     "solution": false,
     "task": false
    }
   },
   "source": [
    "## Задачи"
   ]
  },
  {
   "cell_type": "markdown",
   "metadata": {
    "deletable": false,
    "editable": false,
    "nbgrader": {
     "cell_type": "markdown",
     "checksum": "079026437647fdafae5a2eac576b5dde",
     "grade": false,
     "grade_id": "cell-78ffdd7324f4af1a",
     "locked": true,
     "schema_version": 3,
     "solution": false,
     "task": false
    }
   },
   "source": [
    "**Задача №1:** Оцените производную $f'_{\\vec{l}}(0,0)$ по направлению вектора $\\vec{l}=(2,3)$, если $f(0,0)=-1.26$, $f(0.2,0.3)=-1.28$. Дайте ответ с точностью до $10^{-3}$."
   ]
  },
  {
   "cell_type": "code",
   "execution_count": null,
   "metadata": {
    "deletable": false,
    "nbgrader": {
     "cell_type": "code",
     "checksum": "463ed05d6392cfd0444872e37be941c3",
     "grade": false,
     "grade_id": "cell-df85dee94e7ecb11",
     "locked": false,
     "schema_version": 3,
     "solution": true,
     "task": false
    }
   },
   "outputs": [],
   "source": [
    "# Поместите ответ на задачу №1 в переменную df в этой клетке.\n",
    "df = ...\n",
    "\n",
    "# your code here\n"
   ]
  },
  {
   "cell_type": "code",
   "execution_count": null,
   "metadata": {
    "deletable": false,
    "editable": false,
    "nbgrader": {
     "cell_type": "code",
     "checksum": "95c3a4e0ad56f7aa41fa309ab1b79418",
     "grade": true,
     "grade_id": "cell-79bca6ecf70cb00b",
     "locked": true,
     "points": 1,
     "schema_version": 3,
     "solution": false,
     "task": false
    }
   },
   "outputs": [],
   "source": [
    "# Проверка решения на корректность.\n"
   ]
  },
  {
   "cell_type": "markdown",
   "metadata": {
    "deletable": false,
    "editable": false,
    "nbgrader": {
     "cell_type": "markdown",
     "checksum": "47bf49cd4766144b6756f8f0979f0c25",
     "grade": false,
     "grade_id": "cell-9d4f2da875fd4539",
     "locked": true,
     "schema_version": 3,
     "solution": false,
     "task": false
    }
   },
   "source": [
    "**Задача №2:** Вычислите якобиан отображения \n",
    "$f(x,y)=\\left(\\frac{x^2+ y^3}{x y^2 + 4}, \\frac{x^2+ xy^2}{x + y}\\right)$\n",
    "в точке $(1.5, -0.75)$. \n",
    "Ответ дайте с точностью до $10^{-6}$."
   ]
  },
  {
   "cell_type": "code",
   "execution_count": null,
   "metadata": {
    "deletable": false,
    "nbgrader": {
     "cell_type": "code",
     "checksum": "278a4fd4f249d681b4c53c3425943d41",
     "grade": false,
     "grade_id": "cell-708b57f2f5b046d9",
     "locked": false,
     "schema_version": 3,
     "solution": true,
     "task": false
    }
   },
   "outputs": [],
   "source": [
    "# Поместите ответ на задачу №2 в переменную jac в этой клетке.\n",
    "jac = ...\n",
    "\n",
    "# your code here\n"
   ]
  },
  {
   "cell_type": "code",
   "execution_count": null,
   "metadata": {
    "deletable": false,
    "editable": false,
    "nbgrader": {
     "cell_type": "code",
     "checksum": "c951ab553f8a2ccdbd3c6bb59983e89b",
     "grade": true,
     "grade_id": "cell-6449fe0582f37003",
     "locked": true,
     "points": 1,
     "schema_version": 3,
     "solution": false,
     "task": false
    }
   },
   "outputs": [],
   "source": [
    "# Проверка решения на корректность.\n"
   ]
  },
  {
   "cell_type": "markdown",
   "metadata": {
    "deletable": false,
    "editable": false,
    "nbgrader": {
     "cell_type": "markdown",
     "checksum": "697b20b9ec562796eb9b564b7de00ae0",
     "grade": false,
     "grade_id": "cell-e47dfa029936f286",
     "locked": true,
     "schema_version": 3,
     "solution": false,
     "task": false
    }
   },
   "source": [
    "**Задача №3:** Пусть $\\vec{a}=(1,2,\\ldots,2021)$ и функция $f:\\:\\mathbb{R}^{2021}\\to \\mathbb{R}$ задана формулой \n",
    "$f(\\vec{x})= \\frac{\\langle \\vec{a}, \\vec{x}\\rangle}{|\\vec{x}|}$.\n",
    "Вычислите производную функции $f(\\vec{x})$ в точке $(1,1,\\ldots,1)$ по направлению вектора $\\vec{a}$. \n",
    "Дайте ответ с точностью до $10^{-3}$."
   ]
  },
  {
   "cell_type": "code",
   "execution_count": null,
   "metadata": {
    "deletable": false,
    "nbgrader": {
     "cell_type": "code",
     "checksum": "a478133d38694f2da20c151277c08ba8",
     "grade": false,
     "grade_id": "cell-0645012343e0cca7",
     "locked": false,
     "schema_version": 3,
     "solution": true,
     "task": false
    }
   },
   "outputs": [],
   "source": [
    "# Поместите ответ на задачу №3 в переменную df_3 в этой клетке.\n",
    "df_3 = ...\n",
    "\n",
    "# your code here\n"
   ]
  },
  {
   "cell_type": "code",
   "execution_count": null,
   "metadata": {
    "deletable": false,
    "editable": false,
    "nbgrader": {
     "cell_type": "code",
     "checksum": "305deb12ad59d486579896da2f30c5ec",
     "grade": true,
     "grade_id": "cell-02a05ea36fef73a0",
     "locked": true,
     "points": 1,
     "schema_version": 3,
     "solution": false,
     "task": false
    }
   },
   "outputs": [],
   "source": [
    "# Проверка решения на корректность\n"
   ]
  }
 ],
 "metadata": {
  "kernelspec": {
   "display_name": "Python 3",
   "language": "python",
   "name": "python3"
  },
  "language_info": {
   "codemirror_mode": {
    "name": "ipython",
    "version": 3
   },
   "file_extension": ".py",
   "mimetype": "text/x-python",
   "name": "python",
   "nbconvert_exporter": "python",
   "pygments_lexer": "ipython3",
   "version": "3.7.6"
  }
 },
 "nbformat": 4,
 "nbformat_minor": 4
}
