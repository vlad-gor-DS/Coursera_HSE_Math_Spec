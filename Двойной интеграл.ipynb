{
 "cells": [
  {
   "cell_type": "code",
   "execution_count": 1,
   "metadata": {},
   "outputs": [
    {
     "data": {
      "text/latex": [
       "$\\displaystyle 40576$"
      ],
      "text/plain": [
       "40576"
      ]
     },
     "execution_count": 1,
     "metadata": {},
     "output_type": "execute_result"
    }
   ],
   "source": [
    "from sympy import *\n",
    "\n",
    "x, y = symbols(\"x y\")\n",
    "\n",
    "f = (x ** 2 + y ** 2)\n",
    "res = integrate(f, (y, 20, x-2), (x, 22, 30))\n",
    "res"
   ]
  },
  {
   "cell_type": "code",
   "execution_count": 3,
   "metadata": {},
   "outputs": [
    {
     "data": {
      "text/latex": [
       "$\\displaystyle 16$"
      ],
      "text/plain": [
       "16"
      ]
     },
     "execution_count": 3,
     "metadata": {},
     "output_type": "execute_result"
    }
   ],
   "source": [
    "# 2 вопрос\n",
    "f = 6*x+9*y\n",
    "res = integrate(f, (y, x, 3*x),(x, 0, 1))\n",
    "res.doit()"
   ]
  },
  {
   "cell_type": "code",
   "execution_count": 9,
   "metadata": {},
   "outputs": [
    {
     "name": "stdout",
     "output_type": "stream",
     "text": [
      "14.0\n"
     ]
    }
   ],
   "source": [
    "#  2 вопрос\n",
    "from scipy import integrate\n",
    "import numpy as np\n",
    "\n",
    "def f(x, y):\n",
    "    return 6*x+9*y\n",
    "\n",
    "v, err = integrate.dblquad(f, 0, 1, lambda x: x, lambda x:3*x)\n",
    "print(v)"
   ]
  },
  {
   "cell_type": "code",
   "execution_count": 10,
   "metadata": {},
   "outputs": [
    {
     "data": {
      "text/plain": [
       "294.4"
      ]
     },
     "execution_count": 10,
     "metadata": {},
     "output_type": "execute_result"
    }
   ],
   "source": [
    "# 3 вопрос\n",
    "def f(x,y):\n",
    "    return 7*x*(y**2)\n",
    "# res = integrate(f, (x, -100, 100),(y, x**2, (8*x)**(1/2)))\n",
    "\n",
    "v, err = integrate.dblquad(f, 0, 2, lambda x: x**2, lambda x:(8*x)**1/2)\n",
    "v"
   ]
  },
  {
   "cell_type": "code",
   "execution_count": 11,
   "metadata": {},
   "outputs": [
    {
     "data": {
      "text/plain": [
       "262.8810377105"
      ]
     },
     "execution_count": 11,
     "metadata": {},
     "output_type": "execute_result"
    }
   ],
   "source": [
    "# 4 вопрос - ответ 262\n",
    "\n",
    "f = (x+y)*E**(x-y+3)\n",
    "res = integrate(f, (x, 0, 2),(y, 0, 3))\n",
    "float(res)"
   ]
  },
  {
   "cell_type": "code",
   "execution_count": 13,
   "metadata": {},
   "outputs": [
    {
     "data": {
      "text/plain": [
       "2.718281828459045"
      ]
     },
     "execution_count": 13,
     "metadata": {},
     "output_type": "execute_result"
    }
   ],
   "source": [
    "float(E)"
   ]
  },
  {
   "cell_type": "code",
   "execution_count": 16,
   "metadata": {},
   "outputs": [
    {
     "data": {
      "text/plain": [
       "49.5"
      ]
     },
     "execution_count": 16,
     "metadata": {},
     "output_type": "execute_result"
    }
   ],
   "source": [
    "99/2"
   ]
  },
  {
   "cell_type": "code",
   "execution_count": 23,
   "metadata": {},
   "outputs": [
    {
     "data": {
      "text/latex": [
       "$\\displaystyle \\left(x^{2} + y^{2}\\right) e^{x^{2} + y^{2}}$"
      ],
      "text/plain": [
       "(x**2 + y**2)*exp(x**2 + y**2)"
      ]
     },
     "metadata": {},
     "output_type": "display_data"
    },
    {
     "data": {
      "text/plain": [
       "517.7170337847476"
      ]
     },
     "execution_count": 23,
     "metadata": {},
     "output_type": "execute_result"
    }
   ],
   "source": [
    "# Задание 7\n",
    "from sympy import *\n",
    "x, y, r, theta = symbols(\"x y r theta\")\n",
    "\n",
    "f = (x**2+y**2)*exp(x**2+y**2)\n",
    "display(f)\n",
    "\n",
    "f_polar = f.subs({x: r*cos(theta), y: r*sin(theta)}).simplify()*r\n",
    "result = integrate(f_polar, (r, 0, 2),(theta, 0, 2*pi))\n",
    "float(result)"
   ]
  },
  {
   "cell_type": "code",
   "execution_count": 24,
   "metadata": {},
   "outputs": [
    {
     "data": {
      "text/latex": [
       "$\\displaystyle \\log{\\left(x^{2} + y^{2} \\right)}$"
      ],
      "text/plain": [
       "log(x**2 + y**2)"
      ]
     },
     "metadata": {},
     "output_type": "display_data"
    },
    {
     "data": {
      "text/plain": [
       "79.78409018755328"
      ]
     },
     "execution_count": 24,
     "metadata": {},
     "output_type": "execute_result"
    }
   ],
   "source": [
    "# Задание 6\n",
    "\n",
    "from sympy import *\n",
    "x, y, r, theta = symbols(\"x y r theta\")\n",
    "\n",
    "f = ln(x**2+y**2)\n",
    "display(f)\n",
    "\n",
    "f_polar = f.subs({x: r*cos(theta), y: r*sin(theta)}).simplify()*r\n",
    "result = integrate(f_polar, (r, 1, 8),(theta, 0, pi/4))\n",
    "float(result)"
   ]
  },
  {
   "cell_type": "code",
   "execution_count": 26,
   "metadata": {},
   "outputs": [
    {
     "data": {
      "text/latex": [
       "$\\displaystyle \\frac{1}{x^{2} + y^{2} + 1}$"
      ],
      "text/plain": [
       "1/(x**2 + y**2 + 1)"
      ]
     },
     "metadata": {},
     "output_type": "display_data"
    },
    {
     "data": {
      "text/latex": [
       "$\\displaystyle \\frac{r}{r^{2} + 1}$"
      ],
      "text/plain": [
       "r/(r**2 + 1)"
      ]
     },
     "metadata": {},
     "output_type": "display_data"
    },
    {
     "data": {
      "text/plain": [
       "7.817435082030458"
      ]
     },
     "execution_count": 26,
     "metadata": {},
     "output_type": "execute_result"
    }
   ],
   "source": [
    "from sympy import *\n",
    "x, y, r, theta = symbols(\"x y r theta\")\n",
    "\n",
    "f = 1/(x**2+y**2+1)\n",
    "display(f)\n",
    "\n",
    "f_polar = f.subs({x: r*cos(theta), y: r*sin(theta)}).simplify()*r\n",
    "display(f_polar)\n",
    "result = integrate(f_polar, (r, 0, 12),(theta, 3*pi/4, 7*pi/4))\n",
    "float(result)"
   ]
  },
  {
   "cell_type": "code",
   "execution_count": null,
   "metadata": {},
   "outputs": [],
   "source": []
  }
 ],
 "metadata": {
  "interpreter": {
   "hash": "a33517d9d7dd072cede418c1d1656427de6858e0f2f8270c12eb9a099f89b41c"
  },
  "kernelspec": {
   "display_name": "Python 3.9.7 64-bit",
   "language": "python",
   "name": "python3"
  },
  "language_info": {
   "codemirror_mode": {
    "name": "ipython",
    "version": 3
   },
   "file_extension": ".py",
   "mimetype": "text/x-python",
   "name": "python",
   "nbconvert_exporter": "python",
   "pygments_lexer": "ipython3",
   "version": "3.9.7"
  },
  "orig_nbformat": 4
 },
 "nbformat": 4,
 "nbformat_minor": 2
}
