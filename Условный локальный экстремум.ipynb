{
 "cells": [
  {
   "cell_type": "code",
   "execution_count": 1,
   "metadata": {},
   "outputs": [
    {
     "data": {
      "text/plain": [
       "17.999799999999997"
      ]
     },
     "execution_count": 1,
     "metadata": {},
     "output_type": "execute_result"
    }
   ],
   "source": [
    "(1.7143 + 0.8571)*7"
   ]
  },
  {
   "cell_type": "code",
   "execution_count": 18,
   "metadata": {},
   "outputs": [
    {
     "name": "stdout",
     "output_type": "stream",
     "text": [
      "18.000000000000004\n"
     ]
    }
   ],
   "source": [
    "# Задание 2 ------ CVXPY ------\n",
    "\n",
    "import numpy as np\n",
    "import cvxpy as cvx\n",
    "\n",
    "# наши независимые переменные\n",
    "x,y = cvx.Variable(2)\n",
    "constraints = [2*x + 3*y == 6]\n",
    "# целевая функция и что с ней делать\n",
    "obj = cvx.Minimize(x**2 + 3*y**2)\n",
    "# формулируем задачу и решаем\n",
    "prob = cvx.Problem(obj, constraints)\n",
    "prob.solve()\n",
    "print((x.value+y.value)*7)"
   ]
  },
  {
   "cell_type": "code",
   "execution_count": null,
   "metadata": {},
   "outputs": [],
   "source": [
    "# Задание 2 ------ NUMPY ------\n",
    "# ограничения линейны --> \n",
    "import sympy \n",
    "\n",
    "x,y,Lamb = sympy.symbols('x y Lamb') \n",
    "\n",
    "fun = x**2 + 3*y**2 + Lamb*(2*x+ 3*y - 6) \n",
    "fun_x = fun.diff(x)\n",
    "fun_y = fun.diff(y)\n",
    "fun_Lamb = fun.diff(Lamb)\n",
    "\n",
    "display(fun_x)\n",
    "display(fun_y)\n",
    "display(fun_Lamb)\n",
    "\n",
    "import numpy as np\n",
    "a=np.mat('2,0,2;0,6,3;2,3,0')\n",
    "b=np.mat('0;0;6')\n",
    "c=np.linalg.solve(a,b)\n",
    "display(c)\n",
    "\n",
    "(c[0,0]+c[1,0])*7"
   ]
  },
  {
   "cell_type": "code",
   "execution_count": 38,
   "metadata": {},
   "outputs": [
    {
     "data": {
      "text/latex": [
       "$\\displaystyle 2 Lamb + 2 x$"
      ],
      "text/plain": [
       "2*Lamb + 2*x"
      ]
     },
     "metadata": {},
     "output_type": "display_data"
    },
    {
     "data": {
      "text/latex": [
       "$\\displaystyle 3 Lamb + 6 y$"
      ],
      "text/plain": [
       "3*Lamb + 6*y"
      ]
     },
     "metadata": {},
     "output_type": "display_data"
    },
    {
     "data": {
      "text/latex": [
       "$\\displaystyle 2 x + 3 y - 6$"
      ],
      "text/plain": [
       "2*x + 3*y - 6"
      ]
     },
     "metadata": {},
     "output_type": "display_data"
    },
    {
     "data": {
      "text/plain": [
       "{x: 12/7, y: 6/7, Lamb: -12/7}"
      ]
     },
     "execution_count": 38,
     "metadata": {},
     "output_type": "execute_result"
    }
   ],
   "source": [
    "# Задание 2 Solve\n",
    "\n",
    "fun = x**2 + 3*y**2 + Lamb*(2*x+ 3*y - 6) \n",
    "fun_x = fun.diff(x)\n",
    "fun_y = fun.diff(y)\n",
    "fun_Lamb = fun.diff(Lamb)\n",
    "\n",
    "display(fun_x)\n",
    "display(fun_y)\n",
    "display(fun_Lamb)\n",
    "\n",
    "sympy.solve([fun_x,fun_y,fun_Lamb],[x,y,Lamb])"
   ]
  },
  {
   "cell_type": "code",
   "execution_count": 40,
   "metadata": {},
   "outputs": [
    {
     "data": {
      "text/latex": [
       "$\\displaystyle 2 Lamb x - 10 x$"
      ],
      "text/plain": [
       "2*Lamb*x - 10*x"
      ]
     },
     "metadata": {},
     "output_type": "display_data"
    },
    {
     "data": {
      "text/latex": [
       "$\\displaystyle 32 Lamb y - 2 y$"
      ],
      "text/plain": [
       "32*Lamb*y - 2*y"
      ]
     },
     "metadata": {},
     "output_type": "display_data"
    },
    {
     "data": {
      "text/latex": [
       "$\\displaystyle x^{2} + 16 y^{2} - 16$"
      ],
      "text/plain": [
       "x**2 + 16*y**2 - 16"
      ]
     },
     "metadata": {},
     "output_type": "display_data"
    },
    {
     "data": {
      "text/plain": [
       "[(-4, 0, 5), (0, -1, 1/16), (0, 1, 1/16), (4, 0, 5)]"
      ]
     },
     "metadata": {},
     "output_type": "display_data"
    },
    {
     "name": "stdout",
     "output_type": "stream",
     "text": [
      "10\n"
     ]
    }
   ],
   "source": [
    "# Задание 3\n",
    "import sympy \n",
    "from scipy.optimize import fsolve\n",
    "\n",
    "x,y,Lamb = sympy.symbols('x y Lamb') \n",
    "\n",
    "fun = -5*x**2 - y**2 + Lamb*(x**2+16*y**2 - 16) \n",
    "fun_x = fun.diff(x)\n",
    "fun_y = fun.diff(y)\n",
    "fun_Lamb = fun.diff(Lamb)\n",
    "\n",
    "display(fun_x)\n",
    "display(fun_y)\n",
    "display(fun_Lamb)\n",
    "\n",
    "result = sympy.solve([fun_x,fun_y,fun_Lamb],[x,y,Lamb])\n",
    "display(result)\n",
    "\n",
    "s=0\n",
    "for r in result:\n",
    "    s+=abs(r[0]+r[1])\n",
    "print(s) "
   ]
  },
  {
   "cell_type": "code",
   "execution_count": 43,
   "metadata": {},
   "outputs": [
    {
     "data": {
      "text/latex": [
       "$\\displaystyle 3 Lamb - 4 x$"
      ],
      "text/plain": [
       "3*Lamb - 4*x"
      ]
     },
     "metadata": {},
     "output_type": "display_data"
    },
    {
     "data": {
      "text/latex": [
       "$\\displaystyle - 2 Lamb - 2 y$"
      ],
      "text/plain": [
       "-2*Lamb - 2*y"
      ]
     },
     "metadata": {},
     "output_type": "display_data"
    },
    {
     "data": {
      "text/latex": [
       "$\\displaystyle 3 x - 2 y - 6$"
      ],
      "text/plain": [
       "3*x - 2*y - 6"
      ]
     },
     "metadata": {},
     "output_type": "display_data"
    },
    {
     "data": {
      "text/plain": [
       "{x: 18/17, y: -24/17, Lamb: 24/17}"
      ]
     },
     "metadata": {},
     "output_type": "display_data"
    },
    {
     "data": {
      "text/plain": [
       "-6"
      ]
     },
     "execution_count": 43,
     "metadata": {},
     "output_type": "execute_result"
    }
   ],
   "source": [
    "# Задание 4\n",
    "\n",
    "x,y,Lamb = sympy.symbols('x y Lamb') \n",
    "\n",
    "fun = -2*x**2 - y**2 + Lamb*(3*x-2*y-6) \n",
    "fun_x = fun.diff(x)\n",
    "fun_y = fun.diff(y)\n",
    "fun_Lamb = fun.diff(Lamb)\n",
    "\n",
    "display(fun_x)\n",
    "display(fun_y)\n",
    "display(fun_Lamb)\n",
    "\n",
    "result = sympy.solve([fun_x,fun_y,fun_Lamb],[x,y,Lamb])\n",
    "display(result)\n",
    "\n",
    "18-24"
   ]
  },
  {
   "cell_type": "code",
   "execution_count": 46,
   "metadata": {},
   "outputs": [
    {
     "data": {
      "text/latex": [
       "$\\displaystyle 2 Lamb x + 1$"
      ],
      "text/plain": [
       "2*Lamb*x + 1"
      ]
     },
     "metadata": {},
     "output_type": "display_data"
    },
    {
     "data": {
      "text/latex": [
       "$\\displaystyle 72 Lamb y + 5$"
      ],
      "text/plain": [
       "72*Lamb*y + 5"
      ]
     },
     "metadata": {},
     "output_type": "display_data"
    },
    {
     "data": {
      "text/latex": [
       "$\\displaystyle x^{2} + 36 y^{2} - 61$"
      ],
      "text/plain": [
       "x**2 + 36*y**2 - 61"
      ]
     },
     "metadata": {},
     "output_type": "display_data"
    },
    {
     "data": {
      "text/plain": [
       "[(-6, -5/6, 1/12), (6, 5/6, -1/12)]"
      ]
     },
     "metadata": {},
     "output_type": "display_data"
    },
    {
     "name": "stdout",
     "output_type": "stream",
     "text": [
      "41\n"
     ]
    }
   ],
   "source": [
    "# Задание 5\n",
    "\n",
    "x,y,Lamb = sympy.symbols('x y Lamb') \n",
    "\n",
    "fun = x+5*y + Lamb*(x**2+36*y**2-61) \n",
    "fun_x = fun.diff(x)\n",
    "fun_y = fun.diff(y)\n",
    "fun_Lamb = fun.diff(Lamb)\n",
    "\n",
    "display(fun_x)\n",
    "display(fun_y)\n",
    "display(fun_Lamb)\n",
    "\n",
    "result = sympy.solve([fun_x,fun_y,fun_Lamb],[x,y,Lamb])\n",
    "display(result)\n",
    "\n",
    "s=0\n",
    "for r in result:\n",
    "    s+=abs(r[0]+r[1])\n",
    "print(s*3) "
   ]
  },
  {
   "cell_type": "code",
   "execution_count": 48,
   "metadata": {},
   "outputs": [
    {
     "data": {
      "text/latex": [
       "$\\displaystyle \\frac{2 Lamb x}{49} - 6 x$"
      ],
      "text/plain": [
       "2*Lamb*x/49 - 6*x"
      ]
     },
     "metadata": {},
     "output_type": "display_data"
    },
    {
     "data": {
      "text/latex": [
       "$\\displaystyle \\frac{Lamb y}{8} + 4 y$"
      ],
      "text/plain": [
       "Lamb*y/8 + 4*y"
      ]
     },
     "metadata": {},
     "output_type": "display_data"
    },
    {
     "data": {
      "text/latex": [
       "$\\displaystyle \\frac{x^{2}}{49} + \\frac{y^{2}}{16} + z^{2} - 1$"
      ],
      "text/plain": [
       "x**2/49 + y**2/16 + z**2 - 1"
      ]
     },
     "metadata": {},
     "output_type": "display_data"
    },
    {
     "data": {
      "text/plain": [
       "[(-7, 0, 0, 147),\n",
       " (0, -4, 0, -32),\n",
       " (0, 0, -1, 2),\n",
       " (0, 0, 1, 2),\n",
       " (0, 4, 0, -32),\n",
       " (7, 0, 0, 147)]"
      ]
     },
     "metadata": {},
     "output_type": "display_data"
    },
    {
     "name": "stdout",
     "output_type": "stream",
     "text": [
      "22\n"
     ]
    }
   ],
   "source": [
    "# Задание 6\n",
    "\n",
    "x,y,z,Lamb = sympy.symbols('x y z Lamb') \n",
    "\n",
    "fun = -3*x**2 + 2*y**2 -2*z**2 + Lamb*(x**2/49 + y**2/16 + z**2 -1) \n",
    "fun_x = fun.diff(x)\n",
    "fun_y = fun.diff(y)\n",
    "fun_z = fun.diff(z)\n",
    "fun_Lamb = fun.diff(Lamb)\n",
    "\n",
    "display(fun_x)\n",
    "display(fun_y)\n",
    "display(fun_Lamb)\n",
    "\n",
    "result = sympy.solve([fun_x,fun_y,fun_z,fun_Lamb],[x,y,z,Lamb])\n",
    "display(result)\n",
    "\n",
    "s=0\n",
    "for r in result:\n",
    "    s+=abs(r[0]+r[1])\n",
    "print(s) "
   ]
  },
  {
   "cell_type": "code",
   "execution_count": 16,
   "metadata": {},
   "outputs": [
    {
     "name": "stdout",
     "output_type": "stream",
     "text": [
      "Максимальное значение: 1.5396007243645415\n",
      "Оптимальное решение: [0.57735022 0.57735022 0.57735038]\n",
      "Успешно ли завершение итерации: True\n",
      "Причина прекращения итерации: Optimization terminated successfully\n"
     ]
    }
   ],
   "source": [
    "#пример из интернета\n",
    "\n",
    "from scipy.optimize import minimize, fsolve\n",
    "import numpy as np\n",
    "\n",
    "e = 1e-10 # Очень близко к 0\n",
    "\n",
    "fun = lambda x : 8 * (x[0] * x[1] * x[2]) # f(x,y,z) =8 *x*y*z\n",
    "\n",
    "cons = ({'type': 'eq', 'fun': lambda x: x[0]**2+ x[1]**2+ x[2]**2 - 1}, # x^2 + y^2 + z^2=1\n",
    "        {'type': 'ineq', 'fun': lambda x: x[0] - e}, # x> = e эквивалентно x> 0\n",
    "        {'type': 'ineq', 'fun': lambda x: x[1] - e},\n",
    "        {'type': 'ineq', 'fun': lambda x: x[2] - e}\n",
    "       )\n",
    "x0 = np.array((1.0, 1.0, 1.0)) # Установить начальное значение\n",
    "res = minimize(fun, x0, method='SLSQP', constraints=cons)\n",
    "\n",
    "print('Максимальное значение:',res.fun)\n",
    "print('Оптимальное решение:',res.x)\n",
    "print('Успешно ли завершение итерации:', res.success)\n",
    "print('Причина прекращения итерации:', res.message)\n",
    "\n",
    "#https://russianblogs.com/article/45811549700/"
   ]
  },
  {
   "cell_type": "code",
   "execution_count": null,
   "metadata": {},
   "outputs": [],
   "source": []
  },
  {
   "cell_type": "code",
   "execution_count": null,
   "metadata": {},
   "outputs": [],
   "source": []
  },
  {
   "cell_type": "code",
   "execution_count": null,
   "metadata": {},
   "outputs": [],
   "source": []
  }
 ],
 "metadata": {
  "interpreter": {
   "hash": "a33517d9d7dd072cede418c1d1656427de6858e0f2f8270c12eb9a099f89b41c"
  },
  "kernelspec": {
   "display_name": "Python 3.9.7 64-bit",
   "language": "python",
   "name": "python3"
  },
  "language_info": {
   "codemirror_mode": {
    "name": "ipython",
    "version": 3
   },
   "file_extension": ".py",
   "mimetype": "text/x-python",
   "name": "python",
   "nbconvert_exporter": "python",
   "pygments_lexer": "ipython3",
   "version": "3.9.7"
  },
  "orig_nbformat": 4
 },
 "nbformat": 4,
 "nbformat_minor": 2
}
