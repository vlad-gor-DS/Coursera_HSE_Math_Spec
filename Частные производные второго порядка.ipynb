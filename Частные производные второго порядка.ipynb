{
 "cells": [
  {
   "cell_type": "code",
   "execution_count": null,
   "metadata": {},
   "outputs": [],
   "source": [
    "#1. смешанной производной"
   ]
  },
  {
   "cell_type": "code",
   "execution_count": 1,
   "metadata": {},
   "outputs": [],
   "source": [
    "import sympy\n",
    "x,y,z = sympy.symbols('x y z')"
   ]
  },
  {
   "cell_type": "code",
   "execution_count": 2,
   "metadata": {},
   "outputs": [
    {
     "name": "stdout",
     "output_type": "stream",
     "text": [
      "14*(2*x + 3*y)/(3*x - y + 4)**3 - 13/(3*x - y + 4)**2\n"
     ]
    },
    {
     "data": {
      "text/latex": [
       "$\\displaystyle -69.0$"
      ],
      "text/plain": [
       "-69.0000000000000"
      ]
     },
     "execution_count": 2,
     "metadata": {},
     "output_type": "execute_result"
    }
   ],
   "source": [
    "f2 = (2*x+3*y)/(3*x-y+4)\n",
    "\n",
    "f2_xx = f2.diff(x).diff(x)\n",
    "f2_xy = f2.diff(x).diff(y)\n",
    "f2_yy = f2.diff(y).diff(y)\n",
    "\n",
    "res = f2_xx + f2_xy + f2_yy\n",
    "\n",
    "print(res)\n",
    "\n",
    "res.evalf(subs={x:-1, y:2})"
   ]
  },
  {
   "cell_type": "code",
   "execution_count": 5,
   "metadata": {},
   "outputs": [
    {
     "name": "stdout",
     "output_type": "stream",
     "text": [
      "-1.75*(54*x - 108*y)/(2*x + y + 2)**1.5 - 81.0/(2*x + y + 2)**0.5\n"
     ]
    },
    {
     "data": {
      "text/latex": [
       "$\\displaystyle -13.0$"
      ],
      "text/plain": [
       "-13.0000000000000"
      ]
     },
     "execution_count": 5,
     "metadata": {},
     "output_type": "execute_result"
    }
   ],
   "source": [
    "f2 = 54*(x-2*y)*((2*x+y+2)**(1/2))\n",
    "\n",
    "f2_xx = f2.diff(x).diff(x)\n",
    "f2_xy = f2.diff(x).diff(y)\n",
    "f2_yy = f2.diff(y).diff(y)\n",
    "\n",
    "res = f2_xx + f2_xy + f2_yy\n",
    "\n",
    "print(res)\n",
    "\n",
    "res.evalf(subs={x:2, y:3})"
   ]
  },
  {
   "cell_type": "code",
   "execution_count": 4,
   "metadata": {},
   "outputs": [
    {
     "name": "stdout",
     "output_type": "stream",
     "text": [
      "-(-x - 3*y)*exp(2*x - y + 1) + (2*x + 6*y)*exp(2*x - y + 1) + 3*exp(2*x - y + 1)\n"
     ]
    },
    {
     "data": {
      "text/latex": [
       "$\\displaystyle 33.0$"
      ],
      "text/plain": [
       "33.0000000000000"
      ]
     },
     "execution_count": 4,
     "metadata": {},
     "output_type": "execute_result"
    }
   ],
   "source": [
    "f2 = (x+3*y)*(sympy.E**(2*x-y+1))\n",
    "\n",
    "f2_xx = f2.diff(x).diff(x)\n",
    "f2_xy = f2.diff(x).diff(y)\n",
    "f2_yy = f2.diff(y).diff(y)\n",
    "\n",
    "res = f2_xx + f2_xy + f2_yy\n",
    "\n",
    "print(res)\n",
    "\n",
    "res.evalf(subs={x:1, y:3})"
   ]
  },
  {
   "cell_type": "code",
   "execution_count": null,
   "metadata": {},
   "outputs": [],
   "source": []
  }
 ],
 "metadata": {
  "interpreter": {
   "hash": "a33517d9d7dd072cede418c1d1656427de6858e0f2f8270c12eb9a099f89b41c"
  },
  "kernelspec": {
   "display_name": "Python 3.9.7 64-bit",
   "language": "python",
   "name": "python3"
  },
  "language_info": {
   "codemirror_mode": {
    "name": "ipython",
    "version": 3
   },
   "file_extension": ".py",
   "mimetype": "text/x-python",
   "name": "python",
   "nbconvert_exporter": "python",
   "pygments_lexer": "ipython3",
   "version": "3.9.7"
  },
  "orig_nbformat": 4
 },
 "nbformat": 4,
 "nbformat_minor": 2
}
