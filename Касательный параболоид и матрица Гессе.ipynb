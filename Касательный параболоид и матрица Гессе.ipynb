{
 "cells": [
  {
   "cell_type": "code",
   "execution_count": 1,
   "metadata": {},
   "outputs": [],
   "source": [
    "import sympy\n",
    "from sympy_utils import *\n",
    "import numpy as np\n",
    "\n",
    "x,y,z = sympy.symbols('x y z')"
   ]
  },
  {
   "cell_type": "code",
   "execution_count": 2,
   "metadata": {},
   "outputs": [
    {
     "data": {
      "text/latex": [
       "$\\displaystyle \\left[\\begin{matrix}12 x - 2 y & - 2 x - 8 y\\\\- 2 x - 8 y & - 8 x + 18 y\\end{matrix}\\right]$"
      ],
      "text/plain": [
       "Matrix([\n",
       "[12*x - 2*y,  -2*x - 8*y],\n",
       "[-2*x - 8*y, -8*x + 18*y]])"
      ]
     },
     "execution_count": 2,
     "metadata": {},
     "output_type": "execute_result"
    }
   ],
   "source": [
    "f = ((x-y)**2)*(2*x+3*y)\n",
    "a = {x:-1, y:2}\n",
    "\n",
    "sympy.hessian(f,(x,y))"
   ]
  },
  {
   "cell_type": "code",
   "execution_count": 3,
   "metadata": {},
   "outputs": [
    {
     "data": {
      "text/plain": [
       "[-6.00000000000000, 51.0000000000000]"
      ]
     },
     "execution_count": 3,
     "metadata": {},
     "output_type": "execute_result"
    }
   ],
   "source": [
    "[g.evalf(subs=a) for g in gradient(f)]"
   ]
  },
  {
   "cell_type": "code",
   "execution_count": 11,
   "metadata": {},
   "outputs": [],
   "source": [
    "# не сработало\n",
    "# f_a = f.evalf(subs=a)\n",
    "# print(f_a)\n",
    "# s_1=f_a\n",
    "\n",
    "# grad = [g.evalf(subs=a) for g in gradient(f)]\n",
    "# print(grad)\n",
    "\n",
    "# s2 = sympy.Matrix([grad])@(sympy.Matrix([x, y]) - sympy.Matrix([-1, 2]))\n",
    "# print(s2)\n",
    "\n",
    "# h1 = sympy.hessian(f,(x,y))\n",
    "# h1\n",
    "\n",
    "# h2 = h1.evalf(subs=a)\n",
    "# h2\n",
    "\n",
    "# h2@(sympy.Matrix([x, y]) - sympy.Matrix([-1, 2]))"
   ]
  },
  {
   "cell_type": "code",
   "execution_count": 28,
   "metadata": {},
   "outputs": [
    {
     "name": "stdout",
     "output_type": "stream",
     "text": [
      "36.0000000000000\n"
     ]
    },
    {
     "data": {
      "text/latex": [
       "$\\displaystyle - 6.0 x + 51.0 y - 108.0$"
      ],
      "text/plain": [
       "-6.0*x + 51.0*y - 108.0"
      ]
     },
     "execution_count": 28,
     "metadata": {},
     "output_type": "execute_result"
    }
   ],
   "source": [
    "f = ((x-y)**2)*(2*x+3*y)\n",
    "a = {x:-1, y:2}\n",
    "\n",
    "f_a = f.evalf(subs=a)\n",
    "print(f_a)\n",
    "s_1=f_a\n",
    "\n",
    "fx = f.diff(x)\n",
    "fy = f.diff(y)\n",
    "s_2 = fx.evalf(subs=a)*(x-a[x]) + fy.evalf(subs=a)*(y-a[y])\n",
    "s_2"
   ]
  },
  {
   "cell_type": "code",
   "execution_count": 29,
   "metadata": {},
   "outputs": [
    {
     "data": {
      "text/latex": [
       "$\\displaystyle 0.5 \\left(- 28.0 x - 28.0\\right) \\left(y - 2\\right) - 8.0 \\left(x + 1\\right)^{2} + 22.0 \\left(y - 2\\right)^{2}$"
      ],
      "text/plain": [
       "0.5*(-28.0*x - 28.0)*(y - 2) - 8.0*(x + 1)**2 + 22.0*(y - 2)**2"
      ]
     },
     "execution_count": 29,
     "metadata": {},
     "output_type": "execute_result"
    }
   ],
   "source": [
    "fxx = f.diff(x).diff(x).evalf(subs=a)\n",
    "fxy = f.diff(x).diff(y).evalf(subs=a)\n",
    "fyy = f.diff(y).diff(y).evalf(subs=a)\n",
    "\n",
    "s_3 = 0.5*(fxx*((x-a[x])**2) + 2*fxy*(x-a[x])*(y-a[y]) + fyy*((y-a[y])**2))\n",
    "s_3"
   ]
  },
  {
   "cell_type": "code",
   "execution_count": 30,
   "metadata": {},
   "outputs": [
    {
     "data": {
      "text/latex": [
       "$\\displaystyle \\operatorname{Poly}{\\left( -8.0 x^{2} - 14.0 xy + 6.0 x + 22.0 y^{2} - 51.0 y + 36.0, x, y, domain=\\mathbb{R} \\right)}$"
      ],
      "text/plain": [
       "Poly(-8.0*x**2 - 14.0*x*y + 6.0*x + 22.0*y**2 - 51.0*y + 36.0, x, y, domain='RR')"
      ]
     },
     "execution_count": 30,
     "metadata": {},
     "output_type": "execute_result"
    }
   ],
   "source": [
    "(s_1+s_2+s_3).as_poly()"
   ]
  },
  {
   "cell_type": "code",
   "execution_count": 31,
   "metadata": {},
   "outputs": [
    {
     "data": {
      "text/plain": [
       "-9"
      ]
     },
     "execution_count": 31,
     "metadata": {},
     "output_type": "execute_result"
    }
   ],
   "source": [
    "-8-14+6+22-51+36"
   ]
  },
  {
   "cell_type": "code",
   "execution_count": 37,
   "metadata": {},
   "outputs": [
    {
     "data": {
      "text/latex": [
       "$\\displaystyle \\left[\\begin{matrix}e^{x + 2 y + 3 z^{2}} & 2 e^{x + 2 y + 3 z^{2}} & 6 z e^{x + 2 y + 3 z^{2}}\\\\2 e^{x + 2 y + 3 z^{2}} & 4 e^{x + 2 y + 3 z^{2}} & 12 z e^{x + 2 y + 3 z^{2}}\\\\6 z e^{x + 2 y + 3 z^{2}} & 12 z e^{x + 2 y + 3 z^{2}} & 36 z^{2} e^{x + 2 y + 3 z^{2}} + 6 e^{x + 2 y + 3 z^{2}}\\end{matrix}\\right]$"
      ],
      "text/plain": [
       "Matrix([\n",
       "[    exp(x + 2*y + 3*z**2),    2*exp(x + 2*y + 3*z**2),                               6*z*exp(x + 2*y + 3*z**2)],\n",
       "[  2*exp(x + 2*y + 3*z**2),    4*exp(x + 2*y + 3*z**2),                              12*z*exp(x + 2*y + 3*z**2)],\n",
       "[6*z*exp(x + 2*y + 3*z**2), 12*z*exp(x + 2*y + 3*z**2), 36*z**2*exp(x + 2*y + 3*z**2) + 6*exp(x + 2*y + 3*z**2)]])"
      ]
     },
     "execution_count": 37,
     "metadata": {},
     "output_type": "execute_result"
    }
   ],
   "source": [
    "f_e = sympy.E**(x+2*y+3*z**2)\n",
    "\n",
    "a = {x:-1, y:-1, z:1}\n",
    "\n",
    "h1 = sympy.hessian(f_e,(x,y,z))\n",
    "h1"
   ]
  },
  {
   "cell_type": "code",
   "execution_count": 39,
   "metadata": {},
   "outputs": [
    {
     "data": {
      "text/latex": [
       "$\\displaystyle 87.0$"
      ],
      "text/plain": [
       "87.0000000000000"
      ]
     },
     "execution_count": 39,
     "metadata": {},
     "output_type": "execute_result"
    }
   ],
   "source": [
    "sum(h1.evalf(subs=a))"
   ]
  },
  {
   "cell_type": "code",
   "execution_count": null,
   "metadata": {},
   "outputs": [],
   "source": []
  }
 ],
 "metadata": {
  "interpreter": {
   "hash": "a33517d9d7dd072cede418c1d1656427de6858e0f2f8270c12eb9a099f89b41c"
  },
  "kernelspec": {
   "display_name": "Python 3.9.7 64-bit",
   "language": "python",
   "name": "python3"
  },
  "language_info": {
   "codemirror_mode": {
    "name": "ipython",
    "version": 3
   },
   "file_extension": ".py",
   "mimetype": "text/x-python",
   "name": "python",
   "nbconvert_exporter": "python",
   "pygments_lexer": "ipython3",
   "version": "3.9.7"
  },
  "orig_nbformat": 4
 },
 "nbformat": 4,
 "nbformat_minor": 2
}
